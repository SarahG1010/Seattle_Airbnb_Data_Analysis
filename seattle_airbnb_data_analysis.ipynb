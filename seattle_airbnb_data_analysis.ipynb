{
  "metadata": {
    "kernelspec": {
      "language": "python",
      "display_name": "Python 3",
      "name": "python3"
    },
    "language_info": {
      "name": "python",
      "version": "3.10.13",
      "mimetype": "text/x-python",
      "codemirror_mode": {
        "name": "ipython",
        "version": 3
      },
      "pygments_lexer": "ipython3",
      "nbconvert_exporter": "python",
      "file_extension": ".py"
    },
    "kaggle": {
      "accelerator": "none",
      "dataSources": [
        {
          "sourceId": 43835,
          "sourceType": "datasetVersion",
          "datasetId": 393
        }
      ],
      "dockerImageVersionId": 30684,
      "isInternetEnabled": true,
      "language": "python",
      "sourceType": "notebook",
      "isGpuEnabled": false
    },
    "colab": {
      "provenance": []
    }
  },
  "nbformat_minor": 0,
  "nbformat": 4,
  "cells": [
    {
      "cell_type": "code",
      "source": [
        "# import libraries\n",
        "import numpy as np # linear algebra\n",
        "import pandas as pd # data processing, CSV file I/O (e.g. pd.read_csv)\n",
        "import matplotlib.pyplot as plt\n",
        "import seaborn as sns\n",
        "\n"
      ],
      "metadata": {
        "_uuid": "8f2839f25d086af736a60e9eeb907d3b93b6e0e5",
        "_cell_guid": "b1076dfc-b9ad-4769-8c92-a6c4dae69d19",
        "execution": {
          "iopub.status.busy": "2024-04-19T03:27:47.153805Z",
          "iopub.status.idle": "2024-04-19T03:27:49.664353Z",
          "shell.execute_reply.started": "2024-04-19T03:27:47.154494Z",
          "shell.execute_reply": "2024-04-19T03:27:49.663302Z"
        },
        "trusted": true,
        "id": "LRoWi4pFvF9k"
      },
      "execution_count": null,
      "outputs": []
    },
    {
      "cell_type": "code",
      "source": [
        "from google.colab import drive\n",
        "drive.mount('/content/drive')"
      ],
      "metadata": {
        "colab": {
          "base_uri": "https://localhost:8080/"
        },
        "id": "XMjh1tUAvJ-2",
        "outputId": "13130909-2e4d-415e-d9a3-cbefe1df50db"
      },
      "execution_count": null,
      "outputs": [
        {
          "output_type": "stream",
          "name": "stdout",
          "text": [
            "Drive already mounted at /content/drive; to attempt to forcibly remount, call drive.mount(\"/content/drive\", force_remount=True).\n"
          ]
        }
      ]
    },
    {
      "cell_type": "markdown",
      "source": [
        "In this analysis, I will try to answer the following 3 questions:\n",
        "\n",
        "*  **What kinds of property are the favorate type in airbnb?**\n",
        "* **Which neighborhood are most popular?**\n",
        "* **How well can I predict the price(in airbnb) of a property based on the data?**"
      ],
      "metadata": {
        "id": "6jT0o7wJvF9n"
      }
    },
    {
      "cell_type": "markdown",
      "source": [
        "#### 1.Data Exploration\n",
        "In this part, I briefly check 3 datasets, the rows and columns in the datasets, and check if there are nulls or duplicates in rows or columns"
      ],
      "metadata": {
        "id": "ElSFSqT6vF9o"
      }
    },
    {
      "cell_type": "code",
      "source": [
        "# import datasets\n",
        "df_calendar = pd.read_csv('/content/drive/MyDrive/Colab Notebooks/Udacity_projects/ds_project/calendar.csv')\n",
        "df_listing = pd.read_csv('/content/drive/MyDrive/Colab Notebooks/Udacity_projects/ds_project/listings.csv')\n",
        "df_reviews = pd.read_csv('/content/drive/MyDrive/Colab Notebooks/Udacity_projects/ds_project/reviews.csv')"
      ],
      "metadata": {
        "execution": {
          "iopub.status.busy": "2024-04-19T03:27:49.666313Z",
          "iopub.execute_input": "2024-04-19T03:27:49.666798Z",
          "iopub.status.idle": "2024-04-19T03:27:52.304590Z",
          "shell.execute_reply.started": "2024-04-19T03:27:49.666769Z",
          "shell.execute_reply": "2024-04-19T03:27:52.303488Z"
        },
        "trusted": true,
        "id": "SOGgyjrwvF9o"
      },
      "execution_count": null,
      "outputs": []
    },
    {
      "cell_type": "code",
      "source": [
        "# explore columns in the datasets\n",
        "print(df_calendar.columns)\n",
        "print(df_listing.columns)\n",
        "print(df_reviews.columns)"
      ],
      "metadata": {
        "execution": {
          "iopub.status.busy": "2024-04-19T03:27:52.306391Z",
          "iopub.execute_input": "2024-04-19T03:27:52.307027Z",
          "iopub.status.idle": "2024-04-19T03:27:52.313582Z",
          "shell.execute_reply.started": "2024-04-19T03:27:52.306997Z",
          "shell.execute_reply": "2024-04-19T03:27:52.312614Z"
        },
        "trusted": true,
        "colab": {
          "base_uri": "https://localhost:8080/"
        },
        "id": "AJnTX0VFvF9p",
        "outputId": "16dcd334-a108-4490-af2a-6641950514ac"
      },
      "execution_count": null,
      "outputs": [
        {
          "output_type": "stream",
          "name": "stdout",
          "text": [
            "Index(['listing_id', 'date', 'available', 'price'], dtype='object')\n",
            "Index(['id', 'listing_url', 'scrape_id', 'last_scraped', 'name', 'summary',\n",
            "       'space', 'description', 'experiences_offered', 'neighborhood_overview',\n",
            "       'notes', 'transit', 'thumbnail_url', 'medium_url', 'picture_url',\n",
            "       'xl_picture_url', 'host_id', 'host_url', 'host_name', 'host_since',\n",
            "       'host_location', 'host_about', 'host_response_time',\n",
            "       'host_response_rate', 'host_acceptance_rate', 'host_is_superhost',\n",
            "       'host_thumbnail_url', 'host_picture_url', 'host_neighbourhood',\n",
            "       'host_listings_count', 'host_total_listings_count',\n",
            "       'host_verifications', 'host_has_profile_pic', 'host_identity_verified',\n",
            "       'street', 'neighbourhood', 'neighbourhood_cleansed',\n",
            "       'neighbourhood_group_cleansed', 'city', 'state', 'zipcode', 'market',\n",
            "       'smart_location', 'country_code', 'country', 'latitude', 'longitude',\n",
            "       'is_location_exact', 'property_type', 'room_type', 'accommodates',\n",
            "       'bathrooms', 'bedrooms', 'beds', 'bed_type', 'amenities', 'square_feet',\n",
            "       'price', 'weekly_price', 'monthly_price', 'security_deposit',\n",
            "       'cleaning_fee', 'guests_included', 'extra_people', 'minimum_nights',\n",
            "       'maximum_nights', 'calendar_updated', 'has_availability',\n",
            "       'availability_30', 'availability_60', 'availability_90',\n",
            "       'availability_365', 'calendar_last_scraped', 'number_of_reviews',\n",
            "       'first_review', 'last_review', 'review_scores_rating',\n",
            "       'review_scores_accuracy', 'review_scores_cleanliness',\n",
            "       'review_scores_checkin', 'review_scores_communication',\n",
            "       'review_scores_location', 'review_scores_value', 'requires_license',\n",
            "       'license', 'jurisdiction_names', 'instant_bookable',\n",
            "       'cancellation_policy', 'require_guest_profile_picture',\n",
            "       'require_guest_phone_verification', 'calculated_host_listings_count',\n",
            "       'reviews_per_month'],\n",
            "      dtype='object')\n",
            "Index(['listing_id', 'id', 'date', 'reviewer_id', 'reviewer_name', 'comments'], dtype='object')\n"
          ]
        }
      ]
    },
    {
      "cell_type": "markdown",
      "source": [
        "NOTE: It seems the 'listing.csv' has all the information I need to answer my 3 questions. So I will focus on analyze the 'listing.csv'."
      ],
      "metadata": {
        "id": "epm4onBjvF9p"
      }
    },
    {
      "cell_type": "code",
      "source": [
        "#Find out the rows and columns of the dataset\n",
        "df_listing.shape"
      ],
      "metadata": {
        "execution": {
          "iopub.status.busy": "2024-04-19T03:28:09.708575Z",
          "iopub.execute_input": "2024-04-19T03:28:09.709383Z",
          "iopub.status.idle": "2024-04-19T03:28:09.717548Z",
          "shell.execute_reply.started": "2024-04-19T03:28:09.709349Z",
          "shell.execute_reply": "2024-04-19T03:28:09.716350Z"
        },
        "trusted": true,
        "colab": {
          "base_uri": "https://localhost:8080/"
        },
        "id": "2AqniJ_yvF9p",
        "outputId": "4c583e74-0409-4ff3-94b5-a6a344a89202"
      },
      "execution_count": null,
      "outputs": [
        {
          "output_type": "execute_result",
          "data": {
            "text/plain": [
              "(3818, 92)"
            ]
          },
          "metadata": {},
          "execution_count": 78
        }
      ]
    },
    {
      "cell_type": "code",
      "source": [
        "#take a look at the datatype and check out null values for the dataset\n",
        "df_listing.info()"
      ],
      "metadata": {
        "execution": {
          "iopub.status.busy": "2024-04-19T03:28:15.744171Z",
          "iopub.execute_input": "2024-04-19T03:28:15.744589Z",
          "iopub.status.idle": "2024-04-19T03:28:15.802345Z",
          "shell.execute_reply.started": "2024-04-19T03:28:15.744559Z",
          "shell.execute_reply": "2024-04-19T03:28:15.801332Z"
        },
        "trusted": true,
        "colab": {
          "base_uri": "https://localhost:8080/"
        },
        "id": "HwaL6SBKvF9p",
        "outputId": "f05f021c-cbf4-4110-8f78-ae08893ce7e3"
      },
      "execution_count": null,
      "outputs": [
        {
          "output_type": "stream",
          "name": "stdout",
          "text": [
            "<class 'pandas.core.frame.DataFrame'>\n",
            "RangeIndex: 3818 entries, 0 to 3817\n",
            "Data columns (total 92 columns):\n",
            " #   Column                            Non-Null Count  Dtype  \n",
            "---  ------                            --------------  -----  \n",
            " 0   id                                3818 non-null   int64  \n",
            " 1   listing_url                       3818 non-null   object \n",
            " 2   scrape_id                         3818 non-null   int64  \n",
            " 3   last_scraped                      3818 non-null   object \n",
            " 4   name                              3818 non-null   object \n",
            " 5   summary                           3641 non-null   object \n",
            " 6   space                             3249 non-null   object \n",
            " 7   description                       3818 non-null   object \n",
            " 8   experiences_offered               3818 non-null   object \n",
            " 9   neighborhood_overview             2786 non-null   object \n",
            " 10  notes                             2212 non-null   object \n",
            " 11  transit                           2884 non-null   object \n",
            " 12  thumbnail_url                     3498 non-null   object \n",
            " 13  medium_url                        3498 non-null   object \n",
            " 14  picture_url                       3818 non-null   object \n",
            " 15  xl_picture_url                    3498 non-null   object \n",
            " 16  host_id                           3818 non-null   int64  \n",
            " 17  host_url                          3818 non-null   object \n",
            " 18  host_name                         3816 non-null   object \n",
            " 19  host_since                        3816 non-null   object \n",
            " 20  host_location                     3810 non-null   object \n",
            " 21  host_about                        2959 non-null   object \n",
            " 22  host_response_time                3295 non-null   object \n",
            " 23  host_response_rate                3295 non-null   object \n",
            " 24  host_acceptance_rate              3045 non-null   object \n",
            " 25  host_is_superhost                 3816 non-null   object \n",
            " 26  host_thumbnail_url                3816 non-null   object \n",
            " 27  host_picture_url                  3816 non-null   object \n",
            " 28  host_neighbourhood                3518 non-null   object \n",
            " 29  host_listings_count               3816 non-null   float64\n",
            " 30  host_total_listings_count         3816 non-null   float64\n",
            " 31  host_verifications                3816 non-null   object \n",
            " 32  host_has_profile_pic              3816 non-null   object \n",
            " 33  host_identity_verified            3816 non-null   object \n",
            " 34  street                            3818 non-null   object \n",
            " 35  neighbourhood                     3402 non-null   object \n",
            " 36  neighbourhood_cleansed            3818 non-null   object \n",
            " 37  neighbourhood_group_cleansed      3818 non-null   object \n",
            " 38  city                              3818 non-null   object \n",
            " 39  state                             3818 non-null   object \n",
            " 40  zipcode                           3811 non-null   object \n",
            " 41  market                            3818 non-null   object \n",
            " 42  smart_location                    3818 non-null   object \n",
            " 43  country_code                      3818 non-null   object \n",
            " 44  country                           3818 non-null   object \n",
            " 45  latitude                          3818 non-null   float64\n",
            " 46  longitude                         3818 non-null   float64\n",
            " 47  is_location_exact                 3818 non-null   object \n",
            " 48  property_type                     3817 non-null   object \n",
            " 49  room_type                         3818 non-null   object \n",
            " 50  accommodates                      3818 non-null   int64  \n",
            " 51  bathrooms                         3802 non-null   float64\n",
            " 52  bedrooms                          3812 non-null   float64\n",
            " 53  beds                              3817 non-null   float64\n",
            " 54  bed_type                          3818 non-null   object \n",
            " 55  amenities                         3818 non-null   object \n",
            " 56  square_feet                       97 non-null     float64\n",
            " 57  price                             3818 non-null   object \n",
            " 58  weekly_price                      2009 non-null   object \n",
            " 59  monthly_price                     1517 non-null   object \n",
            " 60  security_deposit                  1866 non-null   object \n",
            " 61  cleaning_fee                      2788 non-null   object \n",
            " 62  guests_included                   3818 non-null   int64  \n",
            " 63  extra_people                      3818 non-null   object \n",
            " 64  minimum_nights                    3818 non-null   int64  \n",
            " 65  maximum_nights                    3818 non-null   int64  \n",
            " 66  calendar_updated                  3818 non-null   object \n",
            " 67  has_availability                  3818 non-null   object \n",
            " 68  availability_30                   3818 non-null   int64  \n",
            " 69  availability_60                   3818 non-null   int64  \n",
            " 70  availability_90                   3818 non-null   int64  \n",
            " 71  availability_365                  3818 non-null   int64  \n",
            " 72  calendar_last_scraped             3818 non-null   object \n",
            " 73  number_of_reviews                 3818 non-null   int64  \n",
            " 74  first_review                      3191 non-null   object \n",
            " 75  last_review                       3191 non-null   object \n",
            " 76  review_scores_rating              3171 non-null   float64\n",
            " 77  review_scores_accuracy            3160 non-null   float64\n",
            " 78  review_scores_cleanliness         3165 non-null   float64\n",
            " 79  review_scores_checkin             3160 non-null   float64\n",
            " 80  review_scores_communication       3167 non-null   float64\n",
            " 81  review_scores_location            3163 non-null   float64\n",
            " 82  review_scores_value               3162 non-null   float64\n",
            " 83  requires_license                  3818 non-null   object \n",
            " 84  license                           0 non-null      float64\n",
            " 85  jurisdiction_names                3818 non-null   object \n",
            " 86  instant_bookable                  3818 non-null   object \n",
            " 87  cancellation_policy               3818 non-null   object \n",
            " 88  require_guest_profile_picture     3818 non-null   object \n",
            " 89  require_guest_phone_verification  3818 non-null   object \n",
            " 90  calculated_host_listings_count    3818 non-null   int64  \n",
            " 91  reviews_per_month                 3191 non-null   float64\n",
            "dtypes: float64(17), int64(13), object(62)\n",
            "memory usage: 2.7+ MB\n"
          ]
        }
      ]
    },
    {
      "cell_type": "code",
      "source": [
        "# check if there are duplicates in rows\n",
        "sum(df_listing.duplicated())\n"
      ],
      "metadata": {
        "execution": {
          "iopub.status.busy": "2024-04-19T03:28:26.008308Z",
          "iopub.execute_input": "2024-04-19T03:28:26.008700Z",
          "iopub.status.idle": "2024-04-19T03:28:26.079395Z",
          "shell.execute_reply.started": "2024-04-19T03:28:26.008668Z",
          "shell.execute_reply": "2024-04-19T03:28:26.078258Z"
        },
        "trusted": true,
        "colab": {
          "base_uri": "https://localhost:8080/"
        },
        "id": "H4W-5fKKvF9p",
        "outputId": "7ab37193-e6f7-4358-fd74-4a5b1fb6eaca"
      },
      "execution_count": null,
      "outputs": [
        {
          "output_type": "execute_result",
          "data": {
            "text/plain": [
              "0"
            ]
          },
          "metadata": {},
          "execution_count": 80
        }
      ]
    },
    {
      "cell_type": "code",
      "source": [
        "# check if there are duplicates in columns\n",
        "sum(df_listing.T.duplicated())"
      ],
      "metadata": {
        "execution": {
          "iopub.status.busy": "2024-04-19T03:28:28.360400Z",
          "iopub.execute_input": "2024-04-19T03:28:28.360743Z",
          "iopub.status.idle": "2024-04-19T03:28:28.988193Z",
          "shell.execute_reply.started": "2024-04-19T03:28:28.360716Z",
          "shell.execute_reply": "2024-04-19T03:28:28.986909Z"
        },
        "trusted": true,
        "colab": {
          "base_uri": "https://localhost:8080/"
        },
        "id": "XYzKEAbgvF9p",
        "outputId": "c6e1ce92-fe24-438e-f640-d7785e6fe100"
      },
      "execution_count": null,
      "outputs": [
        {
          "output_type": "execute_result",
          "data": {
            "text/plain": [
              "2"
            ]
          },
          "metadata": {},
          "execution_count": 81
        }
      ]
    },
    {
      "cell_type": "markdown",
      "source": [
        "#### 2. Data wrangling\n",
        "In this part,I will clean up the listing dataset,and prepare 3 sub-datasets for each of my questions. (Since listing dataset has so many columns, choose the necessary columns and create new datasets with the columns will save time and space for my analysis)"
      ],
      "metadata": {
        "id": "RoUZ83etvF9q"
      }
    },
    {
      "cell_type": "code",
      "source": [
        "#remove duplicated columns\n",
        "df = df_listing.T.drop_duplicates().T"
      ],
      "metadata": {
        "execution": {
          "iopub.status.busy": "2024-04-19T03:28:31.896282Z",
          "iopub.execute_input": "2024-04-19T03:28:31.896662Z",
          "iopub.status.idle": "2024-04-19T03:28:32.391117Z",
          "shell.execute_reply.started": "2024-04-19T03:28:31.896633Z",
          "shell.execute_reply": "2024-04-19T03:28:32.390003Z"
        },
        "trusted": true,
        "id": "5w_QY_CAvF9q"
      },
      "execution_count": null,
      "outputs": []
    },
    {
      "cell_type": "markdown",
      "source": [
        "* **Create subdatasets for each question**"
      ],
      "metadata": {
        "id": "LNV4Ubw_vF9q"
      }
    },
    {
      "cell_type": "code",
      "source": [
        "# create dataset-df1 for question 1 with necessary columns\n",
        "df1 = df[['id','room_type','property_type','bathrooms','bedrooms','number_of_reviews']]\n",
        "df1.head(2)"
      ],
      "metadata": {
        "execution": {
          "iopub.status.busy": "2024-04-19T03:28:34.873364Z",
          "iopub.execute_input": "2024-04-19T03:28:34.873753Z",
          "iopub.status.idle": "2024-04-19T03:28:34.893013Z",
          "shell.execute_reply.started": "2024-04-19T03:28:34.873722Z",
          "shell.execute_reply": "2024-04-19T03:28:34.891986Z"
        },
        "trusted": true,
        "colab": {
          "base_uri": "https://localhost:8080/",
          "height": 112
        },
        "id": "Qt36d3FZvF9q",
        "outputId": "0b8d36c7-b558-4291-ce00-3eb5bda5f500"
      },
      "execution_count": null,
      "outputs": [
        {
          "output_type": "execute_result",
          "data": {
            "text/plain": [
              "       id        room_type property_type bathrooms bedrooms number_of_reviews\n",
              "0  241032  Entire home/apt     Apartment       1.0      1.0               207\n",
              "1  953595  Entire home/apt     Apartment       1.0      1.0                43"
            ],
            "text/html": [
              "\n",
              "  <div id=\"df-d0cd4903-fd4e-4518-9218-94d2039207a9\" class=\"colab-df-container\">\n",
              "    <div>\n",
              "<style scoped>\n",
              "    .dataframe tbody tr th:only-of-type {\n",
              "        vertical-align: middle;\n",
              "    }\n",
              "\n",
              "    .dataframe tbody tr th {\n",
              "        vertical-align: top;\n",
              "    }\n",
              "\n",
              "    .dataframe thead th {\n",
              "        text-align: right;\n",
              "    }\n",
              "</style>\n",
              "<table border=\"1\" class=\"dataframe\">\n",
              "  <thead>\n",
              "    <tr style=\"text-align: right;\">\n",
              "      <th></th>\n",
              "      <th>id</th>\n",
              "      <th>room_type</th>\n",
              "      <th>property_type</th>\n",
              "      <th>bathrooms</th>\n",
              "      <th>bedrooms</th>\n",
              "      <th>number_of_reviews</th>\n",
              "    </tr>\n",
              "  </thead>\n",
              "  <tbody>\n",
              "    <tr>\n",
              "      <th>0</th>\n",
              "      <td>241032</td>\n",
              "      <td>Entire home/apt</td>\n",
              "      <td>Apartment</td>\n",
              "      <td>1.0</td>\n",
              "      <td>1.0</td>\n",
              "      <td>207</td>\n",
              "    </tr>\n",
              "    <tr>\n",
              "      <th>1</th>\n",
              "      <td>953595</td>\n",
              "      <td>Entire home/apt</td>\n",
              "      <td>Apartment</td>\n",
              "      <td>1.0</td>\n",
              "      <td>1.0</td>\n",
              "      <td>43</td>\n",
              "    </tr>\n",
              "  </tbody>\n",
              "</table>\n",
              "</div>\n",
              "    <div class=\"colab-df-buttons\">\n",
              "\n",
              "  <div class=\"colab-df-container\">\n",
              "    <button class=\"colab-df-convert\" onclick=\"convertToInteractive('df-d0cd4903-fd4e-4518-9218-94d2039207a9')\"\n",
              "            title=\"Convert this dataframe to an interactive table.\"\n",
              "            style=\"display:none;\">\n",
              "\n",
              "  <svg xmlns=\"http://www.w3.org/2000/svg\" height=\"24px\" viewBox=\"0 -960 960 960\">\n",
              "    <path d=\"M120-120v-720h720v720H120Zm60-500h600v-160H180v160Zm220 220h160v-160H400v160Zm0 220h160v-160H400v160ZM180-400h160v-160H180v160Zm440 0h160v-160H620v160ZM180-180h160v-160H180v160Zm440 0h160v-160H620v160Z\"/>\n",
              "  </svg>\n",
              "    </button>\n",
              "\n",
              "  <style>\n",
              "    .colab-df-container {\n",
              "      display:flex;\n",
              "      gap: 12px;\n",
              "    }\n",
              "\n",
              "    .colab-df-convert {\n",
              "      background-color: #E8F0FE;\n",
              "      border: none;\n",
              "      border-radius: 50%;\n",
              "      cursor: pointer;\n",
              "      display: none;\n",
              "      fill: #1967D2;\n",
              "      height: 32px;\n",
              "      padding: 0 0 0 0;\n",
              "      width: 32px;\n",
              "    }\n",
              "\n",
              "    .colab-df-convert:hover {\n",
              "      background-color: #E2EBFA;\n",
              "      box-shadow: 0px 1px 2px rgba(60, 64, 67, 0.3), 0px 1px 3px 1px rgba(60, 64, 67, 0.15);\n",
              "      fill: #174EA6;\n",
              "    }\n",
              "\n",
              "    .colab-df-buttons div {\n",
              "      margin-bottom: 4px;\n",
              "    }\n",
              "\n",
              "    [theme=dark] .colab-df-convert {\n",
              "      background-color: #3B4455;\n",
              "      fill: #D2E3FC;\n",
              "    }\n",
              "\n",
              "    [theme=dark] .colab-df-convert:hover {\n",
              "      background-color: #434B5C;\n",
              "      box-shadow: 0px 1px 3px 1px rgba(0, 0, 0, 0.15);\n",
              "      filter: drop-shadow(0px 1px 2px rgba(0, 0, 0, 0.3));\n",
              "      fill: #FFFFFF;\n",
              "    }\n",
              "  </style>\n",
              "\n",
              "    <script>\n",
              "      const buttonEl =\n",
              "        document.querySelector('#df-d0cd4903-fd4e-4518-9218-94d2039207a9 button.colab-df-convert');\n",
              "      buttonEl.style.display =\n",
              "        google.colab.kernel.accessAllowed ? 'block' : 'none';\n",
              "\n",
              "      async function convertToInteractive(key) {\n",
              "        const element = document.querySelector('#df-d0cd4903-fd4e-4518-9218-94d2039207a9');\n",
              "        const dataTable =\n",
              "          await google.colab.kernel.invokeFunction('convertToInteractive',\n",
              "                                                    [key], {});\n",
              "        if (!dataTable) return;\n",
              "\n",
              "        const docLinkHtml = 'Like what you see? Visit the ' +\n",
              "          '<a target=\"_blank\" href=https://colab.research.google.com/notebooks/data_table.ipynb>data table notebook</a>'\n",
              "          + ' to learn more about interactive tables.';\n",
              "        element.innerHTML = '';\n",
              "        dataTable['output_type'] = 'display_data';\n",
              "        await google.colab.output.renderOutput(dataTable, element);\n",
              "        const docLink = document.createElement('div');\n",
              "        docLink.innerHTML = docLinkHtml;\n",
              "        element.appendChild(docLink);\n",
              "      }\n",
              "    </script>\n",
              "  </div>\n",
              "\n",
              "\n",
              "<div id=\"df-3c429082-f550-4e13-9345-bb4b534f6ce9\">\n",
              "  <button class=\"colab-df-quickchart\" onclick=\"quickchart('df-3c429082-f550-4e13-9345-bb4b534f6ce9')\"\n",
              "            title=\"Suggest charts\"\n",
              "            style=\"display:none;\">\n",
              "\n",
              "<svg xmlns=\"http://www.w3.org/2000/svg\" height=\"24px\"viewBox=\"0 0 24 24\"\n",
              "     width=\"24px\">\n",
              "    <g>\n",
              "        <path d=\"M19 3H5c-1.1 0-2 .9-2 2v14c0 1.1.9 2 2 2h14c1.1 0 2-.9 2-2V5c0-1.1-.9-2-2-2zM9 17H7v-7h2v7zm4 0h-2V7h2v10zm4 0h-2v-4h2v4z\"/>\n",
              "    </g>\n",
              "</svg>\n",
              "  </button>\n",
              "\n",
              "<style>\n",
              "  .colab-df-quickchart {\n",
              "      --bg-color: #E8F0FE;\n",
              "      --fill-color: #1967D2;\n",
              "      --hover-bg-color: #E2EBFA;\n",
              "      --hover-fill-color: #174EA6;\n",
              "      --disabled-fill-color: #AAA;\n",
              "      --disabled-bg-color: #DDD;\n",
              "  }\n",
              "\n",
              "  [theme=dark] .colab-df-quickchart {\n",
              "      --bg-color: #3B4455;\n",
              "      --fill-color: #D2E3FC;\n",
              "      --hover-bg-color: #434B5C;\n",
              "      --hover-fill-color: #FFFFFF;\n",
              "      --disabled-bg-color: #3B4455;\n",
              "      --disabled-fill-color: #666;\n",
              "  }\n",
              "\n",
              "  .colab-df-quickchart {\n",
              "    background-color: var(--bg-color);\n",
              "    border: none;\n",
              "    border-radius: 50%;\n",
              "    cursor: pointer;\n",
              "    display: none;\n",
              "    fill: var(--fill-color);\n",
              "    height: 32px;\n",
              "    padding: 0;\n",
              "    width: 32px;\n",
              "  }\n",
              "\n",
              "  .colab-df-quickchart:hover {\n",
              "    background-color: var(--hover-bg-color);\n",
              "    box-shadow: 0 1px 2px rgba(60, 64, 67, 0.3), 0 1px 3px 1px rgba(60, 64, 67, 0.15);\n",
              "    fill: var(--button-hover-fill-color);\n",
              "  }\n",
              "\n",
              "  .colab-df-quickchart-complete:disabled,\n",
              "  .colab-df-quickchart-complete:disabled:hover {\n",
              "    background-color: var(--disabled-bg-color);\n",
              "    fill: var(--disabled-fill-color);\n",
              "    box-shadow: none;\n",
              "  }\n",
              "\n",
              "  .colab-df-spinner {\n",
              "    border: 2px solid var(--fill-color);\n",
              "    border-color: transparent;\n",
              "    border-bottom-color: var(--fill-color);\n",
              "    animation:\n",
              "      spin 1s steps(1) infinite;\n",
              "  }\n",
              "\n",
              "  @keyframes spin {\n",
              "    0% {\n",
              "      border-color: transparent;\n",
              "      border-bottom-color: var(--fill-color);\n",
              "      border-left-color: var(--fill-color);\n",
              "    }\n",
              "    20% {\n",
              "      border-color: transparent;\n",
              "      border-left-color: var(--fill-color);\n",
              "      border-top-color: var(--fill-color);\n",
              "    }\n",
              "    30% {\n",
              "      border-color: transparent;\n",
              "      border-left-color: var(--fill-color);\n",
              "      border-top-color: var(--fill-color);\n",
              "      border-right-color: var(--fill-color);\n",
              "    }\n",
              "    40% {\n",
              "      border-color: transparent;\n",
              "      border-right-color: var(--fill-color);\n",
              "      border-top-color: var(--fill-color);\n",
              "    }\n",
              "    60% {\n",
              "      border-color: transparent;\n",
              "      border-right-color: var(--fill-color);\n",
              "    }\n",
              "    80% {\n",
              "      border-color: transparent;\n",
              "      border-right-color: var(--fill-color);\n",
              "      border-bottom-color: var(--fill-color);\n",
              "    }\n",
              "    90% {\n",
              "      border-color: transparent;\n",
              "      border-bottom-color: var(--fill-color);\n",
              "    }\n",
              "  }\n",
              "</style>\n",
              "\n",
              "  <script>\n",
              "    async function quickchart(key) {\n",
              "      const quickchartButtonEl =\n",
              "        document.querySelector('#' + key + ' button');\n",
              "      quickchartButtonEl.disabled = true;  // To prevent multiple clicks.\n",
              "      quickchartButtonEl.classList.add('colab-df-spinner');\n",
              "      try {\n",
              "        const charts = await google.colab.kernel.invokeFunction(\n",
              "            'suggestCharts', [key], {});\n",
              "      } catch (error) {\n",
              "        console.error('Error during call to suggestCharts:', error);\n",
              "      }\n",
              "      quickchartButtonEl.classList.remove('colab-df-spinner');\n",
              "      quickchartButtonEl.classList.add('colab-df-quickchart-complete');\n",
              "    }\n",
              "    (() => {\n",
              "      let quickchartButtonEl =\n",
              "        document.querySelector('#df-3c429082-f550-4e13-9345-bb4b534f6ce9 button');\n",
              "      quickchartButtonEl.style.display =\n",
              "        google.colab.kernel.accessAllowed ? 'block' : 'none';\n",
              "    })();\n",
              "  </script>\n",
              "</div>\n",
              "\n",
              "    </div>\n",
              "  </div>\n"
            ],
            "application/vnd.google.colaboratory.intrinsic+json": {
              "type": "dataframe",
              "variable_name": "df1",
              "summary": "{\n  \"name\": \"df1\",\n  \"rows\": 3818,\n  \"fields\": [\n    {\n      \"column\": \"id\",\n      \"properties\": {\n        \"dtype\": \"date\",\n        \"min\": 3335,\n        \"max\": 10340165,\n        \"num_unique_values\": 3818,\n        \"samples\": [\n          8505940,\n          5270886,\n          1672979\n        ],\n        \"semantic_type\": \"\",\n        \"description\": \"\"\n      }\n    },\n    {\n      \"column\": \"room_type\",\n      \"properties\": {\n        \"dtype\": \"category\",\n        \"num_unique_values\": 3,\n        \"samples\": [\n          \"Entire home/apt\",\n          \"Private room\",\n          \"Shared room\"\n        ],\n        \"semantic_type\": \"\",\n        \"description\": \"\"\n      }\n    },\n    {\n      \"column\": \"property_type\",\n      \"properties\": {\n        \"dtype\": \"category\",\n        \"num_unique_values\": 16,\n        \"samples\": [\n          \"Apartment\",\n          \"House\",\n          \"Bungalow\"\n        ],\n        \"semantic_type\": \"\",\n        \"description\": \"\"\n      }\n    },\n    {\n      \"column\": \"bathrooms\",\n      \"properties\": {\n        \"dtype\": \"date\",\n        \"min\": 0.0,\n        \"max\": 8.0,\n        \"num_unique_values\": 12,\n        \"samples\": [\n          8.0,\n          0.0,\n          1.0\n        ],\n        \"semantic_type\": \"\",\n        \"description\": \"\"\n      }\n    },\n    {\n      \"column\": \"bedrooms\",\n      \"properties\": {\n        \"dtype\": \"date\",\n        \"min\": 0.0,\n        \"max\": 7.0,\n        \"num_unique_values\": 8,\n        \"samples\": [\n          5.0,\n          6.0,\n          1.0\n        ],\n        \"semantic_type\": \"\",\n        \"description\": \"\"\n      }\n    },\n    {\n      \"column\": \"number_of_reviews\",\n      \"properties\": {\n        \"dtype\": \"date\",\n        \"min\": 0,\n        \"max\": 474,\n        \"num_unique_values\": 195,\n        \"samples\": [\n          161,\n          45,\n          127\n        ],\n        \"semantic_type\": \"\",\n        \"description\": \"\"\n      }\n    }\n  ]\n}"
            }
          },
          "metadata": {},
          "execution_count": 83
        }
      ]
    },
    {
      "cell_type": "code",
      "source": [
        "# create dataset-df2 for question 2 with necessary columns\n",
        "df2 = df[['id','neighbourhood_group_cleansed','zipcode','number_of_reviews']]\n",
        "df2.head(2)"
      ],
      "metadata": {
        "execution": {
          "iopub.status.busy": "2024-04-19T03:34:25.853598Z",
          "iopub.execute_input": "2024-04-19T03:34:25.853992Z",
          "iopub.status.idle": "2024-04-19T03:34:25.867540Z",
          "shell.execute_reply.started": "2024-04-19T03:34:25.853955Z",
          "shell.execute_reply": "2024-04-19T03:34:25.866549Z"
        },
        "trusted": true,
        "colab": {
          "base_uri": "https://localhost:8080/",
          "height": 112
        },
        "id": "HUZ-A4E4vF9q",
        "outputId": "79a85717-0098-4bd4-8cb8-e55a11e8e3f1"
      },
      "execution_count": null,
      "outputs": [
        {
          "output_type": "execute_result",
          "data": {
            "text/plain": [
              "       id neighbourhood_group_cleansed zipcode number_of_reviews\n",
              "0  241032                   Queen Anne   98119               207\n",
              "1  953595                   Queen Anne   98119                43"
            ],
            "text/html": [
              "\n",
              "  <div id=\"df-046ac622-1fbb-47b2-b66a-8a63f9c584e1\" class=\"colab-df-container\">\n",
              "    <div>\n",
              "<style scoped>\n",
              "    .dataframe tbody tr th:only-of-type {\n",
              "        vertical-align: middle;\n",
              "    }\n",
              "\n",
              "    .dataframe tbody tr th {\n",
              "        vertical-align: top;\n",
              "    }\n",
              "\n",
              "    .dataframe thead th {\n",
              "        text-align: right;\n",
              "    }\n",
              "</style>\n",
              "<table border=\"1\" class=\"dataframe\">\n",
              "  <thead>\n",
              "    <tr style=\"text-align: right;\">\n",
              "      <th></th>\n",
              "      <th>id</th>\n",
              "      <th>neighbourhood_group_cleansed</th>\n",
              "      <th>zipcode</th>\n",
              "      <th>number_of_reviews</th>\n",
              "    </tr>\n",
              "  </thead>\n",
              "  <tbody>\n",
              "    <tr>\n",
              "      <th>0</th>\n",
              "      <td>241032</td>\n",
              "      <td>Queen Anne</td>\n",
              "      <td>98119</td>\n",
              "      <td>207</td>\n",
              "    </tr>\n",
              "    <tr>\n",
              "      <th>1</th>\n",
              "      <td>953595</td>\n",
              "      <td>Queen Anne</td>\n",
              "      <td>98119</td>\n",
              "      <td>43</td>\n",
              "    </tr>\n",
              "  </tbody>\n",
              "</table>\n",
              "</div>\n",
              "    <div class=\"colab-df-buttons\">\n",
              "\n",
              "  <div class=\"colab-df-container\">\n",
              "    <button class=\"colab-df-convert\" onclick=\"convertToInteractive('df-046ac622-1fbb-47b2-b66a-8a63f9c584e1')\"\n",
              "            title=\"Convert this dataframe to an interactive table.\"\n",
              "            style=\"display:none;\">\n",
              "\n",
              "  <svg xmlns=\"http://www.w3.org/2000/svg\" height=\"24px\" viewBox=\"0 -960 960 960\">\n",
              "    <path d=\"M120-120v-720h720v720H120Zm60-500h600v-160H180v160Zm220 220h160v-160H400v160Zm0 220h160v-160H400v160ZM180-400h160v-160H180v160Zm440 0h160v-160H620v160ZM180-180h160v-160H180v160Zm440 0h160v-160H620v160Z\"/>\n",
              "  </svg>\n",
              "    </button>\n",
              "\n",
              "  <style>\n",
              "    .colab-df-container {\n",
              "      display:flex;\n",
              "      gap: 12px;\n",
              "    }\n",
              "\n",
              "    .colab-df-convert {\n",
              "      background-color: #E8F0FE;\n",
              "      border: none;\n",
              "      border-radius: 50%;\n",
              "      cursor: pointer;\n",
              "      display: none;\n",
              "      fill: #1967D2;\n",
              "      height: 32px;\n",
              "      padding: 0 0 0 0;\n",
              "      width: 32px;\n",
              "    }\n",
              "\n",
              "    .colab-df-convert:hover {\n",
              "      background-color: #E2EBFA;\n",
              "      box-shadow: 0px 1px 2px rgba(60, 64, 67, 0.3), 0px 1px 3px 1px rgba(60, 64, 67, 0.15);\n",
              "      fill: #174EA6;\n",
              "    }\n",
              "\n",
              "    .colab-df-buttons div {\n",
              "      margin-bottom: 4px;\n",
              "    }\n",
              "\n",
              "    [theme=dark] .colab-df-convert {\n",
              "      background-color: #3B4455;\n",
              "      fill: #D2E3FC;\n",
              "    }\n",
              "\n",
              "    [theme=dark] .colab-df-convert:hover {\n",
              "      background-color: #434B5C;\n",
              "      box-shadow: 0px 1px 3px 1px rgba(0, 0, 0, 0.15);\n",
              "      filter: drop-shadow(0px 1px 2px rgba(0, 0, 0, 0.3));\n",
              "      fill: #FFFFFF;\n",
              "    }\n",
              "  </style>\n",
              "\n",
              "    <script>\n",
              "      const buttonEl =\n",
              "        document.querySelector('#df-046ac622-1fbb-47b2-b66a-8a63f9c584e1 button.colab-df-convert');\n",
              "      buttonEl.style.display =\n",
              "        google.colab.kernel.accessAllowed ? 'block' : 'none';\n",
              "\n",
              "      async function convertToInteractive(key) {\n",
              "        const element = document.querySelector('#df-046ac622-1fbb-47b2-b66a-8a63f9c584e1');\n",
              "        const dataTable =\n",
              "          await google.colab.kernel.invokeFunction('convertToInteractive',\n",
              "                                                    [key], {});\n",
              "        if (!dataTable) return;\n",
              "\n",
              "        const docLinkHtml = 'Like what you see? Visit the ' +\n",
              "          '<a target=\"_blank\" href=https://colab.research.google.com/notebooks/data_table.ipynb>data table notebook</a>'\n",
              "          + ' to learn more about interactive tables.';\n",
              "        element.innerHTML = '';\n",
              "        dataTable['output_type'] = 'display_data';\n",
              "        await google.colab.output.renderOutput(dataTable, element);\n",
              "        const docLink = document.createElement('div');\n",
              "        docLink.innerHTML = docLinkHtml;\n",
              "        element.appendChild(docLink);\n",
              "      }\n",
              "    </script>\n",
              "  </div>\n",
              "\n",
              "\n",
              "<div id=\"df-dc4182bd-ca21-4f74-a7b6-1e1510a4948b\">\n",
              "  <button class=\"colab-df-quickchart\" onclick=\"quickchart('df-dc4182bd-ca21-4f74-a7b6-1e1510a4948b')\"\n",
              "            title=\"Suggest charts\"\n",
              "            style=\"display:none;\">\n",
              "\n",
              "<svg xmlns=\"http://www.w3.org/2000/svg\" height=\"24px\"viewBox=\"0 0 24 24\"\n",
              "     width=\"24px\">\n",
              "    <g>\n",
              "        <path d=\"M19 3H5c-1.1 0-2 .9-2 2v14c0 1.1.9 2 2 2h14c1.1 0 2-.9 2-2V5c0-1.1-.9-2-2-2zM9 17H7v-7h2v7zm4 0h-2V7h2v10zm4 0h-2v-4h2v4z\"/>\n",
              "    </g>\n",
              "</svg>\n",
              "  </button>\n",
              "\n",
              "<style>\n",
              "  .colab-df-quickchart {\n",
              "      --bg-color: #E8F0FE;\n",
              "      --fill-color: #1967D2;\n",
              "      --hover-bg-color: #E2EBFA;\n",
              "      --hover-fill-color: #174EA6;\n",
              "      --disabled-fill-color: #AAA;\n",
              "      --disabled-bg-color: #DDD;\n",
              "  }\n",
              "\n",
              "  [theme=dark] .colab-df-quickchart {\n",
              "      --bg-color: #3B4455;\n",
              "      --fill-color: #D2E3FC;\n",
              "      --hover-bg-color: #434B5C;\n",
              "      --hover-fill-color: #FFFFFF;\n",
              "      --disabled-bg-color: #3B4455;\n",
              "      --disabled-fill-color: #666;\n",
              "  }\n",
              "\n",
              "  .colab-df-quickchart {\n",
              "    background-color: var(--bg-color);\n",
              "    border: none;\n",
              "    border-radius: 50%;\n",
              "    cursor: pointer;\n",
              "    display: none;\n",
              "    fill: var(--fill-color);\n",
              "    height: 32px;\n",
              "    padding: 0;\n",
              "    width: 32px;\n",
              "  }\n",
              "\n",
              "  .colab-df-quickchart:hover {\n",
              "    background-color: var(--hover-bg-color);\n",
              "    box-shadow: 0 1px 2px rgba(60, 64, 67, 0.3), 0 1px 3px 1px rgba(60, 64, 67, 0.15);\n",
              "    fill: var(--button-hover-fill-color);\n",
              "  }\n",
              "\n",
              "  .colab-df-quickchart-complete:disabled,\n",
              "  .colab-df-quickchart-complete:disabled:hover {\n",
              "    background-color: var(--disabled-bg-color);\n",
              "    fill: var(--disabled-fill-color);\n",
              "    box-shadow: none;\n",
              "  }\n",
              "\n",
              "  .colab-df-spinner {\n",
              "    border: 2px solid var(--fill-color);\n",
              "    border-color: transparent;\n",
              "    border-bottom-color: var(--fill-color);\n",
              "    animation:\n",
              "      spin 1s steps(1) infinite;\n",
              "  }\n",
              "\n",
              "  @keyframes spin {\n",
              "    0% {\n",
              "      border-color: transparent;\n",
              "      border-bottom-color: var(--fill-color);\n",
              "      border-left-color: var(--fill-color);\n",
              "    }\n",
              "    20% {\n",
              "      border-color: transparent;\n",
              "      border-left-color: var(--fill-color);\n",
              "      border-top-color: var(--fill-color);\n",
              "    }\n",
              "    30% {\n",
              "      border-color: transparent;\n",
              "      border-left-color: var(--fill-color);\n",
              "      border-top-color: var(--fill-color);\n",
              "      border-right-color: var(--fill-color);\n",
              "    }\n",
              "    40% {\n",
              "      border-color: transparent;\n",
              "      border-right-color: var(--fill-color);\n",
              "      border-top-color: var(--fill-color);\n",
              "    }\n",
              "    60% {\n",
              "      border-color: transparent;\n",
              "      border-right-color: var(--fill-color);\n",
              "    }\n",
              "    80% {\n",
              "      border-color: transparent;\n",
              "      border-right-color: var(--fill-color);\n",
              "      border-bottom-color: var(--fill-color);\n",
              "    }\n",
              "    90% {\n",
              "      border-color: transparent;\n",
              "      border-bottom-color: var(--fill-color);\n",
              "    }\n",
              "  }\n",
              "</style>\n",
              "\n",
              "  <script>\n",
              "    async function quickchart(key) {\n",
              "      const quickchartButtonEl =\n",
              "        document.querySelector('#' + key + ' button');\n",
              "      quickchartButtonEl.disabled = true;  // To prevent multiple clicks.\n",
              "      quickchartButtonEl.classList.add('colab-df-spinner');\n",
              "      try {\n",
              "        const charts = await google.colab.kernel.invokeFunction(\n",
              "            'suggestCharts', [key], {});\n",
              "      } catch (error) {\n",
              "        console.error('Error during call to suggestCharts:', error);\n",
              "      }\n",
              "      quickchartButtonEl.classList.remove('colab-df-spinner');\n",
              "      quickchartButtonEl.classList.add('colab-df-quickchart-complete');\n",
              "    }\n",
              "    (() => {\n",
              "      let quickchartButtonEl =\n",
              "        document.querySelector('#df-dc4182bd-ca21-4f74-a7b6-1e1510a4948b button');\n",
              "      quickchartButtonEl.style.display =\n",
              "        google.colab.kernel.accessAllowed ? 'block' : 'none';\n",
              "    })();\n",
              "  </script>\n",
              "</div>\n",
              "\n",
              "    </div>\n",
              "  </div>\n"
            ],
            "application/vnd.google.colaboratory.intrinsic+json": {
              "type": "dataframe",
              "variable_name": "df2",
              "summary": "{\n  \"name\": \"df2\",\n  \"rows\": 3818,\n  \"fields\": [\n    {\n      \"column\": \"id\",\n      \"properties\": {\n        \"dtype\": \"date\",\n        \"min\": 3335,\n        \"max\": 10340165,\n        \"num_unique_values\": 3818,\n        \"samples\": [\n          8505940,\n          5270886,\n          1672979\n        ],\n        \"semantic_type\": \"\",\n        \"description\": \"\"\n      }\n    },\n    {\n      \"column\": \"neighbourhood_group_cleansed\",\n      \"properties\": {\n        \"dtype\": \"category\",\n        \"num_unique_values\": 17,\n        \"samples\": [\n          \"Queen Anne\",\n          \"Ballard\",\n          \"University District\"\n        ],\n        \"semantic_type\": \"\",\n        \"description\": \"\"\n      }\n    },\n    {\n      \"column\": \"zipcode\",\n      \"properties\": {\n        \"dtype\": \"category\",\n        \"num_unique_values\": 28,\n        \"samples\": [\n          \"98112\",\n          \"98106\",\n          \"98122\"\n        ],\n        \"semantic_type\": \"\",\n        \"description\": \"\"\n      }\n    },\n    {\n      \"column\": \"number_of_reviews\",\n      \"properties\": {\n        \"dtype\": \"date\",\n        \"min\": 0,\n        \"max\": 474,\n        \"num_unique_values\": 195,\n        \"samples\": [\n          161,\n          45,\n          127\n        ],\n        \"semantic_type\": \"\",\n        \"description\": \"\"\n      }\n    }\n  ]\n}"
            }
          },
          "metadata": {},
          "execution_count": 84
        }
      ]
    },
    {
      "cell_type": "code",
      "source": [
        "# create dataset-df3 for question 3 with necessary columns\n",
        "df3 = df[['id','room_type','property_type','bathrooms','bedrooms','accommodates','amenities','neighbourhood_group_cleansed','zipcode','price','number_of_reviews','review_scores_rating']]\n",
        "df3.head(2)"
      ],
      "metadata": {
        "execution": {
          "iopub.status.busy": "2024-04-19T04:54:08.909550Z",
          "iopub.execute_input": "2024-04-19T04:54:08.910603Z",
          "iopub.status.idle": "2024-04-19T04:54:08.929303Z",
          "shell.execute_reply.started": "2024-04-19T04:54:08.910572Z",
          "shell.execute_reply": "2024-04-19T04:54:08.928024Z"
        },
        "trusted": true,
        "colab": {
          "base_uri": "https://localhost:8080/",
          "height": 184
        },
        "id": "0FspItEbvF9q",
        "outputId": "2668a6e9-58ea-4379-8c6e-d0a39fe581a1"
      },
      "execution_count": null,
      "outputs": [
        {
          "output_type": "execute_result",
          "data": {
            "text/plain": [
              "       id        room_type property_type bathrooms bedrooms accommodates  \\\n",
              "0  241032  Entire home/apt     Apartment       1.0      1.0            4   \n",
              "1  953595  Entire home/apt     Apartment       1.0      1.0            4   \n",
              "\n",
              "                                           amenities  \\\n",
              "0  {TV,\"Cable TV\",Internet,\"Wireless Internet\",\"A...   \n",
              "1  {TV,Internet,\"Wireless Internet\",Kitchen,\"Free...   \n",
              "\n",
              "  neighbourhood_group_cleansed zipcode    price number_of_reviews  \\\n",
              "0                   Queen Anne   98119   $85.00               207   \n",
              "1                   Queen Anne   98119  $150.00                43   \n",
              "\n",
              "  review_scores_rating  \n",
              "0                 95.0  \n",
              "1                 96.0  "
            ],
            "text/html": [
              "\n",
              "  <div id=\"df-04ab54bd-d92d-4e1c-8204-11b929f77f43\" class=\"colab-df-container\">\n",
              "    <div>\n",
              "<style scoped>\n",
              "    .dataframe tbody tr th:only-of-type {\n",
              "        vertical-align: middle;\n",
              "    }\n",
              "\n",
              "    .dataframe tbody tr th {\n",
              "        vertical-align: top;\n",
              "    }\n",
              "\n",
              "    .dataframe thead th {\n",
              "        text-align: right;\n",
              "    }\n",
              "</style>\n",
              "<table border=\"1\" class=\"dataframe\">\n",
              "  <thead>\n",
              "    <tr style=\"text-align: right;\">\n",
              "      <th></th>\n",
              "      <th>id</th>\n",
              "      <th>room_type</th>\n",
              "      <th>property_type</th>\n",
              "      <th>bathrooms</th>\n",
              "      <th>bedrooms</th>\n",
              "      <th>accommodates</th>\n",
              "      <th>amenities</th>\n",
              "      <th>neighbourhood_group_cleansed</th>\n",
              "      <th>zipcode</th>\n",
              "      <th>price</th>\n",
              "      <th>number_of_reviews</th>\n",
              "      <th>review_scores_rating</th>\n",
              "    </tr>\n",
              "  </thead>\n",
              "  <tbody>\n",
              "    <tr>\n",
              "      <th>0</th>\n",
              "      <td>241032</td>\n",
              "      <td>Entire home/apt</td>\n",
              "      <td>Apartment</td>\n",
              "      <td>1.0</td>\n",
              "      <td>1.0</td>\n",
              "      <td>4</td>\n",
              "      <td>{TV,\"Cable TV\",Internet,\"Wireless Internet\",\"A...</td>\n",
              "      <td>Queen Anne</td>\n",
              "      <td>98119</td>\n",
              "      <td>$85.00</td>\n",
              "      <td>207</td>\n",
              "      <td>95.0</td>\n",
              "    </tr>\n",
              "    <tr>\n",
              "      <th>1</th>\n",
              "      <td>953595</td>\n",
              "      <td>Entire home/apt</td>\n",
              "      <td>Apartment</td>\n",
              "      <td>1.0</td>\n",
              "      <td>1.0</td>\n",
              "      <td>4</td>\n",
              "      <td>{TV,Internet,\"Wireless Internet\",Kitchen,\"Free...</td>\n",
              "      <td>Queen Anne</td>\n",
              "      <td>98119</td>\n",
              "      <td>$150.00</td>\n",
              "      <td>43</td>\n",
              "      <td>96.0</td>\n",
              "    </tr>\n",
              "  </tbody>\n",
              "</table>\n",
              "</div>\n",
              "    <div class=\"colab-df-buttons\">\n",
              "\n",
              "  <div class=\"colab-df-container\">\n",
              "    <button class=\"colab-df-convert\" onclick=\"convertToInteractive('df-04ab54bd-d92d-4e1c-8204-11b929f77f43')\"\n",
              "            title=\"Convert this dataframe to an interactive table.\"\n",
              "            style=\"display:none;\">\n",
              "\n",
              "  <svg xmlns=\"http://www.w3.org/2000/svg\" height=\"24px\" viewBox=\"0 -960 960 960\">\n",
              "    <path d=\"M120-120v-720h720v720H120Zm60-500h600v-160H180v160Zm220 220h160v-160H400v160Zm0 220h160v-160H400v160ZM180-400h160v-160H180v160Zm440 0h160v-160H620v160ZM180-180h160v-160H180v160Zm440 0h160v-160H620v160Z\"/>\n",
              "  </svg>\n",
              "    </button>\n",
              "\n",
              "  <style>\n",
              "    .colab-df-container {\n",
              "      display:flex;\n",
              "      gap: 12px;\n",
              "    }\n",
              "\n",
              "    .colab-df-convert {\n",
              "      background-color: #E8F0FE;\n",
              "      border: none;\n",
              "      border-radius: 50%;\n",
              "      cursor: pointer;\n",
              "      display: none;\n",
              "      fill: #1967D2;\n",
              "      height: 32px;\n",
              "      padding: 0 0 0 0;\n",
              "      width: 32px;\n",
              "    }\n",
              "\n",
              "    .colab-df-convert:hover {\n",
              "      background-color: #E2EBFA;\n",
              "      box-shadow: 0px 1px 2px rgba(60, 64, 67, 0.3), 0px 1px 3px 1px rgba(60, 64, 67, 0.15);\n",
              "      fill: #174EA6;\n",
              "    }\n",
              "\n",
              "    .colab-df-buttons div {\n",
              "      margin-bottom: 4px;\n",
              "    }\n",
              "\n",
              "    [theme=dark] .colab-df-convert {\n",
              "      background-color: #3B4455;\n",
              "      fill: #D2E3FC;\n",
              "    }\n",
              "\n",
              "    [theme=dark] .colab-df-convert:hover {\n",
              "      background-color: #434B5C;\n",
              "      box-shadow: 0px 1px 3px 1px rgba(0, 0, 0, 0.15);\n",
              "      filter: drop-shadow(0px 1px 2px rgba(0, 0, 0, 0.3));\n",
              "      fill: #FFFFFF;\n",
              "    }\n",
              "  </style>\n",
              "\n",
              "    <script>\n",
              "      const buttonEl =\n",
              "        document.querySelector('#df-04ab54bd-d92d-4e1c-8204-11b929f77f43 button.colab-df-convert');\n",
              "      buttonEl.style.display =\n",
              "        google.colab.kernel.accessAllowed ? 'block' : 'none';\n",
              "\n",
              "      async function convertToInteractive(key) {\n",
              "        const element = document.querySelector('#df-04ab54bd-d92d-4e1c-8204-11b929f77f43');\n",
              "        const dataTable =\n",
              "          await google.colab.kernel.invokeFunction('convertToInteractive',\n",
              "                                                    [key], {});\n",
              "        if (!dataTable) return;\n",
              "\n",
              "        const docLinkHtml = 'Like what you see? Visit the ' +\n",
              "          '<a target=\"_blank\" href=https://colab.research.google.com/notebooks/data_table.ipynb>data table notebook</a>'\n",
              "          + ' to learn more about interactive tables.';\n",
              "        element.innerHTML = '';\n",
              "        dataTable['output_type'] = 'display_data';\n",
              "        await google.colab.output.renderOutput(dataTable, element);\n",
              "        const docLink = document.createElement('div');\n",
              "        docLink.innerHTML = docLinkHtml;\n",
              "        element.appendChild(docLink);\n",
              "      }\n",
              "    </script>\n",
              "  </div>\n",
              "\n",
              "\n",
              "<div id=\"df-a0482bcd-858a-484f-87cd-a4baf8ea8397\">\n",
              "  <button class=\"colab-df-quickchart\" onclick=\"quickchart('df-a0482bcd-858a-484f-87cd-a4baf8ea8397')\"\n",
              "            title=\"Suggest charts\"\n",
              "            style=\"display:none;\">\n",
              "\n",
              "<svg xmlns=\"http://www.w3.org/2000/svg\" height=\"24px\"viewBox=\"0 0 24 24\"\n",
              "     width=\"24px\">\n",
              "    <g>\n",
              "        <path d=\"M19 3H5c-1.1 0-2 .9-2 2v14c0 1.1.9 2 2 2h14c1.1 0 2-.9 2-2V5c0-1.1-.9-2-2-2zM9 17H7v-7h2v7zm4 0h-2V7h2v10zm4 0h-2v-4h2v4z\"/>\n",
              "    </g>\n",
              "</svg>\n",
              "  </button>\n",
              "\n",
              "<style>\n",
              "  .colab-df-quickchart {\n",
              "      --bg-color: #E8F0FE;\n",
              "      --fill-color: #1967D2;\n",
              "      --hover-bg-color: #E2EBFA;\n",
              "      --hover-fill-color: #174EA6;\n",
              "      --disabled-fill-color: #AAA;\n",
              "      --disabled-bg-color: #DDD;\n",
              "  }\n",
              "\n",
              "  [theme=dark] .colab-df-quickchart {\n",
              "      --bg-color: #3B4455;\n",
              "      --fill-color: #D2E3FC;\n",
              "      --hover-bg-color: #434B5C;\n",
              "      --hover-fill-color: #FFFFFF;\n",
              "      --disabled-bg-color: #3B4455;\n",
              "      --disabled-fill-color: #666;\n",
              "  }\n",
              "\n",
              "  .colab-df-quickchart {\n",
              "    background-color: var(--bg-color);\n",
              "    border: none;\n",
              "    border-radius: 50%;\n",
              "    cursor: pointer;\n",
              "    display: none;\n",
              "    fill: var(--fill-color);\n",
              "    height: 32px;\n",
              "    padding: 0;\n",
              "    width: 32px;\n",
              "  }\n",
              "\n",
              "  .colab-df-quickchart:hover {\n",
              "    background-color: var(--hover-bg-color);\n",
              "    box-shadow: 0 1px 2px rgba(60, 64, 67, 0.3), 0 1px 3px 1px rgba(60, 64, 67, 0.15);\n",
              "    fill: var(--button-hover-fill-color);\n",
              "  }\n",
              "\n",
              "  .colab-df-quickchart-complete:disabled,\n",
              "  .colab-df-quickchart-complete:disabled:hover {\n",
              "    background-color: var(--disabled-bg-color);\n",
              "    fill: var(--disabled-fill-color);\n",
              "    box-shadow: none;\n",
              "  }\n",
              "\n",
              "  .colab-df-spinner {\n",
              "    border: 2px solid var(--fill-color);\n",
              "    border-color: transparent;\n",
              "    border-bottom-color: var(--fill-color);\n",
              "    animation:\n",
              "      spin 1s steps(1) infinite;\n",
              "  }\n",
              "\n",
              "  @keyframes spin {\n",
              "    0% {\n",
              "      border-color: transparent;\n",
              "      border-bottom-color: var(--fill-color);\n",
              "      border-left-color: var(--fill-color);\n",
              "    }\n",
              "    20% {\n",
              "      border-color: transparent;\n",
              "      border-left-color: var(--fill-color);\n",
              "      border-top-color: var(--fill-color);\n",
              "    }\n",
              "    30% {\n",
              "      border-color: transparent;\n",
              "      border-left-color: var(--fill-color);\n",
              "      border-top-color: var(--fill-color);\n",
              "      border-right-color: var(--fill-color);\n",
              "    }\n",
              "    40% {\n",
              "      border-color: transparent;\n",
              "      border-right-color: var(--fill-color);\n",
              "      border-top-color: var(--fill-color);\n",
              "    }\n",
              "    60% {\n",
              "      border-color: transparent;\n",
              "      border-right-color: var(--fill-color);\n",
              "    }\n",
              "    80% {\n",
              "      border-color: transparent;\n",
              "      border-right-color: var(--fill-color);\n",
              "      border-bottom-color: var(--fill-color);\n",
              "    }\n",
              "    90% {\n",
              "      border-color: transparent;\n",
              "      border-bottom-color: var(--fill-color);\n",
              "    }\n",
              "  }\n",
              "</style>\n",
              "\n",
              "  <script>\n",
              "    async function quickchart(key) {\n",
              "      const quickchartButtonEl =\n",
              "        document.querySelector('#' + key + ' button');\n",
              "      quickchartButtonEl.disabled = true;  // To prevent multiple clicks.\n",
              "      quickchartButtonEl.classList.add('colab-df-spinner');\n",
              "      try {\n",
              "        const charts = await google.colab.kernel.invokeFunction(\n",
              "            'suggestCharts', [key], {});\n",
              "      } catch (error) {\n",
              "        console.error('Error during call to suggestCharts:', error);\n",
              "      }\n",
              "      quickchartButtonEl.classList.remove('colab-df-spinner');\n",
              "      quickchartButtonEl.classList.add('colab-df-quickchart-complete');\n",
              "    }\n",
              "    (() => {\n",
              "      let quickchartButtonEl =\n",
              "        document.querySelector('#df-a0482bcd-858a-484f-87cd-a4baf8ea8397 button');\n",
              "      quickchartButtonEl.style.display =\n",
              "        google.colab.kernel.accessAllowed ? 'block' : 'none';\n",
              "    })();\n",
              "  </script>\n",
              "</div>\n",
              "\n",
              "    </div>\n",
              "  </div>\n"
            ],
            "application/vnd.google.colaboratory.intrinsic+json": {
              "type": "dataframe",
              "variable_name": "df3",
              "summary": "{\n  \"name\": \"df3\",\n  \"rows\": 3818,\n  \"fields\": [\n    {\n      \"column\": \"id\",\n      \"properties\": {\n        \"dtype\": \"date\",\n        \"min\": 3335,\n        \"max\": 10340165,\n        \"num_unique_values\": 3818,\n        \"samples\": [\n          8505940,\n          5270886,\n          1672979\n        ],\n        \"semantic_type\": \"\",\n        \"description\": \"\"\n      }\n    },\n    {\n      \"column\": \"room_type\",\n      \"properties\": {\n        \"dtype\": \"category\",\n        \"num_unique_values\": 3,\n        \"samples\": [\n          \"Entire home/apt\",\n          \"Private room\",\n          \"Shared room\"\n        ],\n        \"semantic_type\": \"\",\n        \"description\": \"\"\n      }\n    },\n    {\n      \"column\": \"property_type\",\n      \"properties\": {\n        \"dtype\": \"category\",\n        \"num_unique_values\": 16,\n        \"samples\": [\n          \"Apartment\",\n          \"House\",\n          \"Bungalow\"\n        ],\n        \"semantic_type\": \"\",\n        \"description\": \"\"\n      }\n    },\n    {\n      \"column\": \"bathrooms\",\n      \"properties\": {\n        \"dtype\": \"date\",\n        \"min\": 0.0,\n        \"max\": 8.0,\n        \"num_unique_values\": 12,\n        \"samples\": [\n          8.0,\n          0.0,\n          1.0\n        ],\n        \"semantic_type\": \"\",\n        \"description\": \"\"\n      }\n    },\n    {\n      \"column\": \"bedrooms\",\n      \"properties\": {\n        \"dtype\": \"date\",\n        \"min\": 0.0,\n        \"max\": 7.0,\n        \"num_unique_values\": 8,\n        \"samples\": [\n          5.0,\n          6.0,\n          1.0\n        ],\n        \"semantic_type\": \"\",\n        \"description\": \"\"\n      }\n    },\n    {\n      \"column\": \"accommodates\",\n      \"properties\": {\n        \"dtype\": \"date\",\n        \"min\": 1,\n        \"max\": 16,\n        \"num_unique_values\": 15,\n        \"samples\": [\n          8,\n          12,\n          4\n        ],\n        \"semantic_type\": \"\",\n        \"description\": \"\"\n      }\n    },\n    {\n      \"column\": \"amenities\",\n      \"properties\": {\n        \"dtype\": \"string\",\n        \"num_unique_values\": 3284,\n        \"samples\": [\n          \"{TV,\\\"Wireless Internet\\\",Kitchen,\\\"Free Parking on Premises\\\",Heating,Washer,Dryer,\\\"Smoke Detector\\\",\\\"Lock on Bedroom Door\\\",\\\"24-Hour Check-in\\\",\\\"Laptop Friendly Workspace\\\"}\",\n          \"{TV,\\\"Cable TV\\\",Internet,\\\"Wireless Internet\\\",Kitchen,\\\"Free Parking on Premises\\\",\\\"Pets Allowed\\\",\\\"Indoor Fireplace\\\",Heating,\\\"Family/Kid Friendly\\\",Washer,Dryer,\\\"Smoke Detector\\\",\\\"Carbon Monoxide Detector\\\",\\\"First Aid Kit\\\",\\\"Fire Extinguisher\\\",Shampoo}\",\n          \"{Internet,\\\"Wireless Internet\\\",Kitchen,\\\"Free Parking on Premises\\\",\\\"Pets live on this property\\\",Cat(s),Heating,Washer,Dryer,\\\"Smoke Detector\\\",\\\"Fire Extinguisher\\\",Essentials,Shampoo}\"\n        ],\n        \"semantic_type\": \"\",\n        \"description\": \"\"\n      }\n    },\n    {\n      \"column\": \"neighbourhood_group_cleansed\",\n      \"properties\": {\n        \"dtype\": \"category\",\n        \"num_unique_values\": 17,\n        \"samples\": [\n          \"Queen Anne\",\n          \"Ballard\",\n          \"University District\"\n        ],\n        \"semantic_type\": \"\",\n        \"description\": \"\"\n      }\n    },\n    {\n      \"column\": \"zipcode\",\n      \"properties\": {\n        \"dtype\": \"category\",\n        \"num_unique_values\": 28,\n        \"samples\": [\n          \"98112\",\n          \"98106\",\n          \"98122\"\n        ],\n        \"semantic_type\": \"\",\n        \"description\": \"\"\n      }\n    },\n    {\n      \"column\": \"price\",\n      \"properties\": {\n        \"dtype\": \"category\",\n        \"num_unique_values\": 273,\n        \"samples\": [\n          \"$350.00\",\n          \"$155.00\",\n          \"$250.00\"\n        ],\n        \"semantic_type\": \"\",\n        \"description\": \"\"\n      }\n    },\n    {\n      \"column\": \"number_of_reviews\",\n      \"properties\": {\n        \"dtype\": \"date\",\n        \"min\": 0,\n        \"max\": 474,\n        \"num_unique_values\": 195,\n        \"samples\": [\n          161,\n          45,\n          127\n        ],\n        \"semantic_type\": \"\",\n        \"description\": \"\"\n      }\n    },\n    {\n      \"column\": \"review_scores_rating\",\n      \"properties\": {\n        \"dtype\": \"date\",\n        \"min\": 20.0,\n        \"max\": 100.0,\n        \"num_unique_values\": 42,\n        \"samples\": [\n          78.0,\n          91.0,\n          85.0\n        ],\n        \"semantic_type\": \"\",\n        \"description\": \"\"\n      }\n    }\n  ]\n}"
            }
          },
          "metadata": {},
          "execution_count": 85
        }
      ]
    },
    {
      "cell_type": "markdown",
      "source": [
        "* **Data cleaning for each sub-datasets**"
      ],
      "metadata": {
        "id": "thOsTFwOvF9r"
      }
    },
    {
      "cell_type": "markdown",
      "source": [
        "#### For df1:\n",
        "* remove null values(since the number of null values are very small)\n",
        "* correct the datatype for columns"
      ],
      "metadata": {
        "id": "Aff3XRBlvF9r"
      }
    },
    {
      "cell_type": "code",
      "source": [
        "df1.info()"
      ],
      "metadata": {
        "execution": {
          "iopub.status.busy": "2024-04-19T03:28:48.440423Z",
          "iopub.execute_input": "2024-04-19T03:28:48.441173Z",
          "iopub.status.idle": "2024-04-19T03:28:48.453698Z",
          "shell.execute_reply.started": "2024-04-19T03:28:48.441140Z",
          "shell.execute_reply": "2024-04-19T03:28:48.452648Z"
        },
        "trusted": true,
        "colab": {
          "base_uri": "https://localhost:8080/"
        },
        "id": "RbS2KbwPvF9r",
        "outputId": "d427b2f9-198b-43e6-d6c7-8f8f4f089ac2"
      },
      "execution_count": null,
      "outputs": [
        {
          "output_type": "stream",
          "name": "stdout",
          "text": [
            "<class 'pandas.core.frame.DataFrame'>\n",
            "RangeIndex: 3818 entries, 0 to 3817\n",
            "Data columns (total 6 columns):\n",
            " #   Column             Non-Null Count  Dtype \n",
            "---  ------             --------------  ----- \n",
            " 0   id                 3818 non-null   object\n",
            " 1   room_type          3818 non-null   object\n",
            " 2   property_type      3817 non-null   object\n",
            " 3   bathrooms          3802 non-null   object\n",
            " 4   bedrooms           3812 non-null   object\n",
            " 5   number_of_reviews  3818 non-null   object\n",
            "dtypes: object(6)\n",
            "memory usage: 179.1+ KB\n"
          ]
        }
      ]
    },
    {
      "cell_type": "code",
      "source": [
        "# drop nulls\n",
        "df1 = df1.dropna()\n",
        "df1.info()"
      ],
      "metadata": {
        "execution": {
          "iopub.status.busy": "2024-04-19T03:28:53.095962Z",
          "iopub.execute_input": "2024-04-19T03:28:53.096371Z",
          "iopub.status.idle": "2024-04-19T03:28:53.113586Z",
          "shell.execute_reply.started": "2024-04-19T03:28:53.096339Z",
          "shell.execute_reply": "2024-04-19T03:28:53.112409Z"
        },
        "trusted": true,
        "colab": {
          "base_uri": "https://localhost:8080/"
        },
        "id": "9e6cwlPZvF9r",
        "outputId": "8f87819c-2346-45db-e880-61dc1959f87a"
      },
      "execution_count": null,
      "outputs": [
        {
          "output_type": "stream",
          "name": "stdout",
          "text": [
            "<class 'pandas.core.frame.DataFrame'>\n",
            "Index: 3795 entries, 0 to 3817\n",
            "Data columns (total 6 columns):\n",
            " #   Column             Non-Null Count  Dtype \n",
            "---  ------             --------------  ----- \n",
            " 0   id                 3795 non-null   object\n",
            " 1   room_type          3795 non-null   object\n",
            " 2   property_type      3795 non-null   object\n",
            " 3   bathrooms          3795 non-null   object\n",
            " 4   bedrooms           3795 non-null   object\n",
            " 5   number_of_reviews  3795 non-null   object\n",
            "dtypes: object(6)\n",
            "memory usage: 207.5+ KB\n"
          ]
        }
      ]
    },
    {
      "cell_type": "code",
      "source": [
        "#correct datatype\n",
        "df1['number_of_reviews']=df1['number_of_reviews'].astype('float')\n",
        "df1['bedrooms']=df1['bedrooms'].astype('float')\n",
        "df1['bathrooms']=df1['bathrooms'].astype('float')\n",
        "df1.info()"
      ],
      "metadata": {
        "execution": {
          "iopub.status.busy": "2024-04-19T03:28:57.264120Z",
          "iopub.execute_input": "2024-04-19T03:28:57.266524Z",
          "iopub.status.idle": "2024-04-19T03:28:57.282046Z",
          "shell.execute_reply.started": "2024-04-19T03:28:57.266480Z",
          "shell.execute_reply": "2024-04-19T03:28:57.281303Z"
        },
        "trusted": true,
        "colab": {
          "base_uri": "https://localhost:8080/"
        },
        "id": "noXQu-a-vF9r",
        "outputId": "135cf612-a0d9-4f2f-d872-28166dc8ff4a"
      },
      "execution_count": null,
      "outputs": [
        {
          "output_type": "stream",
          "name": "stdout",
          "text": [
            "<class 'pandas.core.frame.DataFrame'>\n",
            "Index: 3795 entries, 0 to 3817\n",
            "Data columns (total 6 columns):\n",
            " #   Column             Non-Null Count  Dtype  \n",
            "---  ------             --------------  -----  \n",
            " 0   id                 3795 non-null   object \n",
            " 1   room_type          3795 non-null   object \n",
            " 2   property_type      3795 non-null   object \n",
            " 3   bathrooms          3795 non-null   float64\n",
            " 4   bedrooms           3795 non-null   float64\n",
            " 5   number_of_reviews  3795 non-null   float64\n",
            "dtypes: float64(3), object(3)\n",
            "memory usage: 207.5+ KB\n"
          ]
        },
        {
          "output_type": "stream",
          "name": "stderr",
          "text": [
            "<ipython-input-88-3d939c6cb131>:2: SettingWithCopyWarning: \n",
            "A value is trying to be set on a copy of a slice from a DataFrame.\n",
            "Try using .loc[row_indexer,col_indexer] = value instead\n",
            "\n",
            "See the caveats in the documentation: https://pandas.pydata.org/pandas-docs/stable/user_guide/indexing.html#returning-a-view-versus-a-copy\n",
            "  df1['number_of_reviews']=df1['number_of_reviews'].astype('float')\n",
            "<ipython-input-88-3d939c6cb131>:3: SettingWithCopyWarning: \n",
            "A value is trying to be set on a copy of a slice from a DataFrame.\n",
            "Try using .loc[row_indexer,col_indexer] = value instead\n",
            "\n",
            "See the caveats in the documentation: https://pandas.pydata.org/pandas-docs/stable/user_guide/indexing.html#returning-a-view-versus-a-copy\n",
            "  df1['bedrooms']=df1['bedrooms'].astype('float')\n",
            "<ipython-input-88-3d939c6cb131>:4: SettingWithCopyWarning: \n",
            "A value is trying to be set on a copy of a slice from a DataFrame.\n",
            "Try using .loc[row_indexer,col_indexer] = value instead\n",
            "\n",
            "See the caveats in the documentation: https://pandas.pydata.org/pandas-docs/stable/user_guide/indexing.html#returning-a-view-versus-a-copy\n",
            "  df1['bathrooms']=df1['bathrooms'].astype('float')\n"
          ]
        }
      ]
    },
    {
      "cell_type": "code",
      "source": [
        "#check the value of a columns is reasonable\n",
        "df1['room_type'].unique()"
      ],
      "metadata": {
        "execution": {
          "iopub.status.busy": "2024-04-19T03:29:00.624609Z",
          "iopub.execute_input": "2024-04-19T03:29:00.625184Z",
          "iopub.status.idle": "2024-04-19T03:29:00.633306Z",
          "shell.execute_reply.started": "2024-04-19T03:29:00.625153Z",
          "shell.execute_reply": "2024-04-19T03:29:00.632208Z"
        },
        "trusted": true,
        "colab": {
          "base_uri": "https://localhost:8080/"
        },
        "id": "MKQmXE5IvF9r",
        "outputId": "878d9cb2-cbe1-4c69-ab91-8f9aaebf80ce"
      },
      "execution_count": null,
      "outputs": [
        {
          "output_type": "execute_result",
          "data": {
            "text/plain": [
              "array(['Entire home/apt', 'Private room', 'Shared room'], dtype=object)"
            ]
          },
          "metadata": {},
          "execution_count": 89
        }
      ]
    },
    {
      "cell_type": "code",
      "source": [
        "#check the value of a columns is reasonable\n",
        "df1['property_type'].unique()"
      ],
      "metadata": {
        "execution": {
          "iopub.status.busy": "2024-04-19T03:29:03.483533Z",
          "iopub.execute_input": "2024-04-19T03:29:03.483882Z",
          "iopub.status.idle": "2024-04-19T03:29:03.490901Z",
          "shell.execute_reply.started": "2024-04-19T03:29:03.483856Z",
          "shell.execute_reply": "2024-04-19T03:29:03.489711Z"
        },
        "trusted": true,
        "colab": {
          "base_uri": "https://localhost:8080/"
        },
        "id": "-X5Hz60zvF9s",
        "outputId": "9abc9461-a04f-4ea4-bed0-bea07d3f0402"
      },
      "execution_count": null,
      "outputs": [
        {
          "output_type": "execute_result",
          "data": {
            "text/plain": [
              "array(['Apartment', 'House', 'Cabin', 'Condominium', 'Camper/RV',\n",
              "       'Bungalow', 'Townhouse', 'Loft', 'Boat', 'Bed & Breakfast',\n",
              "       'Other', 'Dorm', 'Treehouse', 'Yurt', 'Chalet', 'Tent'],\n",
              "      dtype=object)"
            ]
          },
          "metadata": {},
          "execution_count": 90
        }
      ]
    },
    {
      "cell_type": "code",
      "source": [
        "#check the value of a columns is reasonable\n",
        "df1['bathrooms'].unique()"
      ],
      "metadata": {
        "execution": {
          "iopub.status.busy": "2024-04-19T03:29:05.588232Z",
          "iopub.execute_input": "2024-04-19T03:29:05.589127Z",
          "iopub.status.idle": "2024-04-19T03:29:05.595757Z",
          "shell.execute_reply.started": "2024-04-19T03:29:05.589094Z",
          "shell.execute_reply": "2024-04-19T03:29:05.594575Z"
        },
        "trusted": true,
        "colab": {
          "base_uri": "https://localhost:8080/"
        },
        "id": "a_IqsOjqvF9s",
        "outputId": "681ffd78-ccdd-43e7-9459-198b5b839fa3"
      },
      "execution_count": null,
      "outputs": [
        {
          "output_type": "execute_result",
          "data": {
            "text/plain": [
              "array([1. , 4.5, 2. , 3.5, 1.5, 2.5, 3. , 0.5, 4. , 0. , 8. , 5. ])"
            ]
          },
          "metadata": {},
          "execution_count": 91
        }
      ]
    },
    {
      "cell_type": "code",
      "source": [
        "#check the value of a columns is reasonable\n",
        "df1['bedrooms'].unique()"
      ],
      "metadata": {
        "execution": {
          "iopub.status.busy": "2024-04-19T03:29:08.428018Z",
          "iopub.execute_input": "2024-04-19T03:29:08.428443Z",
          "iopub.status.idle": "2024-04-19T03:29:08.437033Z",
          "shell.execute_reply.started": "2024-04-19T03:29:08.428410Z",
          "shell.execute_reply": "2024-04-19T03:29:08.435725Z"
        },
        "trusted": true,
        "colab": {
          "base_uri": "https://localhost:8080/"
        },
        "id": "8VxT6_u2vF9s",
        "outputId": "743b0537-4500-47ba-d2b3-f4c2b06a3b3d"
      },
      "execution_count": null,
      "outputs": [
        {
          "output_type": "execute_result",
          "data": {
            "text/plain": [
              "array([1., 5., 0., 3., 2., 6., 4., 7.])"
            ]
          },
          "metadata": {},
          "execution_count": 92
        }
      ]
    },
    {
      "cell_type": "code",
      "source": [
        "#check the value of a columns is reasonable\n",
        "df1['number_of_reviews'].min()"
      ],
      "metadata": {
        "execution": {
          "iopub.status.busy": "2024-04-19T03:29:10.395815Z",
          "iopub.execute_input": "2024-04-19T03:29:10.396730Z",
          "iopub.status.idle": "2024-04-19T03:29:10.403733Z",
          "shell.execute_reply.started": "2024-04-19T03:29:10.396692Z",
          "shell.execute_reply": "2024-04-19T03:29:10.402534Z"
        },
        "trusted": true,
        "colab": {
          "base_uri": "https://localhost:8080/"
        },
        "id": "dd3eOfHovF9s",
        "outputId": "eccc08f1-44a3-4e36-9c7e-deeee1b46bfb"
      },
      "execution_count": null,
      "outputs": [
        {
          "output_type": "execute_result",
          "data": {
            "text/plain": [
              "0.0"
            ]
          },
          "metadata": {},
          "execution_count": 93
        }
      ]
    },
    {
      "cell_type": "code",
      "source": [
        "#check the value of a columns is reasonable\n",
        "df1.describe()"
      ],
      "metadata": {
        "execution": {
          "iopub.status.busy": "2024-04-19T03:29:12.808283Z",
          "iopub.execute_input": "2024-04-19T03:29:12.808654Z",
          "iopub.status.idle": "2024-04-19T03:29:12.831986Z",
          "shell.execute_reply.started": "2024-04-19T03:29:12.808620Z",
          "shell.execute_reply": "2024-04-19T03:29:12.830876Z"
        },
        "trusted": true,
        "colab": {
          "base_uri": "https://localhost:8080/",
          "height": 300
        },
        "id": "0DsY5VSPvF9s",
        "outputId": "b5da1e60-9c4a-4122-fd11-8c52e04b6ced"
      },
      "execution_count": null,
      "outputs": [
        {
          "output_type": "execute_result",
          "data": {
            "text/plain": [
              "         bathrooms     bedrooms  number_of_reviews\n",
              "count  3795.000000  3795.000000        3795.000000\n",
              "mean      1.259947     1.308037          22.121212\n",
              "std       0.590808     0.884903          37.563400\n",
              "min       0.000000     0.000000           0.000000\n",
              "25%       1.000000     1.000000           2.000000\n",
              "50%       1.000000     1.000000           9.000000\n",
              "75%       1.000000     2.000000          26.000000\n",
              "max       8.000000     7.000000         474.000000"
            ],
            "text/html": [
              "\n",
              "  <div id=\"df-1e348be0-3ac9-4660-80cf-3f2f06866a82\" class=\"colab-df-container\">\n",
              "    <div>\n",
              "<style scoped>\n",
              "    .dataframe tbody tr th:only-of-type {\n",
              "        vertical-align: middle;\n",
              "    }\n",
              "\n",
              "    .dataframe tbody tr th {\n",
              "        vertical-align: top;\n",
              "    }\n",
              "\n",
              "    .dataframe thead th {\n",
              "        text-align: right;\n",
              "    }\n",
              "</style>\n",
              "<table border=\"1\" class=\"dataframe\">\n",
              "  <thead>\n",
              "    <tr style=\"text-align: right;\">\n",
              "      <th></th>\n",
              "      <th>bathrooms</th>\n",
              "      <th>bedrooms</th>\n",
              "      <th>number_of_reviews</th>\n",
              "    </tr>\n",
              "  </thead>\n",
              "  <tbody>\n",
              "    <tr>\n",
              "      <th>count</th>\n",
              "      <td>3795.000000</td>\n",
              "      <td>3795.000000</td>\n",
              "      <td>3795.000000</td>\n",
              "    </tr>\n",
              "    <tr>\n",
              "      <th>mean</th>\n",
              "      <td>1.259947</td>\n",
              "      <td>1.308037</td>\n",
              "      <td>22.121212</td>\n",
              "    </tr>\n",
              "    <tr>\n",
              "      <th>std</th>\n",
              "      <td>0.590808</td>\n",
              "      <td>0.884903</td>\n",
              "      <td>37.563400</td>\n",
              "    </tr>\n",
              "    <tr>\n",
              "      <th>min</th>\n",
              "      <td>0.000000</td>\n",
              "      <td>0.000000</td>\n",
              "      <td>0.000000</td>\n",
              "    </tr>\n",
              "    <tr>\n",
              "      <th>25%</th>\n",
              "      <td>1.000000</td>\n",
              "      <td>1.000000</td>\n",
              "      <td>2.000000</td>\n",
              "    </tr>\n",
              "    <tr>\n",
              "      <th>50%</th>\n",
              "      <td>1.000000</td>\n",
              "      <td>1.000000</td>\n",
              "      <td>9.000000</td>\n",
              "    </tr>\n",
              "    <tr>\n",
              "      <th>75%</th>\n",
              "      <td>1.000000</td>\n",
              "      <td>2.000000</td>\n",
              "      <td>26.000000</td>\n",
              "    </tr>\n",
              "    <tr>\n",
              "      <th>max</th>\n",
              "      <td>8.000000</td>\n",
              "      <td>7.000000</td>\n",
              "      <td>474.000000</td>\n",
              "    </tr>\n",
              "  </tbody>\n",
              "</table>\n",
              "</div>\n",
              "    <div class=\"colab-df-buttons\">\n",
              "\n",
              "  <div class=\"colab-df-container\">\n",
              "    <button class=\"colab-df-convert\" onclick=\"convertToInteractive('df-1e348be0-3ac9-4660-80cf-3f2f06866a82')\"\n",
              "            title=\"Convert this dataframe to an interactive table.\"\n",
              "            style=\"display:none;\">\n",
              "\n",
              "  <svg xmlns=\"http://www.w3.org/2000/svg\" height=\"24px\" viewBox=\"0 -960 960 960\">\n",
              "    <path d=\"M120-120v-720h720v720H120Zm60-500h600v-160H180v160Zm220 220h160v-160H400v160Zm0 220h160v-160H400v160ZM180-400h160v-160H180v160Zm440 0h160v-160H620v160ZM180-180h160v-160H180v160Zm440 0h160v-160H620v160Z\"/>\n",
              "  </svg>\n",
              "    </button>\n",
              "\n",
              "  <style>\n",
              "    .colab-df-container {\n",
              "      display:flex;\n",
              "      gap: 12px;\n",
              "    }\n",
              "\n",
              "    .colab-df-convert {\n",
              "      background-color: #E8F0FE;\n",
              "      border: none;\n",
              "      border-radius: 50%;\n",
              "      cursor: pointer;\n",
              "      display: none;\n",
              "      fill: #1967D2;\n",
              "      height: 32px;\n",
              "      padding: 0 0 0 0;\n",
              "      width: 32px;\n",
              "    }\n",
              "\n",
              "    .colab-df-convert:hover {\n",
              "      background-color: #E2EBFA;\n",
              "      box-shadow: 0px 1px 2px rgba(60, 64, 67, 0.3), 0px 1px 3px 1px rgba(60, 64, 67, 0.15);\n",
              "      fill: #174EA6;\n",
              "    }\n",
              "\n",
              "    .colab-df-buttons div {\n",
              "      margin-bottom: 4px;\n",
              "    }\n",
              "\n",
              "    [theme=dark] .colab-df-convert {\n",
              "      background-color: #3B4455;\n",
              "      fill: #D2E3FC;\n",
              "    }\n",
              "\n",
              "    [theme=dark] .colab-df-convert:hover {\n",
              "      background-color: #434B5C;\n",
              "      box-shadow: 0px 1px 3px 1px rgba(0, 0, 0, 0.15);\n",
              "      filter: drop-shadow(0px 1px 2px rgba(0, 0, 0, 0.3));\n",
              "      fill: #FFFFFF;\n",
              "    }\n",
              "  </style>\n",
              "\n",
              "    <script>\n",
              "      const buttonEl =\n",
              "        document.querySelector('#df-1e348be0-3ac9-4660-80cf-3f2f06866a82 button.colab-df-convert');\n",
              "      buttonEl.style.display =\n",
              "        google.colab.kernel.accessAllowed ? 'block' : 'none';\n",
              "\n",
              "      async function convertToInteractive(key) {\n",
              "        const element = document.querySelector('#df-1e348be0-3ac9-4660-80cf-3f2f06866a82');\n",
              "        const dataTable =\n",
              "          await google.colab.kernel.invokeFunction('convertToInteractive',\n",
              "                                                    [key], {});\n",
              "        if (!dataTable) return;\n",
              "\n",
              "        const docLinkHtml = 'Like what you see? Visit the ' +\n",
              "          '<a target=\"_blank\" href=https://colab.research.google.com/notebooks/data_table.ipynb>data table notebook</a>'\n",
              "          + ' to learn more about interactive tables.';\n",
              "        element.innerHTML = '';\n",
              "        dataTable['output_type'] = 'display_data';\n",
              "        await google.colab.output.renderOutput(dataTable, element);\n",
              "        const docLink = document.createElement('div');\n",
              "        docLink.innerHTML = docLinkHtml;\n",
              "        element.appendChild(docLink);\n",
              "      }\n",
              "    </script>\n",
              "  </div>\n",
              "\n",
              "\n",
              "<div id=\"df-0cadf693-72e2-45a2-be32-80a2a97d19ea\">\n",
              "  <button class=\"colab-df-quickchart\" onclick=\"quickchart('df-0cadf693-72e2-45a2-be32-80a2a97d19ea')\"\n",
              "            title=\"Suggest charts\"\n",
              "            style=\"display:none;\">\n",
              "\n",
              "<svg xmlns=\"http://www.w3.org/2000/svg\" height=\"24px\"viewBox=\"0 0 24 24\"\n",
              "     width=\"24px\">\n",
              "    <g>\n",
              "        <path d=\"M19 3H5c-1.1 0-2 .9-2 2v14c0 1.1.9 2 2 2h14c1.1 0 2-.9 2-2V5c0-1.1-.9-2-2-2zM9 17H7v-7h2v7zm4 0h-2V7h2v10zm4 0h-2v-4h2v4z\"/>\n",
              "    </g>\n",
              "</svg>\n",
              "  </button>\n",
              "\n",
              "<style>\n",
              "  .colab-df-quickchart {\n",
              "      --bg-color: #E8F0FE;\n",
              "      --fill-color: #1967D2;\n",
              "      --hover-bg-color: #E2EBFA;\n",
              "      --hover-fill-color: #174EA6;\n",
              "      --disabled-fill-color: #AAA;\n",
              "      --disabled-bg-color: #DDD;\n",
              "  }\n",
              "\n",
              "  [theme=dark] .colab-df-quickchart {\n",
              "      --bg-color: #3B4455;\n",
              "      --fill-color: #D2E3FC;\n",
              "      --hover-bg-color: #434B5C;\n",
              "      --hover-fill-color: #FFFFFF;\n",
              "      --disabled-bg-color: #3B4455;\n",
              "      --disabled-fill-color: #666;\n",
              "  }\n",
              "\n",
              "  .colab-df-quickchart {\n",
              "    background-color: var(--bg-color);\n",
              "    border: none;\n",
              "    border-radius: 50%;\n",
              "    cursor: pointer;\n",
              "    display: none;\n",
              "    fill: var(--fill-color);\n",
              "    height: 32px;\n",
              "    padding: 0;\n",
              "    width: 32px;\n",
              "  }\n",
              "\n",
              "  .colab-df-quickchart:hover {\n",
              "    background-color: var(--hover-bg-color);\n",
              "    box-shadow: 0 1px 2px rgba(60, 64, 67, 0.3), 0 1px 3px 1px rgba(60, 64, 67, 0.15);\n",
              "    fill: var(--button-hover-fill-color);\n",
              "  }\n",
              "\n",
              "  .colab-df-quickchart-complete:disabled,\n",
              "  .colab-df-quickchart-complete:disabled:hover {\n",
              "    background-color: var(--disabled-bg-color);\n",
              "    fill: var(--disabled-fill-color);\n",
              "    box-shadow: none;\n",
              "  }\n",
              "\n",
              "  .colab-df-spinner {\n",
              "    border: 2px solid var(--fill-color);\n",
              "    border-color: transparent;\n",
              "    border-bottom-color: var(--fill-color);\n",
              "    animation:\n",
              "      spin 1s steps(1) infinite;\n",
              "  }\n",
              "\n",
              "  @keyframes spin {\n",
              "    0% {\n",
              "      border-color: transparent;\n",
              "      border-bottom-color: var(--fill-color);\n",
              "      border-left-color: var(--fill-color);\n",
              "    }\n",
              "    20% {\n",
              "      border-color: transparent;\n",
              "      border-left-color: var(--fill-color);\n",
              "      border-top-color: var(--fill-color);\n",
              "    }\n",
              "    30% {\n",
              "      border-color: transparent;\n",
              "      border-left-color: var(--fill-color);\n",
              "      border-top-color: var(--fill-color);\n",
              "      border-right-color: var(--fill-color);\n",
              "    }\n",
              "    40% {\n",
              "      border-color: transparent;\n",
              "      border-right-color: var(--fill-color);\n",
              "      border-top-color: var(--fill-color);\n",
              "    }\n",
              "    60% {\n",
              "      border-color: transparent;\n",
              "      border-right-color: var(--fill-color);\n",
              "    }\n",
              "    80% {\n",
              "      border-color: transparent;\n",
              "      border-right-color: var(--fill-color);\n",
              "      border-bottom-color: var(--fill-color);\n",
              "    }\n",
              "    90% {\n",
              "      border-color: transparent;\n",
              "      border-bottom-color: var(--fill-color);\n",
              "    }\n",
              "  }\n",
              "</style>\n",
              "\n",
              "  <script>\n",
              "    async function quickchart(key) {\n",
              "      const quickchartButtonEl =\n",
              "        document.querySelector('#' + key + ' button');\n",
              "      quickchartButtonEl.disabled = true;  // To prevent multiple clicks.\n",
              "      quickchartButtonEl.classList.add('colab-df-spinner');\n",
              "      try {\n",
              "        const charts = await google.colab.kernel.invokeFunction(\n",
              "            'suggestCharts', [key], {});\n",
              "      } catch (error) {\n",
              "        console.error('Error during call to suggestCharts:', error);\n",
              "      }\n",
              "      quickchartButtonEl.classList.remove('colab-df-spinner');\n",
              "      quickchartButtonEl.classList.add('colab-df-quickchart-complete');\n",
              "    }\n",
              "    (() => {\n",
              "      let quickchartButtonEl =\n",
              "        document.querySelector('#df-0cadf693-72e2-45a2-be32-80a2a97d19ea button');\n",
              "      quickchartButtonEl.style.display =\n",
              "        google.colab.kernel.accessAllowed ? 'block' : 'none';\n",
              "    })();\n",
              "  </script>\n",
              "</div>\n",
              "\n",
              "    </div>\n",
              "  </div>\n"
            ],
            "application/vnd.google.colaboratory.intrinsic+json": {
              "type": "dataframe",
              "summary": "{\n  \"name\": \"df1\",\n  \"rows\": 8,\n  \"fields\": [\n    {\n      \"column\": \"bathrooms\",\n      \"properties\": {\n        \"dtype\": \"number\",\n        \"std\": 1341.0884712762718,\n        \"min\": 0.0,\n        \"max\": 3795.0,\n        \"num_unique_values\": 6,\n        \"samples\": [\n          3795.0,\n          1.2599472990777338,\n          8.0\n        ],\n        \"semantic_type\": \"\",\n        \"description\": \"\"\n      }\n    },\n    {\n      \"column\": \"bedrooms\",\n      \"properties\": {\n        \"dtype\": \"number\",\n        \"std\": 1341.0705111164248,\n        \"min\": 0.0,\n        \"max\": 3795.0,\n        \"num_unique_values\": 7,\n        \"samples\": [\n          3795.0,\n          1.3080368906455864,\n          2.0\n        ],\n        \"semantic_type\": \"\",\n        \"description\": \"\"\n      }\n    },\n    {\n      \"column\": \"number_of_reviews\",\n      \"properties\": {\n        \"dtype\": \"number\",\n        \"std\": 1322.7116136613383,\n        \"min\": 0.0,\n        \"max\": 3795.0,\n        \"num_unique_values\": 8,\n        \"samples\": [\n          22.12121212121212,\n          9.0,\n          3795.0\n        ],\n        \"semantic_type\": \"\",\n        \"description\": \"\"\n      }\n    }\n  ]\n}"
            }
          },
          "metadata": {},
          "execution_count": 94
        }
      ]
    },
    {
      "cell_type": "code",
      "source": [
        "#double check duplicates\n",
        "sum(df1.duplicated())"
      ],
      "metadata": {
        "execution": {
          "iopub.status.busy": "2024-04-19T03:29:15.364457Z",
          "iopub.execute_input": "2024-04-19T03:29:15.364830Z",
          "iopub.status.idle": "2024-04-19T03:29:15.376000Z",
          "shell.execute_reply.started": "2024-04-19T03:29:15.364801Z",
          "shell.execute_reply": "2024-04-19T03:29:15.375018Z"
        },
        "trusted": true,
        "colab": {
          "base_uri": "https://localhost:8080/"
        },
        "id": "B-azM_suvF9t",
        "outputId": "224b0952-24d2-488d-a44b-085171c3d0a7"
      },
      "execution_count": null,
      "outputs": [
        {
          "output_type": "execute_result",
          "data": {
            "text/plain": [
              "0"
            ]
          },
          "metadata": {},
          "execution_count": 95
        }
      ]
    },
    {
      "cell_type": "markdown",
      "source": [
        "#### For df2:\n",
        "* remove null values(since the number of null values are very small)\n",
        "* correct the datatype for columns"
      ],
      "metadata": {
        "id": "oPicKELuvF9t"
      }
    },
    {
      "cell_type": "code",
      "source": [
        "df2.info()"
      ],
      "metadata": {
        "execution": {
          "iopub.status.busy": "2024-04-19T03:34:57.968761Z",
          "iopub.execute_input": "2024-04-19T03:34:57.969944Z",
          "iopub.status.idle": "2024-04-19T03:34:57.982457Z",
          "shell.execute_reply.started": "2024-04-19T03:34:57.969899Z",
          "shell.execute_reply": "2024-04-19T03:34:57.981498Z"
        },
        "trusted": true,
        "colab": {
          "base_uri": "https://localhost:8080/"
        },
        "id": "4L8hAA4hvF9t",
        "outputId": "d42eb749-9ae7-4a18-a317-83296f67448f"
      },
      "execution_count": null,
      "outputs": [
        {
          "output_type": "stream",
          "name": "stdout",
          "text": [
            "<class 'pandas.core.frame.DataFrame'>\n",
            "RangeIndex: 3818 entries, 0 to 3817\n",
            "Data columns (total 4 columns):\n",
            " #   Column                        Non-Null Count  Dtype \n",
            "---  ------                        --------------  ----- \n",
            " 0   id                            3818 non-null   object\n",
            " 1   neighbourhood_group_cleansed  3818 non-null   object\n",
            " 2   zipcode                       3811 non-null   object\n",
            " 3   number_of_reviews             3818 non-null   object\n",
            "dtypes: object(4)\n",
            "memory usage: 119.4+ KB\n"
          ]
        }
      ]
    },
    {
      "cell_type": "code",
      "source": [
        "# I drop the rows with nulls in 'zipcode' column\n",
        "df2 = df2.dropna(subset='zipcode')\n",
        "df2.info()"
      ],
      "metadata": {
        "execution": {
          "iopub.status.busy": "2024-04-19T03:39:25.089716Z",
          "iopub.execute_input": "2024-04-19T03:39:25.090109Z",
          "iopub.status.idle": "2024-04-19T03:39:25.108081Z",
          "shell.execute_reply.started": "2024-04-19T03:39:25.090081Z",
          "shell.execute_reply": "2024-04-19T03:39:25.106757Z"
        },
        "trusted": true,
        "colab": {
          "base_uri": "https://localhost:8080/"
        },
        "id": "ouNWNz1yvF9t",
        "outputId": "483fb0f0-5691-4f78-bda7-8e0044601a38"
      },
      "execution_count": null,
      "outputs": [
        {
          "output_type": "stream",
          "name": "stdout",
          "text": [
            "<class 'pandas.core.frame.DataFrame'>\n",
            "Index: 3811 entries, 0 to 3817\n",
            "Data columns (total 4 columns):\n",
            " #   Column                        Non-Null Count  Dtype \n",
            "---  ------                        --------------  ----- \n",
            " 0   id                            3811 non-null   object\n",
            " 1   neighbourhood_group_cleansed  3811 non-null   object\n",
            " 2   zipcode                       3811 non-null   object\n",
            " 3   number_of_reviews             3811 non-null   object\n",
            "dtypes: object(4)\n",
            "memory usage: 148.9+ KB\n"
          ]
        }
      ]
    },
    {
      "cell_type": "code",
      "source": [
        "### This is an unused code cell, since I replace 'neighbourhood' with 'neighbourhood_group_cleansed'\n",
        "# it is unreasonable to impute the neighbourhood,\n",
        "# so I will create a column to mark whether neighbourhood is null or not,\n",
        "# and then perform analysis based on it\n",
        "#df2['neighbour_is_null']=df2['neighbourhood'].isnull().apply(lambda x: 'Yes' if x else 'No')\n",
        "#df2.head(2)"
      ],
      "metadata": {
        "execution": {
          "iopub.status.busy": "2024-04-19T03:37:06.493460Z",
          "iopub.execute_input": "2024-04-19T03:37:06.493835Z",
          "iopub.status.idle": "2024-04-19T03:37:06.499186Z",
          "shell.execute_reply.started": "2024-04-19T03:37:06.493809Z",
          "shell.execute_reply": "2024-04-19T03:37:06.498077Z"
        },
        "trusted": true,
        "id": "HaF4tlRavF9t"
      },
      "execution_count": null,
      "outputs": []
    },
    {
      "cell_type": "code",
      "source": [
        "# correct datatype\n",
        "df2['number_of_reviews']=df2['number_of_reviews'].astype('float')\n",
        "df2.info()"
      ],
      "metadata": {
        "execution": {
          "iopub.status.busy": "2024-04-19T03:39:31.004471Z",
          "iopub.execute_input": "2024-04-19T03:39:31.004846Z",
          "iopub.status.idle": "2024-04-19T03:39:31.017566Z",
          "shell.execute_reply.started": "2024-04-19T03:39:31.004820Z",
          "shell.execute_reply": "2024-04-19T03:39:31.016481Z"
        },
        "trusted": true,
        "colab": {
          "base_uri": "https://localhost:8080/"
        },
        "id": "V7qX0QgsvF9u",
        "outputId": "d0bde4fb-2e71-4aba-95d7-087e453a792d"
      },
      "execution_count": null,
      "outputs": [
        {
          "output_type": "stream",
          "name": "stdout",
          "text": [
            "<class 'pandas.core.frame.DataFrame'>\n",
            "Index: 3811 entries, 0 to 3817\n",
            "Data columns (total 4 columns):\n",
            " #   Column                        Non-Null Count  Dtype  \n",
            "---  ------                        --------------  -----  \n",
            " 0   id                            3811 non-null   object \n",
            " 1   neighbourhood_group_cleansed  3811 non-null   object \n",
            " 2   zipcode                       3811 non-null   object \n",
            " 3   number_of_reviews             3811 non-null   float64\n",
            "dtypes: float64(1), object(3)\n",
            "memory usage: 148.9+ KB\n"
          ]
        },
        {
          "output_type": "stream",
          "name": "stderr",
          "text": [
            "<ipython-input-99-d4609c5be5b9>:2: SettingWithCopyWarning: \n",
            "A value is trying to be set on a copy of a slice from a DataFrame.\n",
            "Try using .loc[row_indexer,col_indexer] = value instead\n",
            "\n",
            "See the caveats in the documentation: https://pandas.pydata.org/pandas-docs/stable/user_guide/indexing.html#returning-a-view-versus-a-copy\n",
            "  df2['number_of_reviews']=df2['number_of_reviews'].astype('float')\n"
          ]
        }
      ]
    },
    {
      "cell_type": "code",
      "source": [
        "# check validity of columns\n",
        "df2['neighbourhood_group_cleansed'].unique()"
      ],
      "metadata": {
        "execution": {
          "iopub.status.busy": "2024-04-19T03:39:33.044517Z",
          "iopub.execute_input": "2024-04-19T03:39:33.044876Z",
          "iopub.status.idle": "2024-04-19T03:39:33.052806Z",
          "shell.execute_reply.started": "2024-04-19T03:39:33.044849Z",
          "shell.execute_reply": "2024-04-19T03:39:33.051449Z"
        },
        "trusted": true,
        "colab": {
          "base_uri": "https://localhost:8080/"
        },
        "id": "RECsQQ2PvF9u",
        "outputId": "3945349b-b837-499a-b035-26a604405611"
      },
      "execution_count": null,
      "outputs": [
        {
          "output_type": "execute_result",
          "data": {
            "text/plain": [
              "array(['Queen Anne', 'Ballard', 'Other neighborhoods', 'Cascade',\n",
              "       'Central Area', 'University District', 'Downtown', 'Magnolia',\n",
              "       'West Seattle', 'Interbay', 'Beacon Hill', 'Rainier Valley',\n",
              "       'Delridge', 'Seward Park', 'Northgate', 'Capitol Hill',\n",
              "       'Lake City'], dtype=object)"
            ]
          },
          "metadata": {},
          "execution_count": 100
        }
      ]
    },
    {
      "cell_type": "code",
      "source": [
        "# check validity of columns\n",
        "df2['zipcode'].unique()"
      ],
      "metadata": {
        "execution": {
          "iopub.status.busy": "2024-04-19T03:39:34.045070Z",
          "iopub.execute_input": "2024-04-19T03:39:34.046273Z",
          "iopub.status.idle": "2024-04-19T03:39:34.054481Z",
          "shell.execute_reply.started": "2024-04-19T03:39:34.046218Z",
          "shell.execute_reply": "2024-04-19T03:39:34.053411Z"
        },
        "trusted": true,
        "colab": {
          "base_uri": "https://localhost:8080/"
        },
        "id": "inN1TufjvF9v",
        "outputId": "e646c3e2-e370-4833-be92-1d814537e4a0"
      },
      "execution_count": null,
      "outputs": [
        {
          "output_type": "execute_result",
          "data": {
            "text/plain": [
              "array(['98119', '98109', '98107', '98117', '98103', '98105', '98115',\n",
              "       '98101', '98122', '98112', '98144', '99\\n98122', '98121', '98102',\n",
              "       '98199', '98104', '98134', '98136', '98126', '98146', '98116',\n",
              "       '98177', '98118', '98108', '98133', '98106', '98178', '98125'],\n",
              "      dtype=object)"
            ]
          },
          "metadata": {},
          "execution_count": 101
        }
      ]
    },
    {
      "cell_type": "markdown",
      "source": [
        "Note: I see there is a invalid zipcode and I need to find it and correct it"
      ],
      "metadata": {
        "id": "5unOlqJZvF9v"
      }
    },
    {
      "cell_type": "code",
      "source": [
        "# find the row number for the wrong unit\n",
        "index = df2.index[df2['zipcode']=='99\\n98122'][0]\n",
        "index\n"
      ],
      "metadata": {
        "execution": {
          "iopub.status.busy": "2024-04-19T03:39:35.361005Z",
          "iopub.execute_input": "2024-04-19T03:39:35.361422Z",
          "iopub.status.idle": "2024-04-19T03:39:35.370478Z",
          "shell.execute_reply.started": "2024-04-19T03:39:35.361390Z",
          "shell.execute_reply": "2024-04-19T03:39:35.369290Z"
        },
        "trusted": true,
        "colab": {
          "base_uri": "https://localhost:8080/"
        },
        "id": "nK7xCb4dvF9v",
        "outputId": "acf31f75-32b4-4829-bb44-a71b7cab624e"
      },
      "execution_count": null,
      "outputs": [
        {
          "output_type": "execute_result",
          "data": {
            "text/plain": [
              "859"
            ]
          },
          "metadata": {},
          "execution_count": 102
        }
      ]
    },
    {
      "cell_type": "code",
      "source": [
        "#correct the unit\n",
        "df2.at[index,'zipcode']='98122'\n",
        "df2['zipcode'].unique()"
      ],
      "metadata": {
        "execution": {
          "iopub.status.busy": "2024-04-19T03:39:35.932730Z",
          "iopub.execute_input": "2024-04-19T03:39:35.933441Z",
          "iopub.status.idle": "2024-04-19T03:39:35.942477Z",
          "shell.execute_reply.started": "2024-04-19T03:39:35.933397Z",
          "shell.execute_reply": "2024-04-19T03:39:35.941324Z"
        },
        "trusted": true,
        "colab": {
          "base_uri": "https://localhost:8080/"
        },
        "id": "eHK5XozWvF9v",
        "outputId": "d9572db8-8134-4119-cc50-134dd54bc517"
      },
      "execution_count": null,
      "outputs": [
        {
          "output_type": "execute_result",
          "data": {
            "text/plain": [
              "array(['98119', '98109', '98107', '98117', '98103', '98105', '98115',\n",
              "       '98101', '98122', '98112', '98144', '98121', '98102', '98199',\n",
              "       '98104', '98134', '98136', '98126', '98146', '98116', '98177',\n",
              "       '98118', '98108', '98133', '98106', '98178', '98125'], dtype=object)"
            ]
          },
          "metadata": {},
          "execution_count": 103
        }
      ]
    },
    {
      "cell_type": "markdown",
      "source": [
        "#### For df3:\n",
        "* remove null values(since the number of null values are very small)\n",
        "* correct the datatype for columns\n",
        "* creat a column to mark if neighbourhood is null or not\n",
        "* creat a column to mark if revew_score_rating is null or not"
      ],
      "metadata": {
        "id": "rIoHmpi8vF9v"
      }
    },
    {
      "cell_type": "code",
      "source": [
        "df3.info()"
      ],
      "metadata": {
        "execution": {
          "iopub.status.busy": "2024-04-19T04:52:02.464307Z",
          "iopub.execute_input": "2024-04-19T04:52:02.464733Z",
          "iopub.status.idle": "2024-04-19T04:52:02.480480Z",
          "shell.execute_reply.started": "2024-04-19T04:52:02.464702Z",
          "shell.execute_reply": "2024-04-19T04:52:02.479395Z"
        },
        "trusted": true,
        "colab": {
          "base_uri": "https://localhost:8080/"
        },
        "id": "cbtN32lrvF9w",
        "outputId": "06d8d811-950b-4ea6-cbdd-070edf6d06e6"
      },
      "execution_count": null,
      "outputs": [
        {
          "output_type": "stream",
          "name": "stdout",
          "text": [
            "<class 'pandas.core.frame.DataFrame'>\n",
            "RangeIndex: 3818 entries, 0 to 3817\n",
            "Data columns (total 12 columns):\n",
            " #   Column                        Non-Null Count  Dtype \n",
            "---  ------                        --------------  ----- \n",
            " 0   id                            3818 non-null   object\n",
            " 1   room_type                     3818 non-null   object\n",
            " 2   property_type                 3817 non-null   object\n",
            " 3   bathrooms                     3802 non-null   object\n",
            " 4   bedrooms                      3812 non-null   object\n",
            " 5   accommodates                  3818 non-null   object\n",
            " 6   amenities                     3818 non-null   object\n",
            " 7   neighbourhood_group_cleansed  3818 non-null   object\n",
            " 8   zipcode                       3811 non-null   object\n",
            " 9   price                         3818 non-null   object\n",
            " 10  number_of_reviews             3818 non-null   object\n",
            " 11  review_scores_rating          3171 non-null   object\n",
            "dtypes: object(12)\n",
            "memory usage: 358.1+ KB\n"
          ]
        }
      ]
    },
    {
      "cell_type": "code",
      "source": [
        "#drop nulls for \"property_type\",'bathrooms',bedrooms','zipcode'\n",
        "df3.dropna(subset = ['property_type','bathrooms','bedrooms','zipcode'],inplace=True)\n",
        "df3.info()"
      ],
      "metadata": {
        "execution": {
          "iopub.status.busy": "2024-04-19T04:54:16.924484Z",
          "iopub.execute_input": "2024-04-19T04:54:16.925536Z",
          "iopub.status.idle": "2024-04-19T04:54:16.945753Z",
          "shell.execute_reply.started": "2024-04-19T04:54:16.925493Z",
          "shell.execute_reply": "2024-04-19T04:54:16.944903Z"
        },
        "trusted": true,
        "colab": {
          "base_uri": "https://localhost:8080/"
        },
        "id": "QmT21vc_vF9w",
        "outputId": "32532bd7-fbd9-4e29-85cb-087892219cf0"
      },
      "execution_count": null,
      "outputs": [
        {
          "output_type": "stream",
          "name": "stdout",
          "text": [
            "<class 'pandas.core.frame.DataFrame'>\n",
            "Index: 3788 entries, 0 to 3817\n",
            "Data columns (total 12 columns):\n",
            " #   Column                        Non-Null Count  Dtype \n",
            "---  ------                        --------------  ----- \n",
            " 0   id                            3788 non-null   object\n",
            " 1   room_type                     3788 non-null   object\n",
            " 2   property_type                 3788 non-null   object\n",
            " 3   bathrooms                     3788 non-null   object\n",
            " 4   bedrooms                      3788 non-null   object\n",
            " 5   accommodates                  3788 non-null   object\n",
            " 6   amenities                     3788 non-null   object\n",
            " 7   neighbourhood_group_cleansed  3788 non-null   object\n",
            " 8   zipcode                       3788 non-null   object\n",
            " 9   price                         3788 non-null   object\n",
            " 10  number_of_reviews             3788 non-null   object\n",
            " 11  review_scores_rating          3147 non-null   object\n",
            "dtypes: object(12)\n",
            "memory usage: 384.7+ KB\n"
          ]
        },
        {
          "output_type": "stream",
          "name": "stderr",
          "text": [
            "<ipython-input-105-c75054a91f7c>:2: SettingWithCopyWarning: \n",
            "A value is trying to be set on a copy of a slice from a DataFrame\n",
            "\n",
            "See the caveats in the documentation: https://pandas.pydata.org/pandas-docs/stable/user_guide/indexing.html#returning-a-view-versus-a-copy\n",
            "  df3.dropna(subset = ['property_type','bathrooms','bedrooms','zipcode'],inplace=True)\n"
          ]
        }
      ]
    },
    {
      "cell_type": "code",
      "source": [
        "#creat columns to record nulls for the two columns\n",
        "df3['rating_is_null']=df3['review_scores_rating'].isnull().apply(lambda x: 'Yes' if x else 'No')\n",
        "df3.head(2)"
      ],
      "metadata": {
        "execution": {
          "iopub.status.busy": "2024-04-19T03:39:39.098000Z",
          "iopub.execute_input": "2024-04-19T03:39:39.098390Z",
          "iopub.status.idle": "2024-04-19T03:39:39.119372Z",
          "shell.execute_reply.started": "2024-04-19T03:39:39.098360Z",
          "shell.execute_reply": "2024-04-19T03:39:39.118328Z"
        },
        "trusted": true,
        "colab": {
          "base_uri": "https://localhost:8080/",
          "height": 291
        },
        "id": "cdiuuLfYvF9w",
        "outputId": "4b1d15f2-2c54-4899-ecd4-6fb8ca245246"
      },
      "execution_count": null,
      "outputs": [
        {
          "output_type": "stream",
          "name": "stderr",
          "text": [
            "<ipython-input-106-5dc52430e2d7>:2: SettingWithCopyWarning: \n",
            "A value is trying to be set on a copy of a slice from a DataFrame.\n",
            "Try using .loc[row_indexer,col_indexer] = value instead\n",
            "\n",
            "See the caveats in the documentation: https://pandas.pydata.org/pandas-docs/stable/user_guide/indexing.html#returning-a-view-versus-a-copy\n",
            "  df3['rating_is_null']=df3['review_scores_rating'].isnull().apply(lambda x: 'Yes' if x else 'No')\n"
          ]
        },
        {
          "output_type": "execute_result",
          "data": {
            "text/plain": [
              "       id        room_type property_type bathrooms bedrooms accommodates  \\\n",
              "0  241032  Entire home/apt     Apartment       1.0      1.0            4   \n",
              "1  953595  Entire home/apt     Apartment       1.0      1.0            4   \n",
              "\n",
              "                                           amenities  \\\n",
              "0  {TV,\"Cable TV\",Internet,\"Wireless Internet\",\"A...   \n",
              "1  {TV,Internet,\"Wireless Internet\",Kitchen,\"Free...   \n",
              "\n",
              "  neighbourhood_group_cleansed zipcode    price number_of_reviews  \\\n",
              "0                   Queen Anne   98119   $85.00               207   \n",
              "1                   Queen Anne   98119  $150.00                43   \n",
              "\n",
              "  review_scores_rating rating_is_null  \n",
              "0                 95.0             No  \n",
              "1                 96.0             No  "
            ],
            "text/html": [
              "\n",
              "  <div id=\"df-09c5ba15-888c-44f2-933b-677186069e60\" class=\"colab-df-container\">\n",
              "    <div>\n",
              "<style scoped>\n",
              "    .dataframe tbody tr th:only-of-type {\n",
              "        vertical-align: middle;\n",
              "    }\n",
              "\n",
              "    .dataframe tbody tr th {\n",
              "        vertical-align: top;\n",
              "    }\n",
              "\n",
              "    .dataframe thead th {\n",
              "        text-align: right;\n",
              "    }\n",
              "</style>\n",
              "<table border=\"1\" class=\"dataframe\">\n",
              "  <thead>\n",
              "    <tr style=\"text-align: right;\">\n",
              "      <th></th>\n",
              "      <th>id</th>\n",
              "      <th>room_type</th>\n",
              "      <th>property_type</th>\n",
              "      <th>bathrooms</th>\n",
              "      <th>bedrooms</th>\n",
              "      <th>accommodates</th>\n",
              "      <th>amenities</th>\n",
              "      <th>neighbourhood_group_cleansed</th>\n",
              "      <th>zipcode</th>\n",
              "      <th>price</th>\n",
              "      <th>number_of_reviews</th>\n",
              "      <th>review_scores_rating</th>\n",
              "      <th>rating_is_null</th>\n",
              "    </tr>\n",
              "  </thead>\n",
              "  <tbody>\n",
              "    <tr>\n",
              "      <th>0</th>\n",
              "      <td>241032</td>\n",
              "      <td>Entire home/apt</td>\n",
              "      <td>Apartment</td>\n",
              "      <td>1.0</td>\n",
              "      <td>1.0</td>\n",
              "      <td>4</td>\n",
              "      <td>{TV,\"Cable TV\",Internet,\"Wireless Internet\",\"A...</td>\n",
              "      <td>Queen Anne</td>\n",
              "      <td>98119</td>\n",
              "      <td>$85.00</td>\n",
              "      <td>207</td>\n",
              "      <td>95.0</td>\n",
              "      <td>No</td>\n",
              "    </tr>\n",
              "    <tr>\n",
              "      <th>1</th>\n",
              "      <td>953595</td>\n",
              "      <td>Entire home/apt</td>\n",
              "      <td>Apartment</td>\n",
              "      <td>1.0</td>\n",
              "      <td>1.0</td>\n",
              "      <td>4</td>\n",
              "      <td>{TV,Internet,\"Wireless Internet\",Kitchen,\"Free...</td>\n",
              "      <td>Queen Anne</td>\n",
              "      <td>98119</td>\n",
              "      <td>$150.00</td>\n",
              "      <td>43</td>\n",
              "      <td>96.0</td>\n",
              "      <td>No</td>\n",
              "    </tr>\n",
              "  </tbody>\n",
              "</table>\n",
              "</div>\n",
              "    <div class=\"colab-df-buttons\">\n",
              "\n",
              "  <div class=\"colab-df-container\">\n",
              "    <button class=\"colab-df-convert\" onclick=\"convertToInteractive('df-09c5ba15-888c-44f2-933b-677186069e60')\"\n",
              "            title=\"Convert this dataframe to an interactive table.\"\n",
              "            style=\"display:none;\">\n",
              "\n",
              "  <svg xmlns=\"http://www.w3.org/2000/svg\" height=\"24px\" viewBox=\"0 -960 960 960\">\n",
              "    <path d=\"M120-120v-720h720v720H120Zm60-500h600v-160H180v160Zm220 220h160v-160H400v160Zm0 220h160v-160H400v160ZM180-400h160v-160H180v160Zm440 0h160v-160H620v160ZM180-180h160v-160H180v160Zm440 0h160v-160H620v160Z\"/>\n",
              "  </svg>\n",
              "    </button>\n",
              "\n",
              "  <style>\n",
              "    .colab-df-container {\n",
              "      display:flex;\n",
              "      gap: 12px;\n",
              "    }\n",
              "\n",
              "    .colab-df-convert {\n",
              "      background-color: #E8F0FE;\n",
              "      border: none;\n",
              "      border-radius: 50%;\n",
              "      cursor: pointer;\n",
              "      display: none;\n",
              "      fill: #1967D2;\n",
              "      height: 32px;\n",
              "      padding: 0 0 0 0;\n",
              "      width: 32px;\n",
              "    }\n",
              "\n",
              "    .colab-df-convert:hover {\n",
              "      background-color: #E2EBFA;\n",
              "      box-shadow: 0px 1px 2px rgba(60, 64, 67, 0.3), 0px 1px 3px 1px rgba(60, 64, 67, 0.15);\n",
              "      fill: #174EA6;\n",
              "    }\n",
              "\n",
              "    .colab-df-buttons div {\n",
              "      margin-bottom: 4px;\n",
              "    }\n",
              "\n",
              "    [theme=dark] .colab-df-convert {\n",
              "      background-color: #3B4455;\n",
              "      fill: #D2E3FC;\n",
              "    }\n",
              "\n",
              "    [theme=dark] .colab-df-convert:hover {\n",
              "      background-color: #434B5C;\n",
              "      box-shadow: 0px 1px 3px 1px rgba(0, 0, 0, 0.15);\n",
              "      filter: drop-shadow(0px 1px 2px rgba(0, 0, 0, 0.3));\n",
              "      fill: #FFFFFF;\n",
              "    }\n",
              "  </style>\n",
              "\n",
              "    <script>\n",
              "      const buttonEl =\n",
              "        document.querySelector('#df-09c5ba15-888c-44f2-933b-677186069e60 button.colab-df-convert');\n",
              "      buttonEl.style.display =\n",
              "        google.colab.kernel.accessAllowed ? 'block' : 'none';\n",
              "\n",
              "      async function convertToInteractive(key) {\n",
              "        const element = document.querySelector('#df-09c5ba15-888c-44f2-933b-677186069e60');\n",
              "        const dataTable =\n",
              "          await google.colab.kernel.invokeFunction('convertToInteractive',\n",
              "                                                    [key], {});\n",
              "        if (!dataTable) return;\n",
              "\n",
              "        const docLinkHtml = 'Like what you see? Visit the ' +\n",
              "          '<a target=\"_blank\" href=https://colab.research.google.com/notebooks/data_table.ipynb>data table notebook</a>'\n",
              "          + ' to learn more about interactive tables.';\n",
              "        element.innerHTML = '';\n",
              "        dataTable['output_type'] = 'display_data';\n",
              "        await google.colab.output.renderOutput(dataTable, element);\n",
              "        const docLink = document.createElement('div');\n",
              "        docLink.innerHTML = docLinkHtml;\n",
              "        element.appendChild(docLink);\n",
              "      }\n",
              "    </script>\n",
              "  </div>\n",
              "\n",
              "\n",
              "<div id=\"df-0273829d-59c3-47f7-8f88-cdd0ff5eebdb\">\n",
              "  <button class=\"colab-df-quickchart\" onclick=\"quickchart('df-0273829d-59c3-47f7-8f88-cdd0ff5eebdb')\"\n",
              "            title=\"Suggest charts\"\n",
              "            style=\"display:none;\">\n",
              "\n",
              "<svg xmlns=\"http://www.w3.org/2000/svg\" height=\"24px\"viewBox=\"0 0 24 24\"\n",
              "     width=\"24px\">\n",
              "    <g>\n",
              "        <path d=\"M19 3H5c-1.1 0-2 .9-2 2v14c0 1.1.9 2 2 2h14c1.1 0 2-.9 2-2V5c0-1.1-.9-2-2-2zM9 17H7v-7h2v7zm4 0h-2V7h2v10zm4 0h-2v-4h2v4z\"/>\n",
              "    </g>\n",
              "</svg>\n",
              "  </button>\n",
              "\n",
              "<style>\n",
              "  .colab-df-quickchart {\n",
              "      --bg-color: #E8F0FE;\n",
              "      --fill-color: #1967D2;\n",
              "      --hover-bg-color: #E2EBFA;\n",
              "      --hover-fill-color: #174EA6;\n",
              "      --disabled-fill-color: #AAA;\n",
              "      --disabled-bg-color: #DDD;\n",
              "  }\n",
              "\n",
              "  [theme=dark] .colab-df-quickchart {\n",
              "      --bg-color: #3B4455;\n",
              "      --fill-color: #D2E3FC;\n",
              "      --hover-bg-color: #434B5C;\n",
              "      --hover-fill-color: #FFFFFF;\n",
              "      --disabled-bg-color: #3B4455;\n",
              "      --disabled-fill-color: #666;\n",
              "  }\n",
              "\n",
              "  .colab-df-quickchart {\n",
              "    background-color: var(--bg-color);\n",
              "    border: none;\n",
              "    border-radius: 50%;\n",
              "    cursor: pointer;\n",
              "    display: none;\n",
              "    fill: var(--fill-color);\n",
              "    height: 32px;\n",
              "    padding: 0;\n",
              "    width: 32px;\n",
              "  }\n",
              "\n",
              "  .colab-df-quickchart:hover {\n",
              "    background-color: var(--hover-bg-color);\n",
              "    box-shadow: 0 1px 2px rgba(60, 64, 67, 0.3), 0 1px 3px 1px rgba(60, 64, 67, 0.15);\n",
              "    fill: var(--button-hover-fill-color);\n",
              "  }\n",
              "\n",
              "  .colab-df-quickchart-complete:disabled,\n",
              "  .colab-df-quickchart-complete:disabled:hover {\n",
              "    background-color: var(--disabled-bg-color);\n",
              "    fill: var(--disabled-fill-color);\n",
              "    box-shadow: none;\n",
              "  }\n",
              "\n",
              "  .colab-df-spinner {\n",
              "    border: 2px solid var(--fill-color);\n",
              "    border-color: transparent;\n",
              "    border-bottom-color: var(--fill-color);\n",
              "    animation:\n",
              "      spin 1s steps(1) infinite;\n",
              "  }\n",
              "\n",
              "  @keyframes spin {\n",
              "    0% {\n",
              "      border-color: transparent;\n",
              "      border-bottom-color: var(--fill-color);\n",
              "      border-left-color: var(--fill-color);\n",
              "    }\n",
              "    20% {\n",
              "      border-color: transparent;\n",
              "      border-left-color: var(--fill-color);\n",
              "      border-top-color: var(--fill-color);\n",
              "    }\n",
              "    30% {\n",
              "      border-color: transparent;\n",
              "      border-left-color: var(--fill-color);\n",
              "      border-top-color: var(--fill-color);\n",
              "      border-right-color: var(--fill-color);\n",
              "    }\n",
              "    40% {\n",
              "      border-color: transparent;\n",
              "      border-right-color: var(--fill-color);\n",
              "      border-top-color: var(--fill-color);\n",
              "    }\n",
              "    60% {\n",
              "      border-color: transparent;\n",
              "      border-right-color: var(--fill-color);\n",
              "    }\n",
              "    80% {\n",
              "      border-color: transparent;\n",
              "      border-right-color: var(--fill-color);\n",
              "      border-bottom-color: var(--fill-color);\n",
              "    }\n",
              "    90% {\n",
              "      border-color: transparent;\n",
              "      border-bottom-color: var(--fill-color);\n",
              "    }\n",
              "  }\n",
              "</style>\n",
              "\n",
              "  <script>\n",
              "    async function quickchart(key) {\n",
              "      const quickchartButtonEl =\n",
              "        document.querySelector('#' + key + ' button');\n",
              "      quickchartButtonEl.disabled = true;  // To prevent multiple clicks.\n",
              "      quickchartButtonEl.classList.add('colab-df-spinner');\n",
              "      try {\n",
              "        const charts = await google.colab.kernel.invokeFunction(\n",
              "            'suggestCharts', [key], {});\n",
              "      } catch (error) {\n",
              "        console.error('Error during call to suggestCharts:', error);\n",
              "      }\n",
              "      quickchartButtonEl.classList.remove('colab-df-spinner');\n",
              "      quickchartButtonEl.classList.add('colab-df-quickchart-complete');\n",
              "    }\n",
              "    (() => {\n",
              "      let quickchartButtonEl =\n",
              "        document.querySelector('#df-0273829d-59c3-47f7-8f88-cdd0ff5eebdb button');\n",
              "      quickchartButtonEl.style.display =\n",
              "        google.colab.kernel.accessAllowed ? 'block' : 'none';\n",
              "    })();\n",
              "  </script>\n",
              "</div>\n",
              "\n",
              "    </div>\n",
              "  </div>\n"
            ],
            "application/vnd.google.colaboratory.intrinsic+json": {
              "type": "dataframe",
              "variable_name": "df3",
              "summary": "{\n  \"name\": \"df3\",\n  \"rows\": 3788,\n  \"fields\": [\n    {\n      \"column\": \"id\",\n      \"properties\": {\n        \"dtype\": \"date\",\n        \"min\": 4291,\n        \"max\": 10340165,\n        \"num_unique_values\": 3788,\n        \"samples\": [\n          8065715,\n          9415562,\n          9679300\n        ],\n        \"semantic_type\": \"\",\n        \"description\": \"\"\n      }\n    },\n    {\n      \"column\": \"room_type\",\n      \"properties\": {\n        \"dtype\": \"category\",\n        \"num_unique_values\": 3,\n        \"samples\": [\n          \"Entire home/apt\",\n          \"Private room\",\n          \"Shared room\"\n        ],\n        \"semantic_type\": \"\",\n        \"description\": \"\"\n      }\n    },\n    {\n      \"column\": \"property_type\",\n      \"properties\": {\n        \"dtype\": \"category\",\n        \"num_unique_values\": 16,\n        \"samples\": [\n          \"Apartment\",\n          \"House\",\n          \"Bungalow\"\n        ],\n        \"semantic_type\": \"\",\n        \"description\": \"\"\n      }\n    },\n    {\n      \"column\": \"bathrooms\",\n      \"properties\": {\n        \"dtype\": \"date\",\n        \"min\": 0.0,\n        \"max\": 8.0,\n        \"num_unique_values\": 12,\n        \"samples\": [\n          8.0,\n          0.0,\n          1.0\n        ],\n        \"semantic_type\": \"\",\n        \"description\": \"\"\n      }\n    },\n    {\n      \"column\": \"bedrooms\",\n      \"properties\": {\n        \"dtype\": \"date\",\n        \"min\": 0.0,\n        \"max\": 7.0,\n        \"num_unique_values\": 8,\n        \"samples\": [\n          5.0,\n          6.0,\n          1.0\n        ],\n        \"semantic_type\": \"\",\n        \"description\": \"\"\n      }\n    },\n    {\n      \"column\": \"accommodates\",\n      \"properties\": {\n        \"dtype\": \"date\",\n        \"min\": 1,\n        \"max\": 16,\n        \"num_unique_values\": 15,\n        \"samples\": [\n          8,\n          12,\n          4\n        ],\n        \"semantic_type\": \"\",\n        \"description\": \"\"\n      }\n    },\n    {\n      \"column\": \"amenities\",\n      \"properties\": {\n        \"dtype\": \"string\",\n        \"num_unique_values\": 3263,\n        \"samples\": [\n          \"{TV,\\\"Wireless Internet\\\",Kitchen,Heating,\\\"Family/Kid Friendly\\\",\\\"Smoke Detector\\\",\\\"Carbon Monoxide Detector\\\",\\\"First Aid Kit\\\",\\\"Safety Card\\\",\\\"Fire Extinguisher\\\",Essentials,Shampoo,\\\"24-Hour Check-in\\\"}\",\n          \"{Internet,\\\"Wireless Internet\\\",\\\"Free Parking on Premises\\\",\\\"Pets Allowed\\\",\\\"Pets live on this property\\\",Heating,\\\"Family/Kid Friendly\\\",Washer,Dryer,\\\"Fire Extinguisher\\\",Essentials,Shampoo}\",\n          \"{TV,Internet,\\\"Wireless Internet\\\",\\\"Air Conditioning\\\",Kitchen,\\\"Free Parking on Premises\\\",Heating,\\\"Family/Kid Friendly\\\",\\\"Smoke Detector\\\",\\\"Carbon Monoxide Detector\\\",\\\"First Aid Kit\\\",\\\"Fire Extinguisher\\\",Essentials}\"\n        ],\n        \"semantic_type\": \"\",\n        \"description\": \"\"\n      }\n    },\n    {\n      \"column\": \"neighbourhood_group_cleansed\",\n      \"properties\": {\n        \"dtype\": \"category\",\n        \"num_unique_values\": 17,\n        \"samples\": [\n          \"Queen Anne\",\n          \"Ballard\",\n          \"University District\"\n        ],\n        \"semantic_type\": \"\",\n        \"description\": \"\"\n      }\n    },\n    {\n      \"column\": \"zipcode\",\n      \"properties\": {\n        \"dtype\": \"category\",\n        \"num_unique_values\": 28,\n        \"samples\": [\n          \"98112\",\n          \"98106\",\n          \"98122\"\n        ],\n        \"semantic_type\": \"\",\n        \"description\": \"\"\n      }\n    },\n    {\n      \"column\": \"price\",\n      \"properties\": {\n        \"dtype\": \"category\",\n        \"num_unique_values\": 272,\n        \"samples\": [\n          \"$350.00\",\n          \"$439.00\",\n          \"$250.00\"\n        ],\n        \"semantic_type\": \"\",\n        \"description\": \"\"\n      }\n    },\n    {\n      \"column\": \"number_of_reviews\",\n      \"properties\": {\n        \"dtype\": \"date\",\n        \"min\": 0,\n        \"max\": 474,\n        \"num_unique_values\": 193,\n        \"samples\": [\n          27,\n          161,\n          98\n        ],\n        \"semantic_type\": \"\",\n        \"description\": \"\"\n      }\n    },\n    {\n      \"column\": \"review_scores_rating\",\n      \"properties\": {\n        \"dtype\": \"date\",\n        \"min\": 20.0,\n        \"max\": 100.0,\n        \"num_unique_values\": 42,\n        \"samples\": [\n          78.0,\n          91.0,\n          85.0\n        ],\n        \"semantic_type\": \"\",\n        \"description\": \"\"\n      }\n    },\n    {\n      \"column\": \"rating_is_null\",\n      \"properties\": {\n        \"dtype\": \"category\",\n        \"num_unique_values\": 2,\n        \"samples\": [\n          \"Yes\",\n          \"No\"\n        ],\n        \"semantic_type\": \"\",\n        \"description\": \"\"\n      }\n    }\n  ]\n}"
            }
          },
          "metadata": {},
          "execution_count": 106
        }
      ]
    },
    {
      "cell_type": "code",
      "source": [
        "#correct datatypes\n",
        "df3['number_of_reviews']=df3['number_of_reviews'].astype('float')\n",
        "df3['price'] = df3['price'].str.replace(r\"$\", \"\").str.replace(\",\", \"\").astype(\"float\")\n",
        "df3['bedrooms']=df3['bedrooms'].astype('float')\n",
        "df3['bathrooms']=df3['bathrooms'].astype('float')\n",
        "df3.info()"
      ],
      "metadata": {
        "execution": {
          "iopub.status.busy": "2024-04-19T03:39:46.648899Z",
          "iopub.execute_input": "2024-04-19T03:39:46.649769Z",
          "iopub.status.idle": "2024-04-19T03:39:46.667649Z",
          "shell.execute_reply.started": "2024-04-19T03:39:46.649731Z",
          "shell.execute_reply": "2024-04-19T03:39:46.666460Z"
        },
        "trusted": true,
        "colab": {
          "base_uri": "https://localhost:8080/"
        },
        "id": "FpP_zZ5VvF9w",
        "outputId": "c3d60fb9-abd9-4502-9f0e-bc4e83977a02"
      },
      "execution_count": null,
      "outputs": [
        {
          "output_type": "stream",
          "name": "stderr",
          "text": [
            "<ipython-input-107-329658b9e223>:2: SettingWithCopyWarning: \n",
            "A value is trying to be set on a copy of a slice from a DataFrame.\n",
            "Try using .loc[row_indexer,col_indexer] = value instead\n",
            "\n",
            "See the caveats in the documentation: https://pandas.pydata.org/pandas-docs/stable/user_guide/indexing.html#returning-a-view-versus-a-copy\n",
            "  df3['number_of_reviews']=df3['number_of_reviews'].astype('float')\n",
            "<ipython-input-107-329658b9e223>:3: SettingWithCopyWarning: \n",
            "A value is trying to be set on a copy of a slice from a DataFrame.\n",
            "Try using .loc[row_indexer,col_indexer] = value instead\n",
            "\n",
            "See the caveats in the documentation: https://pandas.pydata.org/pandas-docs/stable/user_guide/indexing.html#returning-a-view-versus-a-copy\n",
            "  df3['price'] = df3['price'].str.replace(r\"$\", \"\").str.replace(\",\", \"\").astype(\"float\")\n",
            "<ipython-input-107-329658b9e223>:4: SettingWithCopyWarning: \n",
            "A value is trying to be set on a copy of a slice from a DataFrame.\n",
            "Try using .loc[row_indexer,col_indexer] = value instead\n",
            "\n",
            "See the caveats in the documentation: https://pandas.pydata.org/pandas-docs/stable/user_guide/indexing.html#returning-a-view-versus-a-copy\n",
            "  df3['bedrooms']=df3['bedrooms'].astype('float')\n",
            "<ipython-input-107-329658b9e223>:5: SettingWithCopyWarning: \n",
            "A value is trying to be set on a copy of a slice from a DataFrame.\n",
            "Try using .loc[row_indexer,col_indexer] = value instead\n",
            "\n",
            "See the caveats in the documentation: https://pandas.pydata.org/pandas-docs/stable/user_guide/indexing.html#returning-a-view-versus-a-copy\n",
            "  df3['bathrooms']=df3['bathrooms'].astype('float')\n"
          ]
        },
        {
          "output_type": "stream",
          "name": "stdout",
          "text": [
            "<class 'pandas.core.frame.DataFrame'>\n",
            "Index: 3788 entries, 0 to 3817\n",
            "Data columns (total 13 columns):\n",
            " #   Column                        Non-Null Count  Dtype  \n",
            "---  ------                        --------------  -----  \n",
            " 0   id                            3788 non-null   object \n",
            " 1   room_type                     3788 non-null   object \n",
            " 2   property_type                 3788 non-null   object \n",
            " 3   bathrooms                     3788 non-null   float64\n",
            " 4   bedrooms                      3788 non-null   float64\n",
            " 5   accommodates                  3788 non-null   object \n",
            " 6   amenities                     3788 non-null   object \n",
            " 7   neighbourhood_group_cleansed  3788 non-null   object \n",
            " 8   zipcode                       3788 non-null   object \n",
            " 9   price                         3788 non-null   float64\n",
            " 10  number_of_reviews             3788 non-null   float64\n",
            " 11  review_scores_rating          3147 non-null   object \n",
            " 12  rating_is_null                3788 non-null   object \n",
            "dtypes: float64(4), object(9)\n",
            "memory usage: 543.4+ KB\n"
          ]
        }
      ]
    },
    {
      "cell_type": "code",
      "source": [
        "# correct the wrong unit for zipcode\n",
        "index = df3.index[df3['zipcode']=='99\\n98122'][0]\n",
        "df3.at[index,'zipcode']='98122'\n",
        "df3['zipcode'].unique()"
      ],
      "metadata": {
        "execution": {
          "iopub.status.busy": "2024-04-19T03:39:53.124762Z",
          "iopub.execute_input": "2024-04-19T03:39:53.125118Z",
          "iopub.status.idle": "2024-04-19T03:39:53.692068Z",
          "shell.execute_reply.started": "2024-04-19T03:39:53.125091Z",
          "shell.execute_reply": "2024-04-19T03:39:53.690714Z"
        },
        "trusted": true,
        "colab": {
          "base_uri": "https://localhost:8080/"
        },
        "id": "T-r2S7NjvF9w",
        "outputId": "4e030e98-bca0-4e79-f514-8165b3573747"
      },
      "execution_count": null,
      "outputs": [
        {
          "output_type": "execute_result",
          "data": {
            "text/plain": [
              "array(['98119', '98109', '98107', '98117', '98103', '98105', '98115',\n",
              "       '98101', '98122', '98112', '98144', '98121', '98102', '98199',\n",
              "       '98104', '98134', '98136', '98126', '98146', '98116', '98177',\n",
              "       '98118', '98108', '98133', '98106', '98178', '98125'], dtype=object)"
            ]
          },
          "metadata": {},
          "execution_count": 108
        }
      ]
    },
    {
      "cell_type": "code",
      "source": [
        "# check validity of columns\n",
        "columns = ['room_type','property_type','bathrooms','bedrooms','accommodates','amenities','neighbourhood_group_cleansed','review_scores_rating']\n",
        "for c in columns:\n",
        "    print(df3[c].unique(),'\\n')"
      ],
      "metadata": {
        "execution": {
          "iopub.status.busy": "2024-04-19T03:40:09.964875Z",
          "iopub.execute_input": "2024-04-19T03:40:09.965254Z",
          "iopub.status.idle": "2024-04-19T03:40:09.978308Z",
          "shell.execute_reply.started": "2024-04-19T03:40:09.965212Z",
          "shell.execute_reply": "2024-04-19T03:40:09.976991Z"
        },
        "trusted": true,
        "colab": {
          "base_uri": "https://localhost:8080/"
        },
        "id": "X0qBtScpvF9w",
        "outputId": "03abb1b7-34b4-4c37-e97c-e9dcd58eccf5"
      },
      "execution_count": null,
      "outputs": [
        {
          "output_type": "stream",
          "name": "stdout",
          "text": [
            "['Entire home/apt' 'Private room' 'Shared room'] \n",
            "\n",
            "['Apartment' 'House' 'Cabin' 'Condominium' 'Camper/RV' 'Bungalow'\n",
            " 'Townhouse' 'Loft' 'Boat' 'Other' 'Dorm' 'Bed & Breakfast' 'Treehouse'\n",
            " 'Yurt' 'Chalet' 'Tent'] \n",
            "\n",
            "[1.  4.5 2.  3.5 1.5 2.5 3.  0.5 4.  0.  8.  5. ] \n",
            "\n",
            "[1. 5. 0. 3. 2. 6. 4. 7.] \n",
            "\n",
            "[4 11 3 6 2 5 16 10 1 8 7 12 9 15 14] \n",
            "\n",
            "['{TV,\"Cable TV\",Internet,\"Wireless Internet\",\"Air Conditioning\",Kitchen,Heating,\"Family/Kid Friendly\",Washer,Dryer}'\n",
            " '{TV,Internet,\"Wireless Internet\",Kitchen,\"Free Parking on Premises\",\"Buzzer/Wireless Intercom\",Heating,\"Family/Kid Friendly\",Washer,Dryer,\"Smoke Detector\",\"Carbon Monoxide Detector\",\"First Aid Kit\",\"Safety Card\",\"Fire Extinguisher\",Essentials}'\n",
            " '{TV,\"Cable TV\",Internet,\"Wireless Internet\",\"Air Conditioning\",Kitchen,\"Free Parking on Premises\",\"Pets Allowed\",\"Pets live on this property\",Dog(s),Cat(s),\"Hot Tub\",\"Indoor Fireplace\",Heating,\"Family/Kid Friendly\",Washer,Dryer,\"Smoke Detector\",\"Carbon Monoxide Detector\",Essentials,Shampoo}'\n",
            " ...\n",
            " '{\"Cable TV\",\"Wireless Internet\",Kitchen,\"Free Parking on Premises\",Breakfast,\"Pets live on this property\",Dog(s),Cat(s),Heating,Washer,Dryer,\"Smoke Detector\",\"First Aid Kit\",\"Safety Card\",\"Fire Extinguisher\",Essentials,Hangers,\"Hair Dryer\",Iron,\"Laptop Friendly Workspace\"}'\n",
            " '{TV,\"Wireless Internet\",Kitchen,\"Free Parking on Premises\",\"Elevator in Building\",Heating,\"Smoke Detector\",Essentials,Hangers,\"Hair Dryer\",\"Laptop Friendly Workspace\"}'\n",
            " '{TV,\"Cable TV\",Internet,\"Wireless Internet\",Kitchen,\"Free Parking on Premises\",\"Pets live on this property\",Dog(s),\"Elevator in Building\",\"Hot Tub\",\"Indoor Fireplace\",\"Buzzer/Wireless Intercom\",Heating,\"Family/Kid Friendly\",Washer,Dryer,\"Smoke Detector\",Essentials,Shampoo,Hangers,Iron,\"Laptop Friendly Workspace\"}'] \n",
            "\n",
            "['Queen Anne' 'Ballard' 'Other neighborhoods' 'Cascade' 'Central Area'\n",
            " 'University District' 'Downtown' 'Magnolia' 'West Seattle' 'Interbay'\n",
            " 'Beacon Hill' 'Rainier Valley' 'Delridge' 'Seward Park' 'Northgate'\n",
            " 'Capitol Hill' 'Lake City'] \n",
            "\n",
            "[95.0 96.0 97.0 nan 92.0 99.0 98.0 100.0 80.0 85.0 84.0 88.0 75.0 90.0\n",
            " 91.0 94.0 93.0 77.0 89.0 71.0 82.0 87.0 73.0 83.0 86.0 76.0 78.0 66.0\n",
            " 74.0 60.0 64.0 70.0 68.0 72.0 40.0 79.0 55.0 20.0 67.0 57.0 65.0 53.0\n",
            " 81.0] \n",
            "\n"
          ]
        }
      ]
    },
    {
      "cell_type": "markdown",
      "source": [
        "#### 3. Data analysis\n",
        "In this part,I will answer my questions. For the first 2 questions, I will use EDA to find the answer, and for question 3, I will train a model and assessing its accuracy"
      ],
      "metadata": {
        "id": "Et50wtOqvF9x"
      }
    },
    {
      "cell_type": "code",
      "source": [
        "# define a plot lable function\n",
        "def plot_label(title,x_label,y_label):\n",
        "  '''\n",
        "  input:\n",
        "  title: the title of the plot\n",
        "  x_label: the x_label of the plot\n",
        "  y_label: the y_;abel of the plot\n",
        "\n",
        "  output:\n",
        "  A plot with \"title\", x_label as labels for x_axis for the plot, and y_label for the y_axis for the plot\n",
        "\n",
        "  '''\n",
        "    plt.xlabel(x_label)\n",
        "    plt.ylabel(y_label)\n",
        "    plt.title(title)"
      ],
      "metadata": {
        "execution": {
          "iopub.status.busy": "2024-04-19T03:29:55.164362Z",
          "iopub.execute_input": "2024-04-19T03:29:55.164874Z",
          "iopub.status.idle": "2024-04-19T03:29:55.170346Z",
          "shell.execute_reply.started": "2024-04-19T03:29:55.164837Z",
          "shell.execute_reply": "2024-04-19T03:29:55.169559Z"
        },
        "trusted": true,
        "id": "rsPq-JsVvF9x"
      },
      "execution_count": null,
      "outputs": []
    },
    {
      "cell_type": "code",
      "source": [
        "# define a category order function for countplot\n",
        "\n",
        "def get_order(df_serie):\n",
        "  '''\n",
        "  input:\n",
        "  df_serie: a column in a dataframe need to be ordered by its value count in decescending order\n",
        "\n",
        "  output:\n",
        "  an ordered index of a column in the dataframe\n",
        "  '''\n",
        "  # Count the occurrences of each category\n",
        "  category_counts = df_serie.value_counts()\n",
        "\n",
        "  # Get the order of categories sorted by their counts\n",
        "  category_order = category_counts.index\n",
        "\n",
        "  return category_order"
      ],
      "metadata": {
        "id": "bYKbD2_MNhHd"
      },
      "execution_count": null,
      "outputs": []
    },
    {
      "cell_type": "markdown",
      "source": [
        "* **What kinds of property are favorate type in airbnb?**\n"
      ],
      "metadata": {
        "id": "4T8oqbwLvF9x"
      }
    },
    {
      "cell_type": "code",
      "source": [
        "df1.info()"
      ],
      "metadata": {
        "execution": {
          "iopub.status.busy": "2024-04-19T03:29:57.248339Z",
          "iopub.execute_input": "2024-04-19T03:29:57.248730Z",
          "iopub.status.idle": "2024-04-19T03:29:57.261326Z",
          "shell.execute_reply.started": "2024-04-19T03:29:57.248698Z",
          "shell.execute_reply": "2024-04-19T03:29:57.259786Z"
        },
        "trusted": true,
        "colab": {
          "base_uri": "https://localhost:8080/"
        },
        "id": "eJvhBP_OvF9x",
        "outputId": "a8dfe4ff-b963-43a0-ebdb-ed3b6130d533"
      },
      "execution_count": null,
      "outputs": [
        {
          "output_type": "stream",
          "name": "stdout",
          "text": [
            "<class 'pandas.core.frame.DataFrame'>\n",
            "Index: 3795 entries, 0 to 3817\n",
            "Data columns (total 6 columns):\n",
            " #   Column             Non-Null Count  Dtype  \n",
            "---  ------             --------------  -----  \n",
            " 0   id                 3795 non-null   object \n",
            " 1   room_type          3795 non-null   object \n",
            " 2   property_type      3795 non-null   object \n",
            " 3   bathrooms          3795 non-null   float64\n",
            " 4   bedrooms           3795 non-null   float64\n",
            " 5   number_of_reviews  3795 non-null   float64\n",
            "dtypes: float64(3), object(3)\n",
            "memory usage: 207.5+ KB\n"
          ]
        }
      ]
    },
    {
      "cell_type": "code",
      "source": [
        "# countplot for room types for the host\n",
        "plt.figure(figsize=(6, 3))\n",
        "sns.countplot(data=df1, y='room_type', order=get_order(df1['room_type']))\n",
        "plot_label('Host Room Type Preferences','Number of Listings','Room Type')"
      ],
      "metadata": {
        "execution": {
          "iopub.status.busy": "2024-04-19T03:29:59.524065Z",
          "iopub.execute_input": "2024-04-19T03:29:59.524473Z",
          "iopub.status.idle": "2024-04-19T03:29:59.811129Z",
          "shell.execute_reply.started": "2024-04-19T03:29:59.524440Z",
          "shell.execute_reply": "2024-04-19T03:29:59.810181Z"
        },
        "trusted": true,
        "colab": {
          "base_uri": "https://localhost:8080/",
          "height": 333
        },
        "id": "G-ufVxaWvF9x",
        "outputId": "dc3bfdf3-be48-408e-8f96-46c5af09123a"
      },
      "execution_count": null,
      "outputs": [
        {
          "output_type": "display_data",
          "data": {
            "text/plain": [
              "<Figure size 600x300 with 1 Axes>"
            ],
            "image/png": "[encoded data removed]"
          },
          "metadata": {}
        }
      ]
    },
    {
      "cell_type": "markdown",
      "source": [
        "Observation: The most favorable room type for host listing is 'Entire home/apt'"
      ],
      "metadata": {
        "id": "NzJOMwvKvF9x"
      }
    },
    {
      "cell_type": "code",
      "source": [
        "# countplot for property types for the host\n",
        "plt.figure(figsize=(8, 4))\n",
        "sns.countplot(data=df1, y='property_type', order=get_order(df1['property_type']))\n",
        "plot_label('Host Property Type Preferences','Number of Listings','property Type')"
      ],
      "metadata": {
        "execution": {
          "iopub.status.busy": "2024-04-19T03:30:03.247217Z",
          "iopub.execute_input": "2024-04-19T03:30:03.247640Z",
          "iopub.status.idle": "2024-04-19T03:30:03.669300Z",
          "shell.execute_reply.started": "2024-04-19T03:30:03.247609Z",
          "shell.execute_reply": "2024-04-19T03:30:03.668318Z"
        },
        "trusted": true,
        "colab": {
          "base_uri": "https://localhost:8080/",
          "height": 410
        },
        "id": "7HdHw3aLvF9x",
        "outputId": "58ad3ccb-2273-41ea-b3af-c94cb58f9662"
      },
      "execution_count": null,
      "outputs": [
        {
          "output_type": "display_data",
          "data": {
            "text/plain": [
              "<Figure size 800x400 with 1 Axes>"
            ],
            "image/png": "[encoded data removed]"
          },
          "metadata": {}
        }
      ]
    },
    {
      "cell_type": "markdown",
      "source": [
        "Observation: The most favorable property type for host listing is 'House'"
      ],
      "metadata": {
        "id": "WeT5aK_3vF9x"
      }
    },
    {
      "cell_type": "code",
      "source": [
        "# caculate average reviews for different property types\n",
        "df1_reviewavg = df1.groupby('property_type').mean('number_of_reviews')\n",
        "df1_reviewavg = df1_reviewavg.sort_values(by='number_of_reviews',ascending = False)\n",
        "df1_reviewavg.head()"
      ],
      "metadata": {
        "execution": {
          "iopub.status.busy": "2024-04-19T03:30:07.738347Z",
          "iopub.execute_input": "2024-04-19T03:30:07.739016Z",
          "iopub.status.idle": "2024-04-19T03:30:07.758043Z",
          "shell.execute_reply.started": "2024-04-19T03:30:07.738977Z",
          "shell.execute_reply": "2024-04-19T03:30:07.756982Z"
        },
        "trusted": true,
        "colab": {
          "base_uri": "https://localhost:8080/",
          "height": 238
        },
        "id": "gnElFP98vF9x",
        "outputId": "f32d58a6-e8f8-4fbd-ecee-5b6c99fed9fd"
      },
      "execution_count": null,
      "outputs": [
        {
          "output_type": "execute_result",
          "data": {
            "text/plain": [
              "               bathrooms  bedrooms  number_of_reviews\n",
              "property_type                                        \n",
              "Cabin           1.000000  0.857143          92.571429\n",
              "Camper/RV       0.846154  0.692308          49.076923\n",
              "Loft            1.125000  0.750000          45.300000\n",
              "Other           1.428571  0.809524          34.190476\n",
              "Yurt            1.000000  0.000000          25.000000"
            ],
            "text/html": [
              "\n",
              "  <div id=\"df-717fb167-ee71-4812-9375-8f356141d96d\" class=\"colab-df-container\">\n",
              "    <div>\n",
              "<style scoped>\n",
              "    .dataframe tbody tr th:only-of-type {\n",
              "        vertical-align: middle;\n",
              "    }\n",
              "\n",
              "    .dataframe tbody tr th {\n",
              "        vertical-align: top;\n",
              "    }\n",
              "\n",
              "    .dataframe thead th {\n",
              "        text-align: right;\n",
              "    }\n",
              "</style>\n",
              "<table border=\"1\" class=\"dataframe\">\n",
              "  <thead>\n",
              "    <tr style=\"text-align: right;\">\n",
              "      <th></th>\n",
              "      <th>bathrooms</th>\n",
              "      <th>bedrooms</th>\n",
              "      <th>number_of_reviews</th>\n",
              "    </tr>\n",
              "    <tr>\n",
              "      <th>property_type</th>\n",
              "      <th></th>\n",
              "      <th></th>\n",
              "      <th></th>\n",
              "    </tr>\n",
              "  </thead>\n",
              "  <tbody>\n",
              "    <tr>\n",
              "      <th>Cabin</th>\n",
              "      <td>1.000000</td>\n",
              "      <td>0.857143</td>\n",
              "      <td>92.571429</td>\n",
              "    </tr>\n",
              "    <tr>\n",
              "      <th>Camper/RV</th>\n",
              "      <td>0.846154</td>\n",
              "      <td>0.692308</td>\n",
              "      <td>49.076923</td>\n",
              "    </tr>\n",
              "    <tr>\n",
              "      <th>Loft</th>\n",
              "      <td>1.125000</td>\n",
              "      <td>0.750000</td>\n",
              "      <td>45.300000</td>\n",
              "    </tr>\n",
              "    <tr>\n",
              "      <th>Other</th>\n",
              "      <td>1.428571</td>\n",
              "      <td>0.809524</td>\n",
              "      <td>34.190476</td>\n",
              "    </tr>\n",
              "    <tr>\n",
              "      <th>Yurt</th>\n",
              "      <td>1.000000</td>\n",
              "      <td>0.000000</td>\n",
              "      <td>25.000000</td>\n",
              "    </tr>\n",
              "  </tbody>\n",
              "</table>\n",
              "</div>\n",
              "    <div class=\"colab-df-buttons\">\n",
              "\n",
              "  <div class=\"colab-df-container\">\n",
              "    <button class=\"colab-df-convert\" onclick=\"convertToInteractive('df-717fb167-ee71-4812-9375-8f356141d96d')\"\n",
              "            title=\"Convert this dataframe to an interactive table.\"\n",
              "            style=\"display:none;\">\n",
              "\n",
              "  <svg xmlns=\"http://www.w3.org/2000/svg\" height=\"24px\" viewBox=\"0 -960 960 960\">\n",
              "    <path d=\"M120-120v-720h720v720H120Zm60-500h600v-160H180v160Zm220 220h160v-160H400v160Zm0 220h160v-160H400v160ZM180-400h160v-160H180v160Zm440 0h160v-160H620v160ZM180-180h160v-160H180v160Zm440 0h160v-160H620v160Z\"/>\n",
              "  </svg>\n",
              "    </button>\n",
              "\n",
              "  <style>\n",
              "    .colab-df-container {\n",
              "      display:flex;\n",
              "      gap: 12px;\n",
              "    }\n",
              "\n",
              "    .colab-df-convert {\n",
              "      background-color: #E8F0FE;\n",
              "      border: none;\n",
              "      border-radius: 50%;\n",
              "      cursor: pointer;\n",
              "      display: none;\n",
              "      fill: #1967D2;\n",
              "      height: 32px;\n",
              "      padding: 0 0 0 0;\n",
              "      width: 32px;\n",
              "    }\n",
              "\n",
              "    .colab-df-convert:hover {\n",
              "      background-color: #E2EBFA;\n",
              "      box-shadow: 0px 1px 2px rgba(60, 64, 67, 0.3), 0px 1px 3px 1px rgba(60, 64, 67, 0.15);\n",
              "      fill: #174EA6;\n",
              "    }\n",
              "\n",
              "    .colab-df-buttons div {\n",
              "      margin-bottom: 4px;\n",
              "    }\n",
              "\n",
              "    [theme=dark] .colab-df-convert {\n",
              "      background-color: #3B4455;\n",
              "      fill: #D2E3FC;\n",
              "    }\n",
              "\n",
              "    [theme=dark] .colab-df-convert:hover {\n",
              "      background-color: #434B5C;\n",
              "      box-shadow: 0px 1px 3px 1px rgba(0, 0, 0, 0.15);\n",
              "      filter: drop-shadow(0px 1px 2px rgba(0, 0, 0, 0.3));\n",
              "      fill: #FFFFFF;\n",
              "    }\n",
              "  </style>\n",
              "\n",
              "    <script>\n",
              "      const buttonEl =\n",
              "        document.querySelector('#df-717fb167-ee71-4812-9375-8f356141d96d button.colab-df-convert');\n",
              "      buttonEl.style.display =\n",
              "        google.colab.kernel.accessAllowed ? 'block' : 'none';\n",
              "\n",
              "      async function convertToInteractive(key) {\n",
              "        const element = document.querySelector('#df-717fb167-ee71-4812-9375-8f356141d96d');\n",
              "        const dataTable =\n",
              "          await google.colab.kernel.invokeFunction('convertToInteractive',\n",
              "                                                    [key], {});\n",
              "        if (!dataTable) return;\n",
              "\n",
              "        const docLinkHtml = 'Like what you see? Visit the ' +\n",
              "          '<a target=\"_blank\" href=https://colab.research.google.com/notebooks/data_table.ipynb>data table notebook</a>'\n",
              "          + ' to learn more about interactive tables.';\n",
              "        element.innerHTML = '';\n",
              "        dataTable['output_type'] = 'display_data';\n",
              "        await google.colab.output.renderOutput(dataTable, element);\n",
              "        const docLink = document.createElement('div');\n",
              "        docLink.innerHTML = docLinkHtml;\n",
              "        element.appendChild(docLink);\n",
              "      }\n",
              "    </script>\n",
              "  </div>\n",
              "\n",
              "\n",
              "<div id=\"df-18352937-c0f3-438e-95e3-14025a15a7e3\">\n",
              "  <button class=\"colab-df-quickchart\" onclick=\"quickchart('df-18352937-c0f3-438e-95e3-14025a15a7e3')\"\n",
              "            title=\"Suggest charts\"\n",
              "            style=\"display:none;\">\n",
              "\n",
              "<svg xmlns=\"http://www.w3.org/2000/svg\" height=\"24px\"viewBox=\"0 0 24 24\"\n",
              "     width=\"24px\">\n",
              "    <g>\n",
              "        <path d=\"M19 3H5c-1.1 0-2 .9-2 2v14c0 1.1.9 2 2 2h14c1.1 0 2-.9 2-2V5c0-1.1-.9-2-2-2zM9 17H7v-7h2v7zm4 0h-2V7h2v10zm4 0h-2v-4h2v4z\"/>\n",
              "    </g>\n",
              "</svg>\n",
              "  </button>\n",
              "\n",
              "<style>\n",
              "  .colab-df-quickchart {\n",
              "      --bg-color: #E8F0FE;\n",
              "      --fill-color: #1967D2;\n",
              "      --hover-bg-color: #E2EBFA;\n",
              "      --hover-fill-color: #174EA6;\n",
              "      --disabled-fill-color: #AAA;\n",
              "      --disabled-bg-color: #DDD;\n",
              "  }\n",
              "\n",
              "  [theme=dark] .colab-df-quickchart {\n",
              "      --bg-color: #3B4455;\n",
              "      --fill-color: #D2E3FC;\n",
              "      --hover-bg-color: #434B5C;\n",
              "      --hover-fill-color: #FFFFFF;\n",
              "      --disabled-bg-color: #3B4455;\n",
              "      --disabled-fill-color: #666;\n",
              "  }\n",
              "\n",
              "  .colab-df-quickchart {\n",
              "    background-color: var(--bg-color);\n",
              "    border: none;\n",
              "    border-radius: 50%;\n",
              "    cursor: pointer;\n",
              "    display: none;\n",
              "    fill: var(--fill-color);\n",
              "    height: 32px;\n",
              "    padding: 0;\n",
              "    width: 32px;\n",
              "  }\n",
              "\n",
              "  .colab-df-quickchart:hover {\n",
              "    background-color: var(--hover-bg-color);\n",
              "    box-shadow: 0 1px 2px rgba(60, 64, 67, 0.3), 0 1px 3px 1px rgba(60, 64, 67, 0.15);\n",
              "    fill: var(--button-hover-fill-color);\n",
              "  }\n",
              "\n",
              "  .colab-df-quickchart-complete:disabled,\n",
              "  .colab-df-quickchart-complete:disabled:hover {\n",
              "    background-color: var(--disabled-bg-color);\n",
              "    fill: var(--disabled-fill-color);\n",
              "    box-shadow: none;\n",
              "  }\n",
              "\n",
              "  .colab-df-spinner {\n",
              "    border: 2px solid var(--fill-color);\n",
              "    border-color: transparent;\n",
              "    border-bottom-color: var(--fill-color);\n",
              "    animation:\n",
              "      spin 1s steps(1) infinite;\n",
              "  }\n",
              "\n",
              "  @keyframes spin {\n",
              "    0% {\n",
              "      border-color: transparent;\n",
              "      border-bottom-color: var(--fill-color);\n",
              "      border-left-color: var(--fill-color);\n",
              "    }\n",
              "    20% {\n",
              "      border-color: transparent;\n",
              "      border-left-color: var(--fill-color);\n",
              "      border-top-color: var(--fill-color);\n",
              "    }\n",
              "    30% {\n",
              "      border-color: transparent;\n",
              "      border-left-color: var(--fill-color);\n",
              "      border-top-color: var(--fill-color);\n",
              "      border-right-color: var(--fill-color);\n",
              "    }\n",
              "    40% {\n",
              "      border-color: transparent;\n",
              "      border-right-color: var(--fill-color);\n",
              "      border-top-color: var(--fill-color);\n",
              "    }\n",
              "    60% {\n",
              "      border-color: transparent;\n",
              "      border-right-color: var(--fill-color);\n",
              "    }\n",
              "    80% {\n",
              "      border-color: transparent;\n",
              "      border-right-color: var(--fill-color);\n",
              "      border-bottom-color: var(--fill-color);\n",
              "    }\n",
              "    90% {\n",
              "      border-color: transparent;\n",
              "      border-bottom-color: var(--fill-color);\n",
              "    }\n",
              "  }\n",
              "</style>\n",
              "\n",
              "  <script>\n",
              "    async function quickchart(key) {\n",
              "      const quickchartButtonEl =\n",
              "        document.querySelector('#' + key + ' button');\n",
              "      quickchartButtonEl.disabled = true;  // To prevent multiple clicks.\n",
              "      quickchartButtonEl.classList.add('colab-df-spinner');\n",
              "      try {\n",
              "        const charts = await google.colab.kernel.invokeFunction(\n",
              "            'suggestCharts', [key], {});\n",
              "      } catch (error) {\n",
              "        console.error('Error during call to suggestCharts:', error);\n",
              "      }\n",
              "      quickchartButtonEl.classList.remove('colab-df-spinner');\n",
              "      quickchartButtonEl.classList.add('colab-df-quickchart-complete');\n",
              "    }\n",
              "    (() => {\n",
              "      let quickchartButtonEl =\n",
              "        document.querySelector('#df-18352937-c0f3-438e-95e3-14025a15a7e3 button');\n",
              "      quickchartButtonEl.style.display =\n",
              "        google.colab.kernel.accessAllowed ? 'block' : 'none';\n",
              "    })();\n",
              "  </script>\n",
              "</div>\n",
              "\n",
              "    </div>\n",
              "  </div>\n"
            ],
            "application/vnd.google.colaboratory.intrinsic+json": {
              "type": "dataframe",
              "variable_name": "df1_reviewavg",
              "summary": "{\n  \"name\": \"df1_reviewavg\",\n  \"rows\": 16,\n  \"fields\": [\n    {\n      \"column\": \"property_type\",\n      \"properties\": {\n        \"dtype\": \"string\",\n        \"num_unique_values\": 16,\n        \"samples\": [\n          \"Cabin\",\n          \"Camper/RV\",\n          \"Bed & Breakfast\"\n        ],\n        \"semantic_type\": \"\",\n        \"description\": \"\"\n      }\n    },\n    {\n      \"column\": \"bathrooms\",\n      \"properties\": {\n        \"dtype\": \"number\",\n        \"std\": 0.7720386539511824,\n        \"min\": 0.5,\n        \"max\": 4.0,\n        \"num_unique_values\": 13,\n        \"samples\": [\n          0.5,\n          1.75,\n          1.0\n        ],\n        \"semantic_type\": \"\",\n        \"description\": \"\"\n      }\n    },\n    {\n      \"column\": \"bedrooms\",\n      \"properties\": {\n        \"dtype\": \"number\",\n        \"std\": 0.4253225791214558,\n        \"min\": 0.0,\n        \"max\": 1.75,\n        \"num_unique_values\": 13,\n        \"samples\": [\n          1.2417582417582418,\n          1.5084745762711864,\n          0.8571428571428571\n        ],\n        \"semantic_type\": \"\",\n        \"description\": \"\"\n      }\n    },\n    {\n      \"column\": \"number_of_reviews\",\n      \"properties\": {\n        \"dtype\": \"number\",\n        \"std\": 22.783289396171696,\n        \"min\": 5.6923076923076925,\n        \"max\": 92.57142857142857,\n        \"num_unique_values\": 15,\n        \"samples\": [\n          10.0,\n          8.375,\n          92.57142857142857\n        ],\n        \"semantic_type\": \"\",\n        \"description\": \"\"\n      }\n    }\n  ]\n}"
            }
          },
          "metadata": {},
          "execution_count": 115
        }
      ]
    },
    {
      "cell_type": "code",
      "source": [
        "#barplot customer average reviews for different property types\n",
        "plt.figure(figsize=(6,4))\n",
        "sns.barplot(x=df1_reviewavg.number_of_reviews,y=df1_reviewavg.number_of_reviews.index)\n",
        "plot_label('Customer Review Preferences for property type','Average number of reviews','Property type')"
      ],
      "metadata": {
        "execution": {
          "iopub.status.busy": "2024-04-19T03:30:10.165190Z",
          "iopub.execute_input": "2024-04-19T03:30:10.165597Z",
          "iopub.status.idle": "2024-04-19T03:30:10.608973Z",
          "shell.execute_reply.started": "2024-04-19T03:30:10.165567Z",
          "shell.execute_reply": "2024-04-19T03:30:10.607917Z"
        },
        "trusted": true,
        "colab": {
          "base_uri": "https://localhost:8080/",
          "height": 410
        },
        "id": "3Rdfg2yQvF9y",
        "outputId": "0dcc1794-f31f-4681-e75a-4700a7ae25b5"
      },
      "execution_count": null,
      "outputs": [
        {
          "output_type": "display_data",
          "data": {
            "text/plain": [
              "<Figure size 600x400 with 1 Axes>"
            ],
            "image/png": "[encoded data removed]"
          },
          "metadata": {}
        }
      ]
    },
    {
      "cell_type": "markdown",
      "source": [
        "Observation: The most favorable property type for custermer to write a review is 'Cabin'. Because it got the most average number of reviews. Total number of reviews is not a good metric, because the number of 'house' and 'apartment' is far more than other property types, even if each one of them receive much fewer reviews, the sum will be very large."
      ],
      "metadata": {
        "id": "PWpkDkgbvF9y"
      }
    },
    {
      "cell_type": "code",
      "source": [
        "# caculate average reviews for different room types\n",
        "df1_rtreviewavg = df1.groupby('room_type').mean('number_of_reviews')\n",
        "df1_rtreviewavg = df1_rtreviewavg.sort_values(by='number_of_reviews',ascending = False)\n",
        "df1_rtreviewavg.head()"
      ],
      "metadata": {
        "execution": {
          "iopub.status.busy": "2024-04-19T03:30:13.516124Z",
          "iopub.execute_input": "2024-04-19T03:30:13.517237Z",
          "iopub.status.idle": "2024-04-19T03:30:13.530065Z",
          "shell.execute_reply.started": "2024-04-19T03:30:13.517199Z",
          "shell.execute_reply": "2024-04-19T03:30:13.529402Z"
        },
        "trusted": true,
        "colab": {
          "base_uri": "https://localhost:8080/",
          "height": 175
        },
        "id": "DuFcGC-KvF9y",
        "outputId": "2e0a13f4-d2bf-48c3-b93c-81dc6063feea"
      },
      "execution_count": null,
      "outputs": [
        {
          "output_type": "execute_result",
          "data": {
            "text/plain": [
              "                 bathrooms  bedrooms  number_of_reviews\n",
              "room_type                                              \n",
              "Private room      1.158283   1.00000          26.450997\n",
              "Entire home/apt   1.307129   1.46297          20.569505\n",
              "Shared room       1.243590   1.00000          12.940171"
            ],
            "text/html": [
              "\n",
              "  <div id=\"df-6cb1d2ff-0471-49c6-91f2-f67f5fd0b002\" class=\"colab-df-container\">\n",
              "    <div>\n",
              "<style scoped>\n",
              "    .dataframe tbody tr th:only-of-type {\n",
              "        vertical-align: middle;\n",
              "    }\n",
              "\n",
              "    .dataframe tbody tr th {\n",
              "        vertical-align: top;\n",
              "    }\n",
              "\n",
              "    .dataframe thead th {\n",
              "        text-align: right;\n",
              "    }\n",
              "</style>\n",
              "<table border=\"1\" class=\"dataframe\">\n",
              "  <thead>\n",
              "    <tr style=\"text-align: right;\">\n",
              "      <th></th>\n",
              "      <th>bathrooms</th>\n",
              "      <th>bedrooms</th>\n",
              "      <th>number_of_reviews</th>\n",
              "    </tr>\n",
              "    <tr>\n",
              "      <th>room_type</th>\n",
              "      <th></th>\n",
              "      <th></th>\n",
              "      <th></th>\n",
              "    </tr>\n",
              "  </thead>\n",
              "  <tbody>\n",
              "    <tr>\n",
              "      <th>Private room</th>\n",
              "      <td>1.158283</td>\n",
              "      <td>1.00000</td>\n",
              "      <td>26.450997</td>\n",
              "    </tr>\n",
              "    <tr>\n",
              "      <th>Entire home/apt</th>\n",
              "      <td>1.307129</td>\n",
              "      <td>1.46297</td>\n",
              "      <td>20.569505</td>\n",
              "    </tr>\n",
              "    <tr>\n",
              "      <th>Shared room</th>\n",
              "      <td>1.243590</td>\n",
              "      <td>1.00000</td>\n",
              "      <td>12.940171</td>\n",
              "    </tr>\n",
              "  </tbody>\n",
              "</table>\n",
              "</div>\n",
              "    <div class=\"colab-df-buttons\">\n",
              "\n",
              "  <div class=\"colab-df-container\">\n",
              "    <button class=\"colab-df-convert\" onclick=\"convertToInteractive('df-6cb1d2ff-0471-49c6-91f2-f67f5fd0b002')\"\n",
              "            title=\"Convert this dataframe to an interactive table.\"\n",
              "            style=\"display:none;\">\n",
              "\n",
              "  <svg xmlns=\"http://www.w3.org/2000/svg\" height=\"24px\" viewBox=\"0 -960 960 960\">\n",
              "    <path d=\"M120-120v-720h720v720H120Zm60-500h600v-160H180v160Zm220 220h160v-160H400v160Zm0 220h160v-160H400v160ZM180-400h160v-160H180v160Zm440 0h160v-160H620v160ZM180-180h160v-160H180v160Zm440 0h160v-160H620v160Z\"/>\n",
              "  </svg>\n",
              "    </button>\n",
              "\n",
              "  <style>\n",
              "    .colab-df-container {\n",
              "      display:flex;\n",
              "      gap: 12px;\n",
              "    }\n",
              "\n",
              "    .colab-df-convert {\n",
              "      background-color: #E8F0FE;\n",
              "      border: none;\n",
              "      border-radius: 50%;\n",
              "      cursor: pointer;\n",
              "      display: none;\n",
              "      fill: #1967D2;\n",
              "      height: 32px;\n",
              "      padding: 0 0 0 0;\n",
              "      width: 32px;\n",
              "    }\n",
              "\n",
              "    .colab-df-convert:hover {\n",
              "      background-color: #E2EBFA;\n",
              "      box-shadow: 0px 1px 2px rgba(60, 64, 67, 0.3), 0px 1px 3px 1px rgba(60, 64, 67, 0.15);\n",
              "      fill: #174EA6;\n",
              "    }\n",
              "\n",
              "    .colab-df-buttons div {\n",
              "      margin-bottom: 4px;\n",
              "    }\n",
              "\n",
              "    [theme=dark] .colab-df-convert {\n",
              "      background-color: #3B4455;\n",
              "      fill: #D2E3FC;\n",
              "    }\n",
              "\n",
              "    [theme=dark] .colab-df-convert:hover {\n",
              "      background-color: #434B5C;\n",
              "      box-shadow: 0px 1px 3px 1px rgba(0, 0, 0, 0.15);\n",
              "      filter: drop-shadow(0px 1px 2px rgba(0, 0, 0, 0.3));\n",
              "      fill: #FFFFFF;\n",
              "    }\n",
              "  </style>\n",
              "\n",
              "    <script>\n",
              "      const buttonEl =\n",
              "        document.querySelector('#df-6cb1d2ff-0471-49c6-91f2-f67f5fd0b002 button.colab-df-convert');\n",
              "      buttonEl.style.display =\n",
              "        google.colab.kernel.accessAllowed ? 'block' : 'none';\n",
              "\n",
              "      async function convertToInteractive(key) {\n",
              "        const element = document.querySelector('#df-6cb1d2ff-0471-49c6-91f2-f67f5fd0b002');\n",
              "        const dataTable =\n",
              "          await google.colab.kernel.invokeFunction('convertToInteractive',\n",
              "                                                    [key], {});\n",
              "        if (!dataTable) return;\n",
              "\n",
              "        const docLinkHtml = 'Like what you see? Visit the ' +\n",
              "          '<a target=\"_blank\" href=https://colab.research.google.com/notebooks/data_table.ipynb>data table notebook</a>'\n",
              "          + ' to learn more about interactive tables.';\n",
              "        element.innerHTML = '';\n",
              "        dataTable['output_type'] = 'display_data';\n",
              "        await google.colab.output.renderOutput(dataTable, element);\n",
              "        const docLink = document.createElement('div');\n",
              "        docLink.innerHTML = docLinkHtml;\n",
              "        element.appendChild(docLink);\n",
              "      }\n",
              "    </script>\n",
              "  </div>\n",
              "\n",
              "\n",
              "<div id=\"df-2f650db3-fe6d-4145-914a-6b2cef38f8dc\">\n",
              "  <button class=\"colab-df-quickchart\" onclick=\"quickchart('df-2f650db3-fe6d-4145-914a-6b2cef38f8dc')\"\n",
              "            title=\"Suggest charts\"\n",
              "            style=\"display:none;\">\n",
              "\n",
              "<svg xmlns=\"http://www.w3.org/2000/svg\" height=\"24px\"viewBox=\"0 0 24 24\"\n",
              "     width=\"24px\">\n",
              "    <g>\n",
              "        <path d=\"M19 3H5c-1.1 0-2 .9-2 2v14c0 1.1.9 2 2 2h14c1.1 0 2-.9 2-2V5c0-1.1-.9-2-2-2zM9 17H7v-7h2v7zm4 0h-2V7h2v10zm4 0h-2v-4h2v4z\"/>\n",
              "    </g>\n",
              "</svg>\n",
              "  </button>\n",
              "\n",
              "<style>\n",
              "  .colab-df-quickchart {\n",
              "      --bg-color: #E8F0FE;\n",
              "      --fill-color: #1967D2;\n",
              "      --hover-bg-color: #E2EBFA;\n",
              "      --hover-fill-color: #174EA6;\n",
              "      --disabled-fill-color: #AAA;\n",
              "      --disabled-bg-color: #DDD;\n",
              "  }\n",
              "\n",
              "  [theme=dark] .colab-df-quickchart {\n",
              "      --bg-color: #3B4455;\n",
              "      --fill-color: #D2E3FC;\n",
              "      --hover-bg-color: #434B5C;\n",
              "      --hover-fill-color: #FFFFFF;\n",
              "      --disabled-bg-color: #3B4455;\n",
              "      --disabled-fill-color: #666;\n",
              "  }\n",
              "\n",
              "  .colab-df-quickchart {\n",
              "    background-color: var(--bg-color);\n",
              "    border: none;\n",
              "    border-radius: 50%;\n",
              "    cursor: pointer;\n",
              "    display: none;\n",
              "    fill: var(--fill-color);\n",
              "    height: 32px;\n",
              "    padding: 0;\n",
              "    width: 32px;\n",
              "  }\n",
              "\n",
              "  .colab-df-quickchart:hover {\n",
              "    background-color: var(--hover-bg-color);\n",
              "    box-shadow: 0 1px 2px rgba(60, 64, 67, 0.3), 0 1px 3px 1px rgba(60, 64, 67, 0.15);\n",
              "    fill: var(--button-hover-fill-color);\n",
              "  }\n",
              "\n",
              "  .colab-df-quickchart-complete:disabled,\n",
              "  .colab-df-quickchart-complete:disabled:hover {\n",
              "    background-color: var(--disabled-bg-color);\n",
              "    fill: var(--disabled-fill-color);\n",
              "    box-shadow: none;\n",
              "  }\n",
              "\n",
              "  .colab-df-spinner {\n",
              "    border: 2px solid var(--fill-color);\n",
              "    border-color: transparent;\n",
              "    border-bottom-color: var(--fill-color);\n",
              "    animation:\n",
              "      spin 1s steps(1) infinite;\n",
              "  }\n",
              "\n",
              "  @keyframes spin {\n",
              "    0% {\n",
              "      border-color: transparent;\n",
              "      border-bottom-color: var(--fill-color);\n",
              "      border-left-color: var(--fill-color);\n",
              "    }\n",
              "    20% {\n",
              "      border-color: transparent;\n",
              "      border-left-color: var(--fill-color);\n",
              "      border-top-color: var(--fill-color);\n",
              "    }\n",
              "    30% {\n",
              "      border-color: transparent;\n",
              "      border-left-color: var(--fill-color);\n",
              "      border-top-color: var(--fill-color);\n",
              "      border-right-color: var(--fill-color);\n",
              "    }\n",
              "    40% {\n",
              "      border-color: transparent;\n",
              "      border-right-color: var(--fill-color);\n",
              "      border-top-color: var(--fill-color);\n",
              "    }\n",
              "    60% {\n",
              "      border-color: transparent;\n",
              "      border-right-color: var(--fill-color);\n",
              "    }\n",
              "    80% {\n",
              "      border-color: transparent;\n",
              "      border-right-color: var(--fill-color);\n",
              "      border-bottom-color: var(--fill-color);\n",
              "    }\n",
              "    90% {\n",
              "      border-color: transparent;\n",
              "      border-bottom-color: var(--fill-color);\n",
              "    }\n",
              "  }\n",
              "</style>\n",
              "\n",
              "  <script>\n",
              "    async function quickchart(key) {\n",
              "      const quickchartButtonEl =\n",
              "        document.querySelector('#' + key + ' button');\n",
              "      quickchartButtonEl.disabled = true;  // To prevent multiple clicks.\n",
              "      quickchartButtonEl.classList.add('colab-df-spinner');\n",
              "      try {\n",
              "        const charts = await google.colab.kernel.invokeFunction(\n",
              "            'suggestCharts', [key], {});\n",
              "      } catch (error) {\n",
              "        console.error('Error during call to suggestCharts:', error);\n",
              "      }\n",
              "      quickchartButtonEl.classList.remove('colab-df-spinner');\n",
              "      quickchartButtonEl.classList.add('colab-df-quickchart-complete');\n",
              "    }\n",
              "    (() => {\n",
              "      let quickchartButtonEl =\n",
              "        document.querySelector('#df-2f650db3-fe6d-4145-914a-6b2cef38f8dc button');\n",
              "      quickchartButtonEl.style.display =\n",
              "        google.colab.kernel.accessAllowed ? 'block' : 'none';\n",
              "    })();\n",
              "  </script>\n",
              "</div>\n",
              "\n",
              "    </div>\n",
              "  </div>\n"
            ],
            "application/vnd.google.colaboratory.intrinsic+json": {
              "type": "dataframe",
              "variable_name": "df1_rtreviewavg",
              "summary": "{\n  \"name\": \"df1_rtreviewavg\",\n  \"rows\": 3,\n  \"fields\": [\n    {\n      \"column\": \"room_type\",\n      \"properties\": {\n        \"dtype\": \"string\",\n        \"num_unique_values\": 3,\n        \"samples\": [\n          \"Private room\",\n          \"Entire home/apt\",\n          \"Shared room\"\n        ],\n        \"semantic_type\": \"\",\n        \"description\": \"\"\n      }\n    },\n    {\n      \"column\": \"bathrooms\",\n      \"properties\": {\n        \"dtype\": \"number\",\n        \"std\": 0.07468780445072033,\n        \"min\": 1.1582827406764962,\n        \"max\": 1.3071287128712872,\n        \"num_unique_values\": 3,\n        \"samples\": [\n          1.1582827406764962,\n          1.3071287128712872,\n          1.2435897435897436\n        ],\n        \"semantic_type\": \"\",\n        \"description\": \"\"\n      }\n    },\n    {\n      \"column\": \"bedrooms\",\n      \"properties\": {\n        \"dtype\": \"number\",\n        \"std\": 0.26729602561689997,\n        \"min\": 1.0,\n        \"max\": 1.462970297029703,\n        \"num_unique_values\": 2,\n        \"samples\": [\n          1.462970297029703,\n          1.0\n        ],\n        \"semantic_type\": \"\",\n        \"description\": \"\"\n      }\n    },\n    {\n      \"column\": \"number_of_reviews\",\n      \"properties\": {\n        \"dtype\": \"number\",\n        \"std\": 6.77422962936605,\n        \"min\": 12.94017094017094,\n        \"max\": 26.450997398091936,\n        \"num_unique_values\": 3,\n        \"samples\": [\n          26.450997398091936,\n          20.56950495049505\n        ],\n        \"semantic_type\": \"\",\n        \"description\": \"\"\n      }\n    }\n  ]\n}"
            }
          },
          "metadata": {},
          "execution_count": 117
        }
      ]
    },
    {
      "cell_type": "code",
      "source": [
        "#barplot customer average reviews for different room types\n",
        "plt.figure(figsize=(6,3))\n",
        "sns.barplot(x=df1_rtreviewavg.number_of_reviews,y=df1_rtreviewavg.number_of_reviews.index)\n",
        "plot_label('Customer Review Preferences for room type','Average number of reviews','Room type')"
      ],
      "metadata": {
        "execution": {
          "iopub.status.busy": "2024-04-19T03:30:15.916708Z",
          "iopub.execute_input": "2024-04-19T03:30:15.917091Z",
          "iopub.status.idle": "2024-04-19T03:30:16.281400Z",
          "shell.execute_reply.started": "2024-04-19T03:30:15.917064Z",
          "shell.execute_reply": "2024-04-19T03:30:16.280258Z"
        },
        "trusted": true,
        "colab": {
          "base_uri": "https://localhost:8080/",
          "height": 333
        },
        "id": "S61fyBBrvF9y",
        "outputId": "f917fcff-0d2f-4189-8bbf-fcc452702133"
      },
      "execution_count": null,
      "outputs": [
        {
          "output_type": "display_data",
          "data": {
            "text/plain": [
              "<Figure size 600x300 with 1 Axes>"
            ],
            "image/png": "[encoded data removed]"
          },
          "metadata": {}
        }
      ]
    },
    {
      "cell_type": "markdown",
      "source": [
        "Observation: The most favorable room type for custermer to write a review is 'Private room'."
      ],
      "metadata": {
        "id": "xaIihGWmvF9y"
      }
    },
    {
      "cell_type": "markdown",
      "source": [
        "**Answers to Q1:What kinds of property are favorate type in airbnb?**\n",
        "\n",
        ">From host side, they prefer to list 'entire home/apartment' as room type. House and apartment are their favorate listing property type.\n",
        "\n",
        ">From customer side, they are more willing to write reviews for property type 'Cabin' and room type 'Private room'"
      ],
      "metadata": {
        "id": "Smv4f4FvvF9y"
      }
    },
    {
      "cell_type": "markdown",
      "source": [
        "* **Which neighborhood are most popular?**"
      ],
      "metadata": {
        "id": "ru_MmeIUvF9y"
      }
    },
    {
      "cell_type": "code",
      "source": [
        "df2.info()"
      ],
      "metadata": {
        "execution": {
          "iopub.status.busy": "2024-04-19T03:40:24.514015Z",
          "iopub.execute_input": "2024-04-19T03:40:24.514423Z",
          "iopub.status.idle": "2024-04-19T03:40:24.527045Z",
          "shell.execute_reply.started": "2024-04-19T03:40:24.514392Z",
          "shell.execute_reply": "2024-04-19T03:40:24.526110Z"
        },
        "trusted": true,
        "colab": {
          "base_uri": "https://localhost:8080/"
        },
        "id": "-SweZqsWvF9y",
        "outputId": "7fa04a5b-b370-4251-edf1-9a1ed0f8a892"
      },
      "execution_count": null,
      "outputs": [
        {
          "output_type": "stream",
          "name": "stdout",
          "text": [
            "<class 'pandas.core.frame.DataFrame'>\n",
            "Index: 3811 entries, 0 to 3817\n",
            "Data columns (total 4 columns):\n",
            " #   Column                        Non-Null Count  Dtype  \n",
            "---  ------                        --------------  -----  \n",
            " 0   id                            3811 non-null   object \n",
            " 1   neighbourhood_group_cleansed  3811 non-null   object \n",
            " 2   zipcode                       3811 non-null   object \n",
            " 3   number_of_reviews             3811 non-null   float64\n",
            "dtypes: float64(1), object(3)\n",
            "memory usage: 277.9+ KB\n"
          ]
        }
      ]
    },
    {
      "cell_type": "code",
      "source": [
        "# countplot for listings of neighbourhood\n",
        "plt.figure(figsize=(6, 6))\n",
        "sns.countplot(data=df2, y='neighbourhood_group_cleansed', order=get_order(df2['neighbourhood_group_cleansed']))\n",
        "plot_label('Number of Listings by Diffenerent Neighborhood','Number of Listings','Neighborhood Group')"
      ],
      "metadata": {
        "execution": {
          "iopub.status.busy": "2024-04-19T03:45:57.518320Z",
          "iopub.execute_input": "2024-04-19T03:45:57.519372Z",
          "iopub.status.idle": "2024-04-19T03:45:57.994839Z",
          "shell.execute_reply.started": "2024-04-19T03:45:57.519329Z",
          "shell.execute_reply": "2024-04-19T03:45:57.993763Z"
        },
        "trusted": true,
        "colab": {
          "base_uri": "https://localhost:8080/",
          "height": 564
        },
        "id": "vi_RgDo5vF9y",
        "outputId": "795c4a67-bed1-4b36-fa98-59e47af6fde7"
      },
      "execution_count": null,
      "outputs": [
        {
          "output_type": "display_data",
          "data": {
            "text/plain": [
              "<Figure size 600x600 with 1 Axes>"
            ],
            "image/png": "[encoded data removed]"
          },
          "metadata": {}
        }
      ]
    },
    {
      "cell_type": "markdown",
      "source": [
        "observation: Most listings come from 'other neighbourhood' and followed by Capitol hill. But since 'other neighbourhood' is very unclear, I add a plot to check the zipcode."
      ],
      "metadata": {
        "id": "1KZzIqEBvF9z"
      }
    },
    {
      "cell_type": "code",
      "source": [
        "# countplot for listings of zipcode\n",
        "plt.figure(figsize=(8, 6))\n",
        "sns.countplot(data=df2, y='zipcode', order=get_order(df2['zipcode']))\n",
        "plot_label('Number of Listings by Zipcode','Number of Listings','Zipcode')"
      ],
      "metadata": {
        "execution": {
          "iopub.status.busy": "2024-04-19T03:46:54.960419Z",
          "iopub.execute_input": "2024-04-19T03:46:54.960774Z",
          "iopub.status.idle": "2024-04-19T03:46:55.529271Z",
          "shell.execute_reply.started": "2024-04-19T03:46:54.960747Z",
          "shell.execute_reply": "2024-04-19T03:46:55.528190Z"
        },
        "trusted": true,
        "colab": {
          "base_uri": "https://localhost:8080/",
          "height": 564
        },
        "id": "0XS10CVQvF9z",
        "outputId": "6df8049b-e9f3-4dfd-ff31-3d579b99239f"
      },
      "execution_count": null,
      "outputs": [
        {
          "output_type": "display_data",
          "data": {
            "text/plain": [
              "<Figure size 800x600 with 1 Axes>"
            ],
            "image/png": "[encoded data removed]"
          },
          "metadata": {}
        }
      ]
    },
    {
      "cell_type": "markdown",
      "source": [
        "observation: the most listing is in 98122 area, which includes part of capitol hill, part of central district, and part of madrona district."
      ],
      "metadata": {
        "id": "OiPiAfW7vF9z"
      }
    },
    {
      "cell_type": "markdown",
      "source": [
        "**Answers to Q2:Which neighborhood are most popular?**\n",
        "\n",
        ">Based on the zipcode, 98122 area is the most popular neighborhood for listings."
      ],
      "metadata": {
        "id": "loBg6mqxvF9z"
      }
    },
    {
      "cell_type": "markdown",
      "source": [
        "* **How well can I predict the price(in airbnb) of a property based on the data?**"
      ],
      "metadata": {
        "id": "RYlXnL9qvF9z"
      }
    },
    {
      "cell_type": "code",
      "source": [
        "df3.info()"
      ],
      "metadata": {
        "execution": {
          "iopub.status.busy": "2024-04-19T03:58:08.321554Z",
          "iopub.execute_input": "2024-04-19T03:58:08.321931Z",
          "iopub.status.idle": "2024-04-19T03:58:08.338903Z",
          "shell.execute_reply.started": "2024-04-19T03:58:08.321904Z",
          "shell.execute_reply": "2024-04-19T03:58:08.337767Z"
        },
        "trusted": true,
        "colab": {
          "base_uri": "https://localhost:8080/"
        },
        "id": "hTZ3kl_mvF9z",
        "outputId": "d7aed276-53c1-4066-e142-c4f630fec43a"
      },
      "execution_count": null,
      "outputs": [
        {
          "output_type": "stream",
          "name": "stdout",
          "text": [
            "<class 'pandas.core.frame.DataFrame'>\n",
            "Index: 3788 entries, 0 to 3817\n",
            "Data columns (total 13 columns):\n",
            " #   Column                        Non-Null Count  Dtype  \n",
            "---  ------                        --------------  -----  \n",
            " 0   id                            3788 non-null   object \n",
            " 1   room_type                     3788 non-null   object \n",
            " 2   property_type                 3788 non-null   object \n",
            " 3   bathrooms                     3788 non-null   float64\n",
            " 4   bedrooms                      3788 non-null   float64\n",
            " 5   accommodates                  3788 non-null   object \n",
            " 6   amenities                     3788 non-null   object \n",
            " 7   neighbourhood_group_cleansed  3788 non-null   object \n",
            " 8   zipcode                       3788 non-null   object \n",
            " 9   price                         3788 non-null   float64\n",
            " 10  number_of_reviews             3788 non-null   float64\n",
            " 11  review_scores_rating          3147 non-null   object \n",
            " 12  rating_is_null                3788 non-null   object \n",
            "dtypes: float64(4), object(9)\n",
            "memory usage: 543.4+ KB\n"
          ]
        }
      ]
    },
    {
      "cell_type": "code",
      "source": [
        "df3['review_scores_rating'].fillna(df3['review_scores_rating'].mean(),inplace=True)\n",
        "df3.info()"
      ],
      "metadata": {
        "execution": {
          "iopub.status.busy": "2024-04-19T04:17:20.034122Z",
          "iopub.execute_input": "2024-04-19T04:17:20.034537Z",
          "iopub.status.idle": "2024-04-19T04:17:20.053968Z",
          "shell.execute_reply.started": "2024-04-19T04:17:20.034507Z",
          "shell.execute_reply": "2024-04-19T04:17:20.053101Z"
        },
        "trusted": true,
        "colab": {
          "base_uri": "https://localhost:8080/"
        },
        "id": "jfEbcy2QvF9z",
        "outputId": "66225d49-8bd7-4312-8574-674b6fd2e40e"
      },
      "execution_count": null,
      "outputs": [
        {
          "output_type": "stream",
          "name": "stdout",
          "text": [
            "<class 'pandas.core.frame.DataFrame'>\n",
            "Index: 3788 entries, 0 to 3817\n",
            "Data columns (total 13 columns):\n",
            " #   Column                        Non-Null Count  Dtype  \n",
            "---  ------                        --------------  -----  \n",
            " 0   id                            3788 non-null   object \n",
            " 1   room_type                     3788 non-null   object \n",
            " 2   property_type                 3788 non-null   object \n",
            " 3   bathrooms                     3788 non-null   float64\n",
            " 4   bedrooms                      3788 non-null   float64\n",
            " 5   accommodates                  3788 non-null   object \n",
            " 6   amenities                     3788 non-null   object \n",
            " 7   neighbourhood_group_cleansed  3788 non-null   object \n",
            " 8   zipcode                       3788 non-null   object \n",
            " 9   price                         3788 non-null   float64\n",
            " 10  number_of_reviews             3788 non-null   float64\n",
            " 11  review_scores_rating          3788 non-null   float64\n",
            " 12  rating_is_null                3788 non-null   object \n",
            "dtypes: float64(5), object(8)\n",
            "memory usage: 543.4+ KB\n"
          ]
        },
        {
          "output_type": "stream",
          "name": "stderr",
          "text": [
            "<ipython-input-123-ce15d37a78c8>:1: SettingWithCopyWarning: \n",
            "A value is trying to be set on a copy of a slice from a DataFrame\n",
            "\n",
            "See the caveats in the documentation: https://pandas.pydata.org/pandas-docs/stable/user_guide/indexing.html#returning-a-view-versus-a-copy\n",
            "  df3['review_scores_rating'].fillna(df3['review_scores_rating'].mean(),inplace=True)\n"
          ]
        }
      ]
    },
    {
      "cell_type": "code",
      "source": [
        "# import libraries for regression\n",
        "from sklearn.linear_model import LinearRegression\n",
        "from sklearn.model_selection import train_test_split\n",
        "from sklearn.metrics import r2_score, mean_squared_error\n",
        "from sklearn.preprocessing import StandardScaler\n",
        "from sklearn.pipeline import make_pipeline"
      ],
      "metadata": {
        "execution": {
          "iopub.status.busy": "2024-04-19T03:59:36.361618Z",
          "iopub.execute_input": "2024-04-19T03:59:36.361998Z",
          "iopub.status.idle": "2024-04-19T03:59:36.707412Z",
          "shell.execute_reply.started": "2024-04-19T03:59:36.361966Z",
          "shell.execute_reply": "2024-04-19T03:59:36.706406Z"
        },
        "trusted": true,
        "id": "v_lS8Dj2vF9z"
      },
      "execution_count": 9,
      "outputs": []
    },
    {
      "cell_type": "code",
      "source": [
        "# Create dummy for room type\n",
        "dummy_df_rmtp = pd.get_dummies(df3['room_type'])\n",
        "print(dummy_df_rmtp.columns,dummy_df_rmtp.shape)"
      ],
      "metadata": {
        "execution": {
          "iopub.status.busy": "2024-04-19T04:30:56.995112Z",
          "iopub.execute_input": "2024-04-19T04:30:56.996144Z",
          "iopub.status.idle": "2024-04-19T04:30:57.009925Z",
          "shell.execute_reply.started": "2024-04-19T04:30:56.996090Z",
          "shell.execute_reply": "2024-04-19T04:30:57.008994Z"
        },
        "trusted": true,
        "colab": {
          "base_uri": "https://localhost:8080/"
        },
        "id": "YNOnAXDdvF90",
        "outputId": "b384cda6-795c-49d7-d9c0-1ea04dcfc584"
      },
      "execution_count": null,
      "outputs": [
        {
          "output_type": "stream",
          "name": "stdout",
          "text": [
            "Index(['Entire home/apt', 'Private room', 'Shared room'], dtype='object') (3788, 3)\n"
          ]
        }
      ]
    },
    {
      "cell_type": "code",
      "source": [
        "# Create dummy for property type\n",
        "dummy_df_prtp = pd.get_dummies(df3['property_type'])\n",
        "print(dummy_df_prtp.columns,dummy_df_prtp.shape)"
      ],
      "metadata": {
        "execution": {
          "iopub.status.busy": "2024-04-19T04:25:03.449542Z",
          "iopub.execute_input": "2024-04-19T04:25:03.449948Z",
          "iopub.status.idle": "2024-04-19T04:25:03.470940Z",
          "shell.execute_reply.started": "2024-04-19T04:25:03.449918Z",
          "shell.execute_reply": "2024-04-19T04:25:03.469910Z"
        },
        "trusted": true,
        "colab": {
          "base_uri": "https://localhost:8080/"
        },
        "id": "c3hUjdEPvF90",
        "outputId": "4f29b257-c16c-4d43-a28a-8a0d1ab1c99f"
      },
      "execution_count": null,
      "outputs": [
        {
          "output_type": "stream",
          "name": "stdout",
          "text": [
            "Index(['Apartment', 'Bed & Breakfast', 'Boat', 'Bungalow', 'Cabin',\n",
            "       'Camper/RV', 'Chalet', 'Condominium', 'Dorm', 'House', 'Loft', 'Other',\n",
            "       'Tent', 'Townhouse', 'Treehouse', 'Yurt'],\n",
            "      dtype='object') (3788, 16)\n"
          ]
        }
      ]
    },
    {
      "cell_type": "code",
      "source": [
        "# Create dummy for neighbourhood\n",
        "dummy_df_nb = pd.get_dummies(df3['neighbourhood_group_cleansed'])\n",
        "print(dummy_df_nb.columns,dummy_df_nb.shape)"
      ],
      "metadata": {
        "execution": {
          "iopub.status.busy": "2024-04-19T04:37:00.001464Z",
          "iopub.execute_input": "2024-04-19T04:37:00.002047Z",
          "iopub.status.idle": "2024-04-19T04:37:00.011191Z",
          "shell.execute_reply.started": "2024-04-19T04:37:00.002020Z",
          "shell.execute_reply": "2024-04-19T04:37:00.010186Z"
        },
        "trusted": true,
        "colab": {
          "base_uri": "https://localhost:8080/"
        },
        "id": "yz_vZ4nCvF90",
        "outputId": "66ff1366-2ef0-4300-f0db-4638ce20a9b5"
      },
      "execution_count": null,
      "outputs": [
        {
          "output_type": "stream",
          "name": "stdout",
          "text": [
            "Index(['Ballard', 'Beacon Hill', 'Capitol Hill', 'Cascade', 'Central Area',\n",
            "       'Delridge', 'Downtown', 'Interbay', 'Lake City', 'Magnolia',\n",
            "       'Northgate', 'Other neighborhoods', 'Queen Anne', 'Rainier Valley',\n",
            "       'Seward Park', 'University District', 'West Seattle'],\n",
            "      dtype='object') (3788, 17)\n"
          ]
        }
      ]
    },
    {
      "cell_type": "code",
      "source": [
        "# Create dummy for rating is null\n",
        "dummy_df_rt = pd.get_dummies(df3['rating_is_null'])\n",
        "dummy_df_rt.head()"
      ],
      "metadata": {
        "execution": {
          "iopub.status.busy": "2024-04-19T04:31:02.880273Z",
          "iopub.execute_input": "2024-04-19T04:31:02.880656Z",
          "iopub.status.idle": "2024-04-19T04:31:02.894351Z",
          "shell.execute_reply.started": "2024-04-19T04:31:02.880628Z",
          "shell.execute_reply": "2024-04-19T04:31:02.893212Z"
        },
        "trusted": true,
        "colab": {
          "base_uri": "https://localhost:8080/",
          "height": 206
        },
        "id": "KDcUJB0BvF90",
        "outputId": "95834480-5776-49d0-c717-c578117a4bd3"
      },
      "execution_count": null,
      "outputs": [
        {
          "output_type": "execute_result",
          "data": {
            "text/plain": [
              "      No    Yes\n",
              "0   True  False\n",
              "1   True  False\n",
              "2   True  False\n",
              "3  False   True\n",
              "4   True  False"
            ],
            "text/html": [
              "\n",
              "  <div id=\"df-e121e5b1-9a6a-4b6d-9dc8-750b3dcc1440\" class=\"colab-df-container\">\n",
              "    <div>\n",
              "<style scoped>\n",
              "    .dataframe tbody tr th:only-of-type {\n",
              "        vertical-align: middle;\n",
              "    }\n",
              "\n",
              "    .dataframe tbody tr th {\n",
              "        vertical-align: top;\n",
              "    }\n",
              "\n",
              "    .dataframe thead th {\n",
              "        text-align: right;\n",
              "    }\n",
              "</style>\n",
              "<table border=\"1\" class=\"dataframe\">\n",
              "  <thead>\n",
              "    <tr style=\"text-align: right;\">\n",
              "      <th></th>\n",
              "      <th>No</th>\n",
              "      <th>Yes</th>\n",
              "    </tr>\n",
              "  </thead>\n",
              "  <tbody>\n",
              "    <tr>\n",
              "      <th>0</th>\n",
              "      <td>True</td>\n",
              "      <td>False</td>\n",
              "    </tr>\n",
              "    <tr>\n",
              "      <th>1</th>\n",
              "      <td>True</td>\n",
              "      <td>False</td>\n",
              "    </tr>\n",
              "    <tr>\n",
              "      <th>2</th>\n",
              "      <td>True</td>\n",
              "      <td>False</td>\n",
              "    </tr>\n",
              "    <tr>\n",
              "      <th>3</th>\n",
              "      <td>False</td>\n",
              "      <td>True</td>\n",
              "    </tr>\n",
              "    <tr>\n",
              "      <th>4</th>\n",
              "      <td>True</td>\n",
              "      <td>False</td>\n",
              "    </tr>\n",
              "  </tbody>\n",
              "</table>\n",
              "</div>\n",
              "    <div class=\"colab-df-buttons\">\n",
              "\n",
              "  <div class=\"colab-df-container\">\n",
              "    <button class=\"colab-df-convert\" onclick=\"convertToInteractive('df-e121e5b1-9a6a-4b6d-9dc8-750b3dcc1440')\"\n",
              "            title=\"Convert this dataframe to an interactive table.\"\n",
              "            style=\"display:none;\">\n",
              "\n",
              "  <svg xmlns=\"http://www.w3.org/2000/svg\" height=\"24px\" viewBox=\"0 -960 960 960\">\n",
              "    <path d=\"M120-120v-720h720v720H120Zm60-500h600v-160H180v160Zm220 220h160v-160H400v160Zm0 220h160v-160H400v160ZM180-400h160v-160H180v160Zm440 0h160v-160H620v160ZM180-180h160v-160H180v160Zm440 0h160v-160H620v160Z\"/>\n",
              "  </svg>\n",
              "    </button>\n",
              "\n",
              "  <style>\n",
              "    .colab-df-container {\n",
              "      display:flex;\n",
              "      gap: 12px;\n",
              "    }\n",
              "\n",
              "    .colab-df-convert {\n",
              "      background-color: #E8F0FE;\n",
              "      border: none;\n",
              "      border-radius: 50%;\n",
              "      cursor: pointer;\n",
              "      display: none;\n",
              "      fill: #1967D2;\n",
              "      height: 32px;\n",
              "      padding: 0 0 0 0;\n",
              "      width: 32px;\n",
              "    }\n",
              "\n",
              "    .colab-df-convert:hover {\n",
              "      background-color: #E2EBFA;\n",
              "      box-shadow: 0px 1px 2px rgba(60, 64, 67, 0.3), 0px 1px 3px 1px rgba(60, 64, 67, 0.15);\n",
              "      fill: #174EA6;\n",
              "    }\n",
              "\n",
              "    .colab-df-buttons div {\n",
              "      margin-bottom: 4px;\n",
              "    }\n",
              "\n",
              "    [theme=dark] .colab-df-convert {\n",
              "      background-color: #3B4455;\n",
              "      fill: #D2E3FC;\n",
              "    }\n",
              "\n",
              "    [theme=dark] .colab-df-convert:hover {\n",
              "      background-color: #434B5C;\n",
              "      box-shadow: 0px 1px 3px 1px rgba(0, 0, 0, 0.15);\n",
              "      filter: drop-shadow(0px 1px 2px rgba(0, 0, 0, 0.3));\n",
              "      fill: #FFFFFF;\n",
              "    }\n",
              "  </style>\n",
              "\n",
              "    <script>\n",
              "      const buttonEl =\n",
              "        document.querySelector('#df-e121e5b1-9a6a-4b6d-9dc8-750b3dcc1440 button.colab-df-convert');\n",
              "      buttonEl.style.display =\n",
              "        google.colab.kernel.accessAllowed ? 'block' : 'none';\n",
              "\n",
              "      async function convertToInteractive(key) {\n",
              "        const element = document.querySelector('#df-e121e5b1-9a6a-4b6d-9dc8-750b3dcc1440');\n",
              "        const dataTable =\n",
              "          await google.colab.kernel.invokeFunction('convertToInteractive',\n",
              "                                                    [key], {});\n",
              "        if (!dataTable) return;\n",
              "\n",
              "        const docLinkHtml = 'Like what you see? Visit the ' +\n",
              "          '<a target=\"_blank\" href=https://colab.research.google.com/notebooks/data_table.ipynb>data table notebook</a>'\n",
              "          + ' to learn more about interactive tables.';\n",
              "        element.innerHTML = '';\n",
              "        dataTable['output_type'] = 'display_data';\n",
              "        await google.colab.output.renderOutput(dataTable, element);\n",
              "        const docLink = document.createElement('div');\n",
              "        docLink.innerHTML = docLinkHtml;\n",
              "        element.appendChild(docLink);\n",
              "      }\n",
              "    </script>\n",
              "  </div>\n",
              "\n",
              "\n",
              "<div id=\"df-5e8efb2d-da64-4bdd-8f86-b23bd99aaf30\">\n",
              "  <button class=\"colab-df-quickchart\" onclick=\"quickchart('df-5e8efb2d-da64-4bdd-8f86-b23bd99aaf30')\"\n",
              "            title=\"Suggest charts\"\n",
              "            style=\"display:none;\">\n",
              "\n",
              "<svg xmlns=\"http://www.w3.org/2000/svg\" height=\"24px\"viewBox=\"0 0 24 24\"\n",
              "     width=\"24px\">\n",
              "    <g>\n",
              "        <path d=\"M19 3H5c-1.1 0-2 .9-2 2v14c0 1.1.9 2 2 2h14c1.1 0 2-.9 2-2V5c0-1.1-.9-2-2-2zM9 17H7v-7h2v7zm4 0h-2V7h2v10zm4 0h-2v-4h2v4z\"/>\n",
              "    </g>\n",
              "</svg>\n",
              "  </button>\n",
              "\n",
              "<style>\n",
              "  .colab-df-quickchart {\n",
              "      --bg-color: #E8F0FE;\n",
              "      --fill-color: #1967D2;\n",
              "      --hover-bg-color: #E2EBFA;\n",
              "      --hover-fill-color: #174EA6;\n",
              "      --disabled-fill-color: #AAA;\n",
              "      --disabled-bg-color: #DDD;\n",
              "  }\n",
              "\n",
              "  [theme=dark] .colab-df-quickchart {\n",
              "      --bg-color: #3B4455;\n",
              "      --fill-color: #D2E3FC;\n",
              "      --hover-bg-color: #434B5C;\n",
              "      --hover-fill-color: #FFFFFF;\n",
              "      --disabled-bg-color: #3B4455;\n",
              "      --disabled-fill-color: #666;\n",
              "  }\n",
              "\n",
              "  .colab-df-quickchart {\n",
              "    background-color: var(--bg-color);\n",
              "    border: none;\n",
              "    border-radius: 50%;\n",
              "    cursor: pointer;\n",
              "    display: none;\n",
              "    fill: var(--fill-color);\n",
              "    height: 32px;\n",
              "    padding: 0;\n",
              "    width: 32px;\n",
              "  }\n",
              "\n",
              "  .colab-df-quickchart:hover {\n",
              "    background-color: var(--hover-bg-color);\n",
              "    box-shadow: 0 1px 2px rgba(60, 64, 67, 0.3), 0 1px 3px 1px rgba(60, 64, 67, 0.15);\n",
              "    fill: var(--button-hover-fill-color);\n",
              "  }\n",
              "\n",
              "  .colab-df-quickchart-complete:disabled,\n",
              "  .colab-df-quickchart-complete:disabled:hover {\n",
              "    background-color: var(--disabled-bg-color);\n",
              "    fill: var(--disabled-fill-color);\n",
              "    box-shadow: none;\n",
              "  }\n",
              "\n",
              "  .colab-df-spinner {\n",
              "    border: 2px solid var(--fill-color);\n",
              "    border-color: transparent;\n",
              "    border-bottom-color: var(--fill-color);\n",
              "    animation:\n",
              "      spin 1s steps(1) infinite;\n",
              "  }\n",
              "\n",
              "  @keyframes spin {\n",
              "    0% {\n",
              "      border-color: transparent;\n",
              "      border-bottom-color: var(--fill-color);\n",
              "      border-left-color: var(--fill-color);\n",
              "    }\n",
              "    20% {\n",
              "      border-color: transparent;\n",
              "      border-left-color: var(--fill-color);\n",
              "      border-top-color: var(--fill-color);\n",
              "    }\n",
              "    30% {\n",
              "      border-color: transparent;\n",
              "      border-left-color: var(--fill-color);\n",
              "      border-top-color: var(--fill-color);\n",
              "      border-right-color: var(--fill-color);\n",
              "    }\n",
              "    40% {\n",
              "      border-color: transparent;\n",
              "      border-right-color: var(--fill-color);\n",
              "      border-top-color: var(--fill-color);\n",
              "    }\n",
              "    60% {\n",
              "      border-color: transparent;\n",
              "      border-right-color: var(--fill-color);\n",
              "    }\n",
              "    80% {\n",
              "      border-color: transparent;\n",
              "      border-right-color: var(--fill-color);\n",
              "      border-bottom-color: var(--fill-color);\n",
              "    }\n",
              "    90% {\n",
              "      border-color: transparent;\n",
              "      border-bottom-color: var(--fill-color);\n",
              "    }\n",
              "  }\n",
              "</style>\n",
              "\n",
              "  <script>\n",
              "    async function quickchart(key) {\n",
              "      const quickchartButtonEl =\n",
              "        document.querySelector('#' + key + ' button');\n",
              "      quickchartButtonEl.disabled = true;  // To prevent multiple clicks.\n",
              "      quickchartButtonEl.classList.add('colab-df-spinner');\n",
              "      try {\n",
              "        const charts = await google.colab.kernel.invokeFunction(\n",
              "            'suggestCharts', [key], {});\n",
              "      } catch (error) {\n",
              "        console.error('Error during call to suggestCharts:', error);\n",
              "      }\n",
              "      quickchartButtonEl.classList.remove('colab-df-spinner');\n",
              "      quickchartButtonEl.classList.add('colab-df-quickchart-complete');\n",
              "    }\n",
              "    (() => {\n",
              "      let quickchartButtonEl =\n",
              "        document.querySelector('#df-5e8efb2d-da64-4bdd-8f86-b23bd99aaf30 button');\n",
              "      quickchartButtonEl.style.display =\n",
              "        google.colab.kernel.accessAllowed ? 'block' : 'none';\n",
              "    })();\n",
              "  </script>\n",
              "</div>\n",
              "\n",
              "    </div>\n",
              "  </div>\n"
            ],
            "application/vnd.google.colaboratory.intrinsic+json": {
              "type": "dataframe",
              "variable_name": "dummy_df_rt",
              "summary": "{\n  \"name\": \"dummy_df_rt\",\n  \"rows\": 3788,\n  \"fields\": [\n    {\n      \"column\": \"No\",\n      \"properties\": {\n        \"dtype\": \"boolean\",\n        \"num_unique_values\": 2,\n        \"samples\": [\n          false,\n          true\n        ],\n        \"semantic_type\": \"\",\n        \"description\": \"\"\n      }\n    },\n    {\n      \"column\": \"Yes\",\n      \"properties\": {\n        \"dtype\": \"boolean\",\n        \"num_unique_values\": 2,\n        \"samples\": [\n          true,\n          false\n        ],\n        \"semantic_type\": \"\",\n        \"description\": \"\"\n      }\n    }\n  ]\n}"
            }
          },
          "metadata": {},
          "execution_count": 128
        }
      ]
    },
    {
      "cell_type": "code",
      "source": [
        "# drop one column for regression\n",
        "dummy_df_rmtp1 = dummy_df_rmtp.drop(columns='Shared room')\n",
        "dummy_df_prtp1 = dummy_df_prtp.drop(columns='Other')\n",
        "dummy_df_rt1 = dummy_df_rt.drop(columns = 'Yes')\n",
        "dummy_df_nb1 = dummy_df_nb.drop(columns='Other neighborhoods')"
      ],
      "metadata": {
        "execution": {
          "iopub.status.busy": "2024-04-19T04:37:51.601901Z",
          "iopub.execute_input": "2024-04-19T04:37:51.602346Z",
          "iopub.status.idle": "2024-04-19T04:37:51.609496Z",
          "shell.execute_reply.started": "2024-04-19T04:37:51.602313Z",
          "shell.execute_reply": "2024-04-19T04:37:51.608738Z"
        },
        "trusted": true,
        "id": "RoKjP5eYvF90"
      },
      "execution_count": null,
      "outputs": []
    },
    {
      "cell_type": "code",
      "source": [
        "# create the final dataset with dummies for the regression\n",
        "df3_wdumm = pd.concat([df3,dummy_df_rmtp1,dummy_df_prtp1,dummy_df_nb1,dummy_df_rt1],axis=1)\n",
        "df3_wdumm.columns"
      ],
      "metadata": {
        "execution": {
          "iopub.status.busy": "2024-04-19T04:38:07.737696Z",
          "iopub.execute_input": "2024-04-19T04:38:07.738062Z",
          "iopub.status.idle": "2024-04-19T04:38:07.750378Z",
          "shell.execute_reply.started": "2024-04-19T04:38:07.738026Z",
          "shell.execute_reply": "2024-04-19T04:38:07.749110Z"
        },
        "trusted": true,
        "colab": {
          "base_uri": "https://localhost:8080/"
        },
        "id": "kkNuqjlkvF90",
        "outputId": "10cd82d8-d601-4d09-ceb1-246831eabcdf"
      },
      "execution_count": null,
      "outputs": [
        {
          "output_type": "execute_result",
          "data": {
            "text/plain": [
              "Index(['id', 'room_type', 'property_type', 'bathrooms', 'bedrooms',\n",
              "       'accommodates', 'amenities', 'neighbourhood_group_cleansed', 'zipcode',\n",
              "       'price', 'number_of_reviews', 'review_scores_rating', 'rating_is_null',\n",
              "       'Entire home/apt', 'Private room', 'Apartment', 'Bed & Breakfast',\n",
              "       'Boat', 'Bungalow', 'Cabin', 'Camper/RV', 'Chalet', 'Condominium',\n",
              "       'Dorm', 'House', 'Loft', 'Tent', 'Townhouse', 'Treehouse', 'Yurt',\n",
              "       'Ballard', 'Beacon Hill', 'Capitol Hill', 'Cascade', 'Central Area',\n",
              "       'Delridge', 'Downtown', 'Interbay', 'Lake City', 'Magnolia',\n",
              "       'Northgate', 'Queen Anne', 'Rainier Valley', 'Seward Park',\n",
              "       'University District', 'West Seattle', 'No'],\n",
              "      dtype='object')"
            ]
          },
          "metadata": {},
          "execution_count": 130
        }
      ]
    },
    {
      "cell_type": "code",
      "source": [
        "# Double check the dataset\n",
        "df3_wdumm.info()"
      ],
      "metadata": {
        "execution": {
          "iopub.status.busy": "2024-04-19T04:46:07.097328Z",
          "iopub.execute_input": "2024-04-19T04:46:07.097673Z",
          "iopub.status.idle": "2024-04-19T04:46:07.124273Z",
          "shell.execute_reply.started": "2024-04-19T04:46:07.097647Z",
          "shell.execute_reply": "2024-04-19T04:46:07.122997Z"
        },
        "trusted": true,
        "colab": {
          "base_uri": "https://localhost:8080/"
        },
        "id": "SLbclpRDvF90",
        "outputId": "1d89449b-c1e8-4d2f-b79b-bb5269e858f7"
      },
      "execution_count": null,
      "outputs": [
        {
          "output_type": "stream",
          "name": "stdout",
          "text": [
            "<class 'pandas.core.frame.DataFrame'>\n",
            "Index: 3788 entries, 0 to 3817\n",
            "Data columns (total 47 columns):\n",
            " #   Column                        Non-Null Count  Dtype  \n",
            "---  ------                        --------------  -----  \n",
            " 0   id                            3788 non-null   object \n",
            " 1   room_type                     3788 non-null   object \n",
            " 2   property_type                 3788 non-null   object \n",
            " 3   bathrooms                     3788 non-null   float64\n",
            " 4   bedrooms                      3788 non-null   float64\n",
            " 5   accommodates                  3788 non-null   object \n",
            " 6   amenities                     3788 non-null   object \n",
            " 7   neighbourhood_group_cleansed  3788 non-null   object \n",
            " 8   zipcode                       3788 non-null   object \n",
            " 9   price                         3788 non-null   float64\n",
            " 10  number_of_reviews             3788 non-null   float64\n",
            " 11  review_scores_rating          3788 non-null   float64\n",
            " 12  rating_is_null                3788 non-null   object \n",
            " 13  Entire home/apt               3788 non-null   bool   \n",
            " 14  Private room                  3788 non-null   bool   \n",
            " 15  Apartment                     3788 non-null   bool   \n",
            " 16  Bed & Breakfast               3788 non-null   bool   \n",
            " 17  Boat                          3788 non-null   bool   \n",
            " 18  Bungalow                      3788 non-null   bool   \n",
            " 19  Cabin                         3788 non-null   bool   \n",
            " 20  Camper/RV                     3788 non-null   bool   \n",
            " 21  Chalet                        3788 non-null   bool   \n",
            " 22  Condominium                   3788 non-null   bool   \n",
            " 23  Dorm                          3788 non-null   bool   \n",
            " 24  House                         3788 non-null   bool   \n",
            " 25  Loft                          3788 non-null   bool   \n",
            " 26  Tent                          3788 non-null   bool   \n",
            " 27  Townhouse                     3788 non-null   bool   \n",
            " 28  Treehouse                     3788 non-null   bool   \n",
            " 29  Yurt                          3788 non-null   bool   \n",
            " 30  Ballard                       3788 non-null   bool   \n",
            " 31  Beacon Hill                   3788 non-null   bool   \n",
            " 32  Capitol Hill                  3788 non-null   bool   \n",
            " 33  Cascade                       3788 non-null   bool   \n",
            " 34  Central Area                  3788 non-null   bool   \n",
            " 35  Delridge                      3788 non-null   bool   \n",
            " 36  Downtown                      3788 non-null   bool   \n",
            " 37  Interbay                      3788 non-null   bool   \n",
            " 38  Lake City                     3788 non-null   bool   \n",
            " 39  Magnolia                      3788 non-null   bool   \n",
            " 40  Northgate                     3788 non-null   bool   \n",
            " 41  Queen Anne                    3788 non-null   bool   \n",
            " 42  Rainier Valley                3788 non-null   bool   \n",
            " 43  Seward Park                   3788 non-null   bool   \n",
            " 44  University District           3788 non-null   bool   \n",
            " 45  West Seattle                  3788 non-null   bool   \n",
            " 46  No                            3788 non-null   bool   \n",
            "dtypes: bool(34), float64(5), object(8)\n",
            "memory usage: 669.1+ KB\n"
          ]
        }
      ]
    },
    {
      "cell_type": "code",
      "source": [
        "# Define a function to record r2 and plot a r2 for different models and compare the regression results\n",
        "# Note: this function is from source codes from the Udacity exercises\n",
        "# Detail of reference is recorded at the end of the notebook and in the README.md\n",
        "def find_optimal_lm_mod(X, y, cutoffs, test_size = .30, random_state=42, plot=True):\n",
        "    '''\n",
        "    INPUT\n",
        "    X - pandas dataframe, X matrix\n",
        "    y - pandas dataframe, response variable\n",
        "    cutoffs - list of ints, cutoff for number of non-zero values in dummy categorical vars\n",
        "    test_size - float between 0 and 1, default 0.3, determines the proportion of data as test data\n",
        "    random_state - int, default 42, controls random state for train_test_split\n",
        "    plot - boolean, default 0.3, True to plot result\n",
        "\n",
        "    OUTPUT\n",
        "    r2_scores_test - list of floats of r2 scores on the test data\n",
        "    r2_scores_train - list of floats of r2 scores on the train data\n",
        "    lm_model - model object from sklearn\n",
        "    X_train, X_test, y_train, y_test - output from sklearn train test split used for optimal model\n",
        "    '''\n",
        "    r2_scores_test, r2_scores_train, num_feats, results = [], [], [], dict()\n",
        "    for cutoff in cutoffs:\n",
        "\n",
        "        #reduce X matrix\n",
        "        reduce_X = X.iloc[:, np.where((X.sum() > cutoff) == True)[0]]\n",
        "        num_feats.append(reduce_X.shape[1])\n",
        "\n",
        "        #split the data into train and test\n",
        "        X_train, X_test, y_train, y_test = train_test_split(reduce_X, y, test_size = test_size, random_state=random_state)\n",
        "\n",
        "        #fit the model and obtain pred response\n",
        "        '''\n",
        "     This is a revision of the previous code, 'LinearRegression' in 'sklearn' do not have \"normalize\" keyword\n",
        "     The 'LinearRegression' in 'statsmodels' has the normalize keyword\n",
        "    '''\n",
        "        lm_model = make_pipeline(StandardScaler(), LinearRegression())\n",
        "        #lm_model = LinearRegression()\n",
        "        lm_model.fit(X_train, y_train)\n",
        "        y_test_preds = lm_model.predict(X_test)\n",
        "        y_train_preds = lm_model.predict(X_train)\n",
        "\n",
        "        #append the r2 value from the test set\n",
        "        r2_scores_test.append(r2_score(y_test, y_test_preds))\n",
        "        r2_scores_train.append(r2_score(y_train, y_train_preds))\n",
        "        results[str(cutoff)] = r2_score(y_test, y_test_preds)\n",
        "\n",
        "    if plot:\n",
        "        plt.plot(num_feats, r2_scores_test, label=\"Test\", alpha=.5)\n",
        "        plt.plot(num_feats, r2_scores_train, label=\"Train\", alpha=.5)\n",
        "        plt.xlabel('Number of Features')\n",
        "        plt.ylabel('Rsquared')\n",
        "        plt.title('Rsquared by Number of Features')\n",
        "        plt.legend(loc=1)\n",
        "        plt.show()\n",
        "\n",
        "    best_cutoff = max(results, key=results.get)\n",
        "\n",
        "    #reduce X matrix\n",
        "    reduce_X = X.iloc[:, np.where((X.sum() > int(best_cutoff)) == True)[0]]\n",
        "    num_feats.append(reduce_X.shape[1])\n",
        "\n",
        "    #split the data into train and test\n",
        "    X_train, X_test, y_train, y_test = train_test_split(reduce_X, y, test_size = test_size, random_state=random_state)\n",
        "\n",
        "    #fit the model\n",
        "    '''\n",
        "     This is a revision of the previous code, 'LinearRegression' in 'sklearn' do not have \"normalize\" keyword\n",
        "     The 'LinearRegression' in 'statsmodels' has the normalize keyword\n",
        "    '''\n",
        "    lm_model = make_pipeline(StandardScaler(), LinearRegression())\n",
        "    #lm_model = LinearRegression()\n",
        "    lm_model.fit(X_train, y_train)\n",
        "\n",
        "\n",
        "    return r2_scores_test, r2_scores_train, lm_model, X_train, X_test, y_train, y_test"
      ],
      "metadata": {
        "execution": {
          "iopub.status.busy": "2024-04-19T04:39:32.534410Z",
          "iopub.execute_input": "2024-04-19T04:39:32.534821Z",
          "iopub.status.idle": "2024-04-19T04:39:32.550676Z",
          "shell.execute_reply.started": "2024-04-19T04:39:32.534790Z",
          "shell.execute_reply": "2024-04-19T04:39:32.549847Z"
        },
        "trusted": true,
        "id": "SzFt_oRNvF90"
      },
      "execution_count": null,
      "outputs": []
    },
    {
      "cell_type": "code",
      "source": [
        "# double check the shape of dependent varibale is consistent with predictors\n",
        "y = df3_wdumm['price']\n",
        "y.shape"
      ],
      "metadata": {
        "execution": {
          "iopub.status.busy": "2024-04-19T04:57:30.269293Z",
          "iopub.execute_input": "2024-04-19T04:57:30.269666Z",
          "iopub.status.idle": "2024-04-19T04:57:30.830055Z",
          "shell.execute_reply.started": "2024-04-19T04:57:30.269640Z",
          "shell.execute_reply": "2024-04-19T04:57:30.828596Z"
        },
        "trusted": true,
        "colab": {
          "base_uri": "https://localhost:8080/"
        },
        "id": "mhyGboF_vF91",
        "outputId": "fd0d4c6c-8d8e-482a-90bc-a1ed800fdad7"
      },
      "execution_count": null,
      "outputs": [
        {
          "output_type": "execute_result",
          "data": {
            "text/plain": [
              "(3788,)"
            ]
          },
          "metadata": {},
          "execution_count": 133
        }
      ]
    },
    {
      "cell_type": "code",
      "source": [
        "# prepare the predictors\n",
        "X = df3_wdumm.drop(columns=['id', 'room_type', 'property_type','accommodates', 'amenities', 'neighbourhood_group_cleansed', 'zipcode',\n",
        "       'price','rating_is_null'])\n",
        "X.columns"
      ],
      "metadata": {
        "execution": {
          "iopub.status.busy": "2024-04-19T04:42:15.388195Z",
          "iopub.execute_input": "2024-04-19T04:42:15.388599Z",
          "iopub.status.idle": "2024-04-19T04:42:15.399646Z",
          "shell.execute_reply.started": "2024-04-19T04:42:15.388570Z",
          "shell.execute_reply": "2024-04-19T04:42:15.398645Z"
        },
        "trusted": true,
        "colab": {
          "base_uri": "https://localhost:8080/"
        },
        "id": "vETWhTwUvF91",
        "outputId": "3d24e4d6-1d14-4f5c-99bf-ec624110dad0"
      },
      "execution_count": null,
      "outputs": [
        {
          "output_type": "execute_result",
          "data": {
            "text/plain": [
              "Index(['bathrooms', 'bedrooms', 'number_of_reviews', 'review_scores_rating',\n",
              "       'Entire home/apt', 'Private room', 'Apartment', 'Bed & Breakfast',\n",
              "       'Boat', 'Bungalow', 'Cabin', 'Camper/RV', 'Chalet', 'Condominium',\n",
              "       'Dorm', 'House', 'Loft', 'Tent', 'Townhouse', 'Treehouse', 'Yurt',\n",
              "       'Ballard', 'Beacon Hill', 'Capitol Hill', 'Cascade', 'Central Area',\n",
              "       'Delridge', 'Downtown', 'Interbay', 'Lake City', 'Magnolia',\n",
              "       'Northgate', 'Queen Anne', 'Rainier Valley', 'Seward Park',\n",
              "       'University District', 'West Seattle', 'No'],\n",
              "      dtype='object')"
            ]
          },
          "metadata": {},
          "execution_count": 134
        }
      ]
    },
    {
      "cell_type": "code",
      "source": [
        "#Cutoffs: number of missing values allowed in the one predictor.(The lower the values, the more predictors(features) in the model)\n",
        "cutoffs = [3500, 2500, 1500, 500, 100, 50, 30, 10]\n",
        "r2_scores_test, r2_scores_train, lm_model, X_train, X_test, y_train, y_test = find_optimal_lm_mod(X, y, cutoffs,test_size = .3,random_state=4)"
      ],
      "metadata": {
        "execution": {
          "iopub.status.busy": "2024-04-19T04:43:35.624326Z",
          "iopub.execute_input": "2024-04-19T04:43:35.625324Z",
          "iopub.status.idle": "2024-04-19T04:43:36.018514Z",
          "shell.execute_reply.started": "2024-04-19T04:43:35.625277Z",
          "shell.execute_reply": "2024-04-19T04:43:36.016063Z"
        },
        "trusted": true,
        "colab": {
          "base_uri": "https://localhost:8080/",
          "height": 472
        },
        "id": "W-mrhBb3vF91",
        "outputId": "acef5aa5-8097-4eb9-8d3e-52c4d31aa769"
      },
      "execution_count": null,
      "outputs": [
        {
          "output_type": "display_data",
          "data": {
            "text/plain": [
              "<Figure size 640x480 with 1 Axes>"
            ],
            "image/png": "[encoded data removed]"
          },
          "metadata": {}
        }
      ]
    },
    {
      "cell_type": "code",
      "source": [
        "# Show coeffcient and intercept for the model\n",
        "coefficients = lm_model.named_steps['linearregression'].coef_\n",
        "intercept = lm_model.named_steps['linearregression'].intercept_\n",
        "print(\"Coefficients:\", coefficients)\n",
        "print(\"Intercept:\", intercept)"
      ],
      "metadata": {
        "colab": {
          "base_uri": "https://localhost:8080/"
        },
        "id": "-9xiPtyrvF91",
        "outputId": "0572694f-89a6-4b82-c994-57ab27f179a2"
      },
      "execution_count": null,
      "outputs": [
        {
          "output_type": "stream",
          "name": "stdout",
          "text": [
            "Coefficients: [18.62545542 42.66168029 -3.92620565  3.40477643 39.82957683 16.85996317\n",
            " -9.14545147 -7.43353507 -3.4978599  -0.34016539 -2.78921689  7.19713587\n",
            "  0.89068862 13.49540388  7.94556521 -3.81648105 -0.31244275  0.4677189\n",
            " -1.98557399]\n",
            "Intercept: 128.18106374952848\n"
          ]
        }
      ]
    },
    {
      "cell_type": "code",
      "source": [
        "# Check what columns are included for the best-fit model\n",
        "X_train.columns"
      ],
      "metadata": {
        "colab": {
          "base_uri": "https://localhost:8080/"
        },
        "id": "jeX2g7JP-t3b",
        "outputId": "99b00bd8-c63c-4cf4-c0ec-3c641d31c1d6"
      },
      "execution_count": null,
      "outputs": [
        {
          "output_type": "execute_result",
          "data": {
            "text/plain": [
              "Index(['bathrooms', 'bedrooms', 'number_of_reviews', 'review_scores_rating',\n",
              "       'Entire home/apt', 'Private room', 'Apartment', 'House', 'Townhouse',\n",
              "       'Ballard', 'Beacon Hill', 'Capitol Hill', 'Central Area', 'Downtown',\n",
              "       'Queen Anne', 'Rainier Valley', 'University District', 'West Seattle',\n",
              "       'No'],\n",
              "      dtype='object')"
            ]
          },
          "metadata": {},
          "execution_count": 137
        }
      ]
    },
    {
      "cell_type": "code",
      "source": [
        "# Check how many features and data are included for training set in the best-fit model\n",
        "X_train.shape"
      ],
      "metadata": {
        "colab": {
          "base_uri": "https://localhost:8080/"
        },
        "id": "0GM7Q1TZ-2kX",
        "outputId": "c3cdf68b-80c1-4201-a918-94fae44e8975"
      },
      "execution_count": null,
      "outputs": [
        {
          "output_type": "execute_result",
          "data": {
            "text/plain": [
              "(2651, 19)"
            ]
          },
          "metadata": {},
          "execution_count": 138
        }
      ]
    },
    {
      "cell_type": "code",
      "source": [
        "# Check the number of original features and data are included for training set in the best-fit model\n",
        "X.shape"
      ],
      "metadata": {
        "colab": {
          "base_uri": "https://localhost:8080/"
        },
        "id": "yNAUKdPW-v8w",
        "outputId": "003a5f03-5101-4f04-87b3-851b33a5d5d2"
      },
      "execution_count": null,
      "outputs": [
        {
          "output_type": "execute_result",
          "data": {
            "text/plain": [
              "(3788, 38)"
            ]
          },
          "metadata": {},
          "execution_count": 139
        }
      ]
    },
    {
      "cell_type": "code",
      "source": [
        "# check the r2 for the test set\n",
        "r2_scores_test"
      ],
      "metadata": {
        "colab": {
          "base_uri": "https://localhost:8080/"
        },
        "id": "w1bEGcNBWZW2",
        "outputId": "9f4cc836-fe25-45fa-9135-104bbbb14475"
      },
      "execution_count": null,
      "outputs": [
        {
          "output_type": "execute_result",
          "data": {
            "text/plain": [
              "[0.39078347309096684,\n",
              " 0.48705236990282286,\n",
              " 0.4891311107329398,\n",
              " 0.5206738286252472,\n",
              " 0.5274814337137075,\n",
              " 0.5269572931845051,\n",
              " 0.5224915450390308,\n",
              " 0.5225421177255766]"
            ]
          },
          "metadata": {},
          "execution_count": 140
        }
      ]
    },
    {
      "cell_type": "code",
      "source": [
        "# check the r2 for the training set\n",
        "r2_scores_train"
      ],
      "metadata": {
        "colab": {
          "base_uri": "https://localhost:8080/"
        },
        "id": "E33ASxMqWaSN",
        "outputId": "02c4295a-c4e9-44c0-817f-fa59c2804946"
      },
      "execution_count": null,
      "outputs": [
        {
          "output_type": "execute_result",
          "data": {
            "text/plain": [
              "[0.4380976014902618,\n",
              " 0.5252273487230834,\n",
              " 0.5281342398378468,\n",
              " 0.5466706060161473,\n",
              " 0.5579931272321506,\n",
              " 0.5689257322589925,\n",
              " 0.5703931282840451,\n",
              " 0.5704976421332284]"
            ]
          },
          "metadata": {},
          "execution_count": 141
        }
      ]
    },
    {
      "cell_type": "markdown",
      "source": [
        "**Answers to Q3:How well can I predict the price(in airbnb) of a property based on the data?**\n",
        "\n",
        ">Based on the model results, the best R-square for test data is 0.527. The best model use 19 out of 38 features as predictors."
      ],
      "metadata": {
        "id": "k-0n8xLDC2Ui"
      }
    },
    {
      "cell_type": "markdown",
      "source": [
        "#### References:\n",
        ">Function name: `find_optimal_lm_mod(X, y, cutoffs, test_size = .30, random_state=42, plot=True)`\n",
        ">\n",
        ">Lesson Title: `Putting It All Together - Solution.ipynb`\n",
        ">\n",
        "> Sources Code Name: `AllTogether.py`\n",
        ">\n",
        ">Author: Udacity \"Introduction to Data Science\"\n",
        ">Date: 2022\n",
        ">\n",
        ">Code version: N/A\n",
        ">\n",
        ">Availability: [Udacity-Intro-to-data-secience](https://learn.udacity.com/nanodegrees/nd025/parts/cd0017/lessons/e630cd91-988b-46bb-ad6c-4a0737172630/concepts/1dd4a20f-c4ad-474a-ab56-14f7050affb9)"
      ],
      "metadata": {
        "id": "lOtXAs5dduIb"
      }
    },
    {
      "cell_type": "code",
      "source": [
        "\n",
        "!jupyter nbconvert --to html /seattle-airbnb-data-analysis.ipynb"
      ],
      "metadata": {
        "id": "MO0oyRs4-0o3",
        "colab": {
          "base_uri": "https://localhost:8080/"
        },
        "outputId": "a9a20bad-1010-4b73-9a1d-6068e91d9cca"
      },
      "execution_count": null,
      "outputs": [
        {
          "output_type": "stream",
          "name": "stdout",
          "text": [
            "[NbConvertApp] Converting notebook /seattle-airbnb-data-analysis.ipynb to html\n",
            "[NbConvertApp] Writing 1101832 bytes to /seattle-airbnb-data-analysis.html\n"
          ]
        }
      ]
    },
    {
      "cell_type": "code",
      "source": [
        "pip show numpy"
      ],
      "metadata": {
        "colab": {
          "base_uri": "https://localhost:8080/"
        },
        "id": "RWkxYXLGYEwI",
        "outputId": "4d036913-c245-4f89-a0d8-fcd67743ead6"
      },
      "execution_count": 4,
      "outputs": [
        {
          "output_type": "stream",
          "name": "stdout",
          "text": [
            "Name: numpy\n",
            "Version: 1.25.2\n",
            "Summary: Fundamental package for array computing in Python\n",
            "Home-page: https://www.numpy.org\n",
            "Author: Travis E. Oliphant et al.\n",
            "Author-email: \n",
            "License: BSD-3-Clause\n",
            "Location: /usr/local/lib/python3.10/dist-packages\n",
            "Requires: \n",
            "Required-by: albumentations, altair, arviz, astropy, autograd, blis, bokeh, bqplot, chex, cmdstanpy, contourpy, cufflinks, cupy-cuda12x, cvxpy, datascience, db-dtypes, dopamine-rl, ecos, flax, folium, geemap, gensim, gym, h5py, holoviews, hyperopt, ibis-framework, imageio, imbalanced-learn, imgaug, jax, jaxlib, librosa, lightgbm, matplotlib, matplotlib-venn, missingno, mizani, ml-dtypes, mlxtend, moviepy, music21, nibabel, numba, numexpr, opencv-contrib-python, opencv-python, opencv-python-headless, opt-einsum, optax, orbax-checkpoint, osqp, pandas, pandas-gbq, pandas-stubs, patsy, plotnine, prophet, pyarrow, pycocotools, pyerfa, pymc, pytensor, python-louvain, PyWavelets, qdldl, qudida, scikit-image, scikit-learn, scipy, scs, seaborn, shapely, sklearn-pandas, soxr, spacy, stanio, statsmodels, tables, tensorboard, tensorflow, tensorflow-datasets, tensorflow-hub, tensorflow-probability, tensorstore, thinc, tifffile, torchtext, torchvision, transformers, wordcloud, xarray, xarray-einstats, xgboost, yellowbrick, yfinance\n"
          ]
        }
      ]
    },
    {
      "cell_type": "code",
      "source": [
        "pip show pandas"
      ],
      "metadata": {
        "colab": {
          "base_uri": "https://localhost:8080/"
        },
        "id": "uS_gg0KlY8-U",
        "outputId": "08198ba5-7be1-4e74-8e93-e8905d6810e0"
      },
      "execution_count": 5,
      "outputs": [
        {
          "output_type": "stream",
          "name": "stdout",
          "text": [
            "Name: pandas\n",
            "Version: 2.0.3\n",
            "Summary: Powerful data structures for data analysis, time series, and statistics\n",
            "Home-page: \n",
            "Author: \n",
            "Author-email: The Pandas Development Team <pandas-dev@python.org>\n",
            "License: BSD 3-Clause License\n",
            "        \n",
            "        Copyright (c) 2008-2011, AQR Capital Management, LLC, Lambda Foundry, Inc. and PyData Development Team\n",
            "        All rights reserved.\n",
            "        \n",
            "        Copyright (c) 2011-2023, Open source contributors.\n",
            "        \n",
            "        Redistribution and use in source and binary forms, with or without\n",
            "        modification, are permitted provided that the following conditions are met:\n",
            "        \n",
            "        * Redistributions of source code must retain the above copyright notice, this\n",
            "          list of conditions and the following disclaimer.\n",
            "        \n",
            "        * Redistributions in binary form must reproduce the above copyright notice,\n",
            "          this list of conditions and the following disclaimer in the documentation\n",
            "          and/or other materials provided with the distribution.\n",
            "        \n",
            "        * Neither the name of the copyright holder nor the names of its\n",
            "          contributors may be used to endorse or promote products derived from\n",
            "          this software without specific prior written permission.\n",
            "        \n",
            "        THIS SOFTWARE IS PROVIDED BY THE COPYRIGHT HOLDERS AND CONTRIBUTORS \"AS IS\"\n",
            "        AND ANY EXPRESS OR IMPLIED WARRANTIES, INCLUDING, BUT NOT LIMITED TO, THE\n",
            "        IMPLIED WARRANTIES OF MERCHANTABILITY AND FITNESS FOR A PARTICULAR PURPOSE ARE\n",
            "        DISCLAIMED. IN NO EVENT SHALL THE COPYRIGHT HOLDER OR CONTRIBUTORS BE LIABLE\n",
            "        FOR ANY DIRECT, INDIRECT, INCIDENTAL, SPECIAL, EXEMPLARY, OR CONSEQUENTIAL\n",
            "        DAMAGES (INCLUDING, BUT NOT LIMITED TO, PROCUREMENT OF SUBSTITUTE GOODS OR\n",
            "        SERVICES; LOSS OF USE, DATA, OR PROFITS; OR BUSINESS INTERRUPTION) HOWEVER\n",
            "        CAUSED AND ON ANY THEORY OF LIABILITY, WHETHER IN CONTRACT, STRICT LIABILITY,\n",
            "        OR TORT (INCLUDING NEGLIGENCE OR OTHERWISE) ARISING IN ANY WAY OUT OF THE USE\n",
            "        OF THIS SOFTWARE, EVEN IF ADVISED OF THE POSSIBILITY OF SUCH DAMAGE.\n",
            "        \n",
            "Location: /usr/local/lib/python3.10/dist-packages\n",
            "Requires: numpy, python-dateutil, pytz, tzdata\n",
            "Required-by: altair, arviz, bigframes, bokeh, bqplot, cmdstanpy, cufflinks, datascience, db-dtypes, dopamine-rl, fastai, geemap, geopandas, google-colab, gspread-dataframe, holoviews, ibis-framework, mizani, mlxtend, pandas-datareader, pandas-gbq, panel, plotnine, prophet, pymc, seaborn, sklearn-pandas, statsmodels, vega-datasets, xarray, yfinance\n"
          ]
        }
      ]
    },
    {
      "cell_type": "code",
      "source": [
        "pip show matplotlib"
      ],
      "metadata": {
        "colab": {
          "base_uri": "https://localhost:8080/"
        },
        "id": "ChxNvyeNY_dw",
        "outputId": "5dfc6167-b201-4b70-8938-9b9049ba101d"
      },
      "execution_count": 6,
      "outputs": [
        {
          "output_type": "stream",
          "name": "stdout",
          "text": [
            "Name: matplotlib\n",
            "Version: 3.7.1\n",
            "Summary: Python plotting package\n",
            "Home-page: https://matplotlib.org\n",
            "Author: John D. Hunter, Michael Droettboom\n",
            "Author-email: matplotlib-users@python.org\n",
            "License: PSF\n",
            "Location: /usr/local/lib/python3.10/dist-packages\n",
            "Requires: contourpy, cycler, fonttools, kiwisolver, numpy, packaging, pillow, pyparsing, python-dateutil\n",
            "Required-by: arviz, bigframes, datascience, fastai, geemap, imgaug, matplotlib-venn, missingno, mizani, mlxtend, music21, plotnine, prophet, pycocotools, seaborn, wordcloud, yellowbrick\n"
          ]
        }
      ]
    },
    {
      "cell_type": "code",
      "source": [
        "pip show seaborn"
      ],
      "metadata": {
        "colab": {
          "base_uri": "https://localhost:8080/"
        },
        "id": "Jv0iBOLwZAGk",
        "outputId": "a2e7fc0d-b5a5-4b46-dea9-0bcd0cf77179"
      },
      "execution_count": 7,
      "outputs": [
        {
          "output_type": "stream",
          "name": "stdout",
          "text": [
            "Name: seaborn\n",
            "Version: 0.13.1\n",
            "Summary: Statistical data visualization\n",
            "Home-page: \n",
            "Author: \n",
            "Author-email: Michael Waskom <mwaskom@gmail.com>\n",
            "License: \n",
            "Location: /usr/local/lib/python3.10/dist-packages\n",
            "Requires: matplotlib, numpy, pandas\n",
            "Required-by: missingno\n"
          ]
        }
      ]
    },
    {
      "cell_type": "code",
      "source": [
        "pip show scikit-learn\n"
      ],
      "metadata": {
        "colab": {
          "base_uri": "https://localhost:8080/"
        },
        "id": "hhDiGjAoZDNU",
        "outputId": "e1d6f27a-ea45-48e1-896e-7b2d17f243d3"
      },
      "execution_count": 11,
      "outputs": [
        {
          "output_type": "stream",
          "name": "stdout",
          "text": [
            "Name: scikit-learn\n",
            "Version: 1.2.2\n",
            "Summary: A set of python modules for machine learning and data mining\n",
            "Home-page: http://scikit-learn.org\n",
            "Author: \n",
            "Author-email: \n",
            "License: new BSD\n",
            "Location: /usr/local/lib/python3.10/dist-packages\n",
            "Requires: joblib, numpy, scipy, threadpoolctl\n",
            "Required-by: bigframes, fastai, imbalanced-learn, librosa, mlxtend, qudida, sklearn-pandas, yellowbrick\n"
          ]
        }
      ]
    }
  ]
}